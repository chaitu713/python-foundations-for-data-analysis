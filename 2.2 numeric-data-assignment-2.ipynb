{
  "cells": [
    {
      "cell_type": "markdown",
      "metadata": {
        "id": "view-in-github",
        "colab_type": "text"
      },
      "source": [
        "<a href=\"https://colab.research.google.com/github/chaitu713/python-foundations-for-data-analysis/blob/master/2.2%20numeric-data-assignment-2.ipynb\" target=\"_parent\"><img src=\"https://colab.research.google.com/assets/colab-badge.svg\" alt=\"Open In Colab\"/></a>"
      ]
    },
    {
      "cell_type": "markdown",
      "id": "302f56b8",
      "metadata": {
        "id": "302f56b8"
      },
      "source": [
        "###  What are the highest and lowest priced items we sell?\n",
        "\n",
        "Based on the list of prices below. Use Python to determine this."
      ]
    },
    {
      "cell_type": "code",
      "execution_count": 1,
      "id": "5c6e2489",
      "metadata": {
        "colab": {
          "base_uri": "https://localhost:8080/"
        },
        "id": "5c6e2489",
        "outputId": "1745a941-a272-4322-bc9a-6fa56feaa3b0"
      },
      "outputs": [
        {
          "output_type": "stream",
          "name": "stdout",
          "text": [
            "49.99 129.99\n"
          ]
        }
      ],
      "source": [
        "price_list = [129.99, 99.99, 119.19, 99.99, 89.99, 79.99, 49.99]\n",
        "\n",
        "lowest_priced_item = min(price_list)\n",
        "highest_priced_item = max(price_list)\n",
        "\n",
        "print(lowest_priced_item, highest_priced_item)"
      ]
    },
    {
      "cell_type": "markdown",
      "id": "08a76ff6",
      "metadata": {
        "id": "08a76ff6"
      },
      "source": [
        "How much would it cost for a customer to purchase two of every item in the price list?"
      ]
    },
    {
      "cell_type": "code",
      "execution_count": 2,
      "id": "d41b2963",
      "metadata": {
        "colab": {
          "base_uri": "https://localhost:8080/"
        },
        "id": "d41b2963",
        "outputId": "d3d2403b-33a2-477a-dcc8-36ac917b69cf"
      },
      "outputs": [
        {
          "output_type": "execute_result",
          "data": {
            "text/plain": [
              "1338"
            ]
          },
          "metadata": {},
          "execution_count": 2
        }
      ],
      "source": [
        "round(2 * sum(price_list))"
      ]
    }
  ],
  "metadata": {
    "kernelspec": {
      "display_name": "Python 3 (ipykernel)",
      "language": "python",
      "name": "python3"
    },
    "language_info": {
      "codemirror_mode": {
        "name": "ipython",
        "version": 3
      },
      "file_extension": ".py",
      "mimetype": "text/x-python",
      "name": "python",
      "nbconvert_exporter": "python",
      "pygments_lexer": "ipython3",
      "version": "3.9.7"
    },
    "colab": {
      "provenance": [],
      "include_colab_link": true
    }
  },
  "nbformat": 4,
  "nbformat_minor": 5
}