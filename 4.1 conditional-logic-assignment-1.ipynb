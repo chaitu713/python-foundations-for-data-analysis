{
  "cells": [
    {
      "cell_type": "markdown",
      "metadata": {
        "id": "view-in-github",
        "colab_type": "text"
      },
      "source": [
        "<a href=\"https://colab.research.google.com/github/chaitu713/python-foundations-for-data-analysis/blob/master/4.1%20conditional-logic-assignment-1.ipynb\" target=\"_parent\"><img src=\"https://colab.research.google.com/assets/colab-badge.svg\" alt=\"Open In Colab\"/></a>"
      ]
    },
    {
      "cell_type": "markdown",
      "id": "f306059e",
      "metadata": {
        "id": "f306059e"
      },
      "source": [
        "### Inventory Logic\n",
        "\n",
        "I need you to create some logic that returns Boolean values depending on Inventory levels and other factors.\n",
        "\n",
        "Our current inventory level is 5 units."
      ]
    },
    {
      "cell_type": "code",
      "execution_count": 1,
      "id": "092f66b8",
      "metadata": {
        "id": "092f66b8"
      },
      "outputs": [],
      "source": [
        "inventory_count = 5"
      ]
    },
    {
      "cell_type": "markdown",
      "id": "e6093e31",
      "metadata": {
        "id": "e6093e31"
      },
      "source": [
        "### Do we have any stock?\n",
        "\n",
        "Write logic that returns True if we have 0 units of inventory."
      ]
    },
    {
      "cell_type": "code",
      "execution_count": 2,
      "id": "8da9b9a8",
      "metadata": {
        "colab": {
          "base_uri": "https://localhost:8080/"
        },
        "id": "8da9b9a8",
        "outputId": "1df60553-192a-4a89-dc50-a24108c8615d"
      },
      "outputs": [
        {
          "output_type": "execute_result",
          "data": {
            "text/plain": [
              "False"
            ]
          },
          "metadata": {},
          "execution_count": 2
        }
      ],
      "source": [
        "inventory_count == 0"
      ]
    },
    {
      "cell_type": "markdown",
      "id": "5ad239a7",
      "metadata": {
        "id": "5ad239a7"
      },
      "source": [
        "### Do we have a safe level of inventory?\n",
        "\n",
        "Write logic that returns True if we have more than five units of inventory."
      ]
    },
    {
      "cell_type": "code",
      "execution_count": 3,
      "id": "f8f7ff90",
      "metadata": {
        "colab": {
          "base_uri": "https://localhost:8080/"
        },
        "id": "f8f7ff90",
        "outputId": "fa91158f-b54d-477a-96d0-9a6621b95170"
      },
      "outputs": [
        {
          "output_type": "execute_result",
          "data": {
            "text/plain": [
              "False"
            ]
          },
          "metadata": {},
          "execution_count": 3
        }
      ],
      "source": [
        "inventory_count > 5"
      ]
    },
    {
      "cell_type": "markdown",
      "id": "49bbb57f",
      "metadata": {
        "id": "49bbb57f"
      },
      "source": [
        "### Display price if we have more than five units of inventory\n",
        "\n",
        "Now, write logic that displays the price of our product if we have more than five units of inventory, and 0.0 if not.\n",
        "\n",
        "Our current price is 99.99."
      ]
    },
    {
      "cell_type": "code",
      "execution_count": 4,
      "id": "7d1fe791",
      "metadata": {
        "colab": {
          "base_uri": "https://localhost:8080/"
        },
        "id": "7d1fe791",
        "outputId": "cd31e807-21d1-4e18-cf6a-a2e66c0c4461"
      },
      "outputs": [
        {
          "output_type": "execute_result",
          "data": {
            "text/plain": [
              "0.0"
            ]
          },
          "metadata": {},
          "execution_count": 4
        }
      ],
      "source": [
        "inventory_count = 5\n",
        "\n",
        "(inventory_count > 5) * 99.99"
      ]
    },
    {
      "cell_type": "markdown",
      "id": "a658be31",
      "metadata": {
        "id": "a658be31"
      },
      "source": [
        "### Discount Sale Item Flag\n",
        "\n",
        "Now write logic that returns True if inventory is greater than 0 and the product price is less than 100 dollars."
      ]
    },
    {
      "cell_type": "code",
      "execution_count": 5,
      "id": "3da81983",
      "metadata": {
        "colab": {
          "base_uri": "https://localhost:8080/"
        },
        "id": "3da81983",
        "outputId": "7eb4bc7a-27ba-4867-97c7-73ed984d5293"
      },
      "outputs": [
        {
          "output_type": "execute_result",
          "data": {
            "text/plain": [
              "True"
            ]
          },
          "metadata": {},
          "execution_count": 5
        }
      ],
      "source": [
        "product_price = 99.99\n",
        "\n",
        "(inventory_count > 0) and (product_price < 100)"
      ]
    },
    {
      "cell_type": "markdown",
      "id": "0e16597b",
      "metadata": {
        "id": "0e16597b"
      },
      "source": [
        "### Special Customer Flag\n",
        "\n",
        "Finally, we need to create logic that returns True if inventory is greater than 0, or the customer's name is Chris AND the product is named 'super_snowboard'."
      ]
    },
    {
      "cell_type": "code",
      "execution_count": 7,
      "id": "50fa1724",
      "metadata": {
        "colab": {
          "base_uri": "https://localhost:8080/"
        },
        "id": "50fa1724",
        "outputId": "eaa075bc-27cc-4d6e-9c2a-03d9b5fe96e8"
      },
      "outputs": [
        {
          "output_type": "execute_result",
          "data": {
            "text/plain": [
              "True"
            ]
          },
          "metadata": {},
          "execution_count": 7
        }
      ],
      "source": [
        "customer_name = 'Chris'\n",
        "inventory_count = 0\n",
        "product = 'super_snowboard'\n",
        "\n",
        "(inventory_count > 0) or (customer_name == 'Chris' and product == 'super_snowboard')"
      ]
    }
  ],
  "metadata": {
    "kernelspec": {
      "display_name": "Python 3 (ipykernel)",
      "language": "python",
      "name": "python3"
    },
    "language_info": {
      "codemirror_mode": {
        "name": "ipython",
        "version": 3
      },
      "file_extension": ".py",
      "mimetype": "text/x-python",
      "name": "python",
      "nbconvert_exporter": "python",
      "pygments_lexer": "ipython3",
      "version": "3.9.7"
    },
    "colab": {
      "provenance": [],
      "include_colab_link": true
    }
  },
  "nbformat": 4,
  "nbformat_minor": 5
}