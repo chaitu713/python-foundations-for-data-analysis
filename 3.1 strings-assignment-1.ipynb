{
  "cells": [
    {
      "cell_type": "markdown",
      "metadata": {
        "id": "view-in-github",
        "colab_type": "text"
      },
      "source": [
        "<a href=\"https://colab.research.google.com/github/chaitu713/python-foundations-for-data-analysis/blob/master/3.1%20strings-assignment-1.ipynb\" target=\"_parent\"><img src=\"https://colab.research.google.com/assets/colab-badge.svg\" alt=\"Open In Colab\"/></a>"
      ]
    },
    {
      "cell_type": "markdown",
      "id": "64ecc688",
      "metadata": {
        "id": "64ecc688"
      },
      "source": [
        "### Password Retrieval\n",
        "\n",
        "* Spell the word 'Maven' by grabbing one letter from each text message"
      ]
    },
    {
      "cell_type": "code",
      "execution_count": 2,
      "id": "b5f889bd",
      "metadata": {
        "id": "b5f889bd"
      },
      "outputs": [],
      "source": [
        "text1 = '          Your friend Mark'\n",
        "text2 = 'was'\n",
        "text3 = 'having'\n",
        "text4 = 'a great day'\n",
        "text5 = 'on the mountain'"
      ]
    },
    {
      "cell_type": "code",
      "execution_count": 3,
      "id": "4854f6a6",
      "metadata": {
        "colab": {
          "base_uri": "https://localhost:8080/"
        },
        "id": "4854f6a6",
        "outputId": "3dfbd7e0-2a10-4e08-93a5-caa50caa43f1"
      },
      "outputs": [
        {
          "output_type": "stream",
          "name": "stdout",
          "text": [
            "The secret password is Maven\n"
          ]
        }
      ],
      "source": [
        "# Your code goes here - combine the letters in to a word and assign to the variable 'maven'\n",
        "maven = text1[-4] + text2[1] + text3[2] + text4[4] + text5[-1]\n",
        "\n",
        "print('The secret password is ' + maven)"
      ]
    }
  ],
  "metadata": {
    "kernelspec": {
      "display_name": "Python 3 (ipykernel)",
      "language": "python",
      "name": "python3"
    },
    "language_info": {
      "codemirror_mode": {
        "name": "ipython",
        "version": 3
      },
      "file_extension": ".py",
      "mimetype": "text/x-python",
      "name": "python",
      "nbconvert_exporter": "python",
      "pygments_lexer": "ipython3",
      "version": "3.9.7"
    },
    "colab": {
      "provenance": [],
      "include_colab_link": true
    }
  },
  "nbformat": 4,
  "nbformat_minor": 5
}