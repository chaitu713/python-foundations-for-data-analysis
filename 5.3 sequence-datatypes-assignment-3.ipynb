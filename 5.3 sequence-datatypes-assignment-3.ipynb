{
  "cells": [
    {
      "cell_type": "markdown",
      "metadata": {
        "id": "view-in-github",
        "colab_type": "text"
      },
      "source": [
        "<a href=\"https://colab.research.google.com/github/chaitu713/python-foundations-for-data-analysis/blob/master/5.3%20sequence-datatypes-assignment-3.ipynb\" target=\"_parent\"><img src=\"https://colab.research.google.com/assets/colab-badge.svg\" alt=\"Open In Colab\"/></a>"
      ]
    },
    {
      "cell_type": "markdown",
      "id": "ae2f2fd5",
      "metadata": {
        "id": "ae2f2fd5"
      },
      "source": [
        "### Updated Customer Lists (Final Update)\n",
        "\n",
        "We now need to remove the Saturday customers from the list. \n",
        "\n",
        "I've included the full `customer_list` below.\n",
        "\n",
        "The Saturday customers are the final seven customers in `customer_list`. "
      ]
    },
    {
      "cell_type": "code",
      "execution_count": 1,
      "id": "b0c0e5cd",
      "metadata": {
        "id": "b0c0e5cd"
      },
      "outputs": [],
      "source": [
        "# run this cell to create the list\n",
        "customer_list = [\n",
        "    'C00001', 'C00003', 'C00004', 'C00005', 'C00006',\n",
        "    'C00007', 'C00008', 'C00009', 'C00010', 'C00013', \n",
        "    'C00014', 'C00015', 'C00016', 'C00020', 'C00004', \n",
        "    'C00017', 'C00019', 'C00002', 'C00008', 'C00021',\n",
        "    'C00022'\n",
        "]\n"
      ]
    },
    {
      "cell_type": "code",
      "execution_count": 2,
      "id": "2ce71f62",
      "metadata": {
        "colab": {
          "base_uri": "https://localhost:8080/"
        },
        "id": "2ce71f62",
        "outputId": "2f1b75e0-854e-4c1c-fa5e-9df19d51800f"
      },
      "outputs": [
        {
          "output_type": "stream",
          "name": "stdout",
          "text": [
            "['C00001', 'C00003', 'C00004', 'C00005', 'C00006', 'C00007', 'C00008', 'C00009', 'C00010', 'C00013', 'C00014', 'C00015', 'C00016', 'C00020']\n"
          ]
        }
      ],
      "source": [
        "del customer_list[-7:]\n",
        "\n",
        "print(customer_list)"
      ]
    },
    {
      "cell_type": "markdown",
      "id": "343fab8c",
      "metadata": {
        "id": "343fab8c"
      },
      "source": [
        "### Delete a friend\n",
        "\n",
        "Please remove customer 'C00004' from the reduced list you just created. This is a friend of the owner and shouldn't be recorded as a sale."
      ]
    },
    {
      "cell_type": "code",
      "execution_count": 3,
      "id": "d796c0bb",
      "metadata": {
        "colab": {
          "base_uri": "https://localhost:8080/"
        },
        "id": "d796c0bb",
        "outputId": "953d261a-3b67-4159-b344-a57a2b8b2816"
      },
      "outputs": [
        {
          "output_type": "stream",
          "name": "stdout",
          "text": [
            "['C00001', 'C00003', 'C00005', 'C00006', 'C00007', 'C00008', 'C00009', 'C00010', 'C00013', 'C00014', 'C00015', 'C00016', 'C00020']\n"
          ]
        }
      ],
      "source": [
        "customer_list.remove('C00004')\n",
        "\n",
        "print(customer_list)"
      ]
    }
  ],
  "metadata": {
    "kernelspec": {
      "display_name": "Python 3 (ipykernel)",
      "language": "python",
      "name": "python3"
    },
    "language_info": {
      "codemirror_mode": {
        "name": "ipython",
        "version": 3
      },
      "file_extension": ".py",
      "mimetype": "text/x-python",
      "name": "python",
      "nbconvert_exporter": "python",
      "pygments_lexer": "ipython3",
      "version": "3.9.7"
    },
    "colab": {
      "provenance": [],
      "include_colab_link": true
    }
  },
  "nbformat": 4,
  "nbformat_minor": 5
}