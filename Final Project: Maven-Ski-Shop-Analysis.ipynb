{
  "cells": [
    {
      "cell_type": "markdown",
      "metadata": {
        "id": "view-in-github",
        "colab_type": "text"
      },
      "source": [
        "<a href=\"https://colab.research.google.com/github/chaitu713/python-foundations-for-data-analysis/blob/master/Final%20Project%3A%20Maven-Ski-Shop-Analysis.ipynb\" target=\"_parent\"><img src=\"https://colab.research.google.com/assets/colab-badge.svg\" alt=\"Open In Colab\"/></a>"
      ]
    },
    {
      "cell_type": "markdown",
      "id": "2d7d830c",
      "metadata": {
        "id": "2d7d830c"
      },
      "source": [
        "# Final Project: Black Friday Excel Data"
      ]
    },
    {
      "cell_type": "code",
      "execution_count": 3,
      "id": "59343dde",
      "metadata": {
        "id": "59343dde"
      },
      "outputs": [],
      "source": [
        "import openpyxl as xl\n",
        "from tax_cal import tax_calculator\n",
        "# pprint prints dictionaries a bit more nicely than print\n",
        "from pprint import pprint"
      ]
    },
    {
      "cell_type": "markdown",
      "id": "b323bd31",
      "metadata": {
        "id": "b323bd31"
      },
      "source": [
        "## Part 1\n",
        "\n",
        "First, read in maven_ski_shop_data.xlsx\n",
        "\n",
        "Then, assign the orders worksheet to an intuitive variable name. "
      ]
    },
    {
      "cell_type": "code",
      "execution_count": 4,
      "id": "d4407995",
      "metadata": {
        "id": "d4407995"
      },
      "outputs": [],
      "source": [
        "workbook = xl.load_workbook(filename = '/content/maven_ski_shop_data.xlsx')\n",
        "\n",
        "orders = workbook['Orders_Info']"
      ]
    },
    {
      "cell_type": "markdown",
      "id": "0fdff76c",
      "metadata": {
        "id": "0fdff76c"
      },
      "source": [
        "### Column Printer Function\n",
        "\n",
        "Since we'll be working with Excel frequently, let's create a helper function to print all the rows a specified column.\n",
        "\n",
        "This will help us view imported data without looking at Excel, and review the data we've written into columns without needing to save a file to review the changes.\n",
        "\n",
        "Your function should take two arguments:\n",
        "\n",
        "* Worksheet where data is located\n",
        "* Column Letter of data to print\n",
        "\n",
        "Your function should:\n",
        "\n",
        "* Print Cell Coordinate (e.g. A1, D4).\n",
        "* Print the contents of the cell.\n",
        "\n",
        "Then call your function twice:\n",
        "\n",
        "* Once to print Order ID (column A in 'Orders_Info')\n",
        "* Once to print subtotal (column D in 'Orders_Info')"
      ]
    },
    {
      "cell_type": "code",
      "execution_count": 10,
      "id": "239d64b3",
      "metadata": {
        "id": "239d64b3"
      },
      "outputs": [],
      "source": [
        "def column_printer(sheet, column):\n",
        "  for i in range(1, sheet.max_row + 1):\n",
        "    print(f'{column}{i}', sheet[f'{column}{i}'].value)"
      ]
    },
    {
      "cell_type": "code",
      "execution_count": 11,
      "id": "8146bf34",
      "metadata": {
        "colab": {
          "base_uri": "https://localhost:8080/"
        },
        "id": "8146bf34",
        "outputId": "9e82c23f-365a-47b0-d580-5490fbec0abc"
      },
      "outputs": [
        {
          "output_type": "stream",
          "name": "stdout",
          "text": [
            "A1 Order_ID\n",
            "A2 100000\n",
            "A3 100001\n",
            "A4 100002\n",
            "A5 100003\n",
            "A6 100004\n",
            "A7 100005\n",
            "A8 100006\n",
            "A9 100007\n",
            "A10 100008\n",
            "A11 100009\n",
            "A12 100010\n",
            "A13 100011\n",
            "A14 100012\n",
            "A15 100013\n",
            "A16 100014\n",
            "A17 100020\n",
            "A18 100021\n",
            "A19 100022\n",
            "A20 100023\n",
            "A21 100024\n",
            "A22 100025\n",
            "A23 100026\n",
            "A24 100027\n",
            "A25 100031\n",
            "A26 100032\n",
            "A27 100033\n",
            "A28 100034\n"
          ]
        }
      ],
      "source": [
        "column_printer(orders, 'A')"
      ]
    },
    {
      "cell_type": "code",
      "execution_count": 12,
      "id": "b653f668",
      "metadata": {
        "colab": {
          "base_uri": "https://localhost:8080/"
        },
        "id": "b653f668",
        "outputId": "f92bc78d-797e-488d-9946-7d0627242513"
      },
      "outputs": [
        {
          "output_type": "stream",
          "name": "stdout",
          "text": [
            "D1 Subtotal\n",
            "D2 15.98\n",
            "D3 899.97\n",
            "D4 799.97\n",
            "D5 117.96\n",
            "D6 5.99\n",
            "D7 599.99\n",
            "D8 24.99\n",
            "D9 1799.94\n",
            "D10 99.99\n",
            "D11 254.95\n",
            "D12 29.98\n",
            "D13 99.99\n",
            "D14 25.98\n",
            "D15 649.98\n",
            "D16 89.99\n",
            "D17 119.99\n",
            "D18 599.99\n",
            "D19 649.98\n",
            "D20 24.99\n",
            "D21 99.99\n",
            "D22 99.99\n",
            "D23 5.99\n",
            "D24 24.99\n",
            "D25 999.96\n",
            "D26 99.99\n",
            "D27 399.97\n",
            "D28 89.99\n"
          ]
        }
      ],
      "source": [
        "column_printer(orders, 'D')"
      ]
    },
    {
      "cell_type": "markdown",
      "id": "b4b6d8ea",
      "metadata": {
        "id": "b4b6d8ea"
      },
      "source": [
        "### Order Data Dictionary\n",
        "\n",
        "Create a dictionary with all of the information contained in the 'Orders_Info' Worksheet.\n",
        "\n",
        "* The dictionary keys should be Order IDs (Column A)\n",
        "* The values should a list storing the data in the rest of the columns.\n",
        "* The columns in the list stored as values should be B, C, D, G, and H (after converting to list). \n",
        "* For example: The first order, column H should be the nested list: [10001, 10002]\n",
        "\n",
        "\n",
        "A few notes:\n",
        "\n",
        "* Convert the Items_Ordered field into a list (we covered a helpful string method for this)\n",
        "* This can be done with a dictionary comprehension\n",
        "* DO NOT INCLUDE EXCEL COLUMN HEADERS"
      ]
    },
    {
      "cell_type": "code",
      "execution_count": 13,
      "id": "0bbb4a35",
      "metadata": {
        "id": "0bbb4a35"
      },
      "outputs": [],
      "source": [
        "order_dict = {\n",
        "    orders[f'A{order}'].value: [\n",
        "        orders[f'B{order}'].value,\n",
        "        orders[f'C{order}'].value,\n",
        "        orders[f'D{order}'].value,\n",
        "        orders[f'G{order}'].value,\n",
        "        str(orders[f'H{order}'].value).split(', ')\n",
        "    ]\n",
        "\n",
        "    for order in range(2, orders.max_row + 1)\n",
        "}"
      ]
    },
    {
      "cell_type": "code",
      "execution_count": 14,
      "id": "78c7cdd2",
      "metadata": {
        "colab": {
          "base_uri": "https://localhost:8080/"
        },
        "id": "78c7cdd2",
        "outputId": "1728962a-3bd7-457b-fcfa-ef39ec841cf7"
      },
      "outputs": [
        {
          "output_type": "stream",
          "name": "stdout",
          "text": [
            "{100000: ['C00004', '11/26/2021', 15.98, 'Sun Valley', ['10001', '10002']],\n",
            " 100001: ['C00007', '11/26/2021', 899.97, 'Stowe', ['10008', '10009', '10010']],\n",
            " 100002: ['C00015',\n",
            "          '11/26/2021',\n",
            "          799.97,\n",
            "          'Mammoth',\n",
            "          ['10011', '10012', '10013']],\n",
            " 100003: ['C00016',\n",
            "          '11/26/2021',\n",
            "          117.96,\n",
            "          'Stowe',\n",
            "          ['10002', '10003', '10004', '10006']],\n",
            " 100004: ['C00020', '11/26/2021', 5.99, 'Sun Valley', ['10001']],\n",
            " 100005: ['C00010', '11/26/2021', 599.99, 'Mammoth', ['10010']],\n",
            " 100006: ['C00006', '11/26/2021', 24.99, 'Mammoth', ['10004']],\n",
            " 100007: ['C00001',\n",
            "          '11/26/2021',\n",
            "          1799.94,\n",
            "          'Mammoth',\n",
            "          ['10008', '10008', '10009', '10009', '10009', '10010', '10010']],\n",
            " 100008: ['C00003', '11/26/2021', 99.99, 'Sun Valley', ['10005']],\n",
            " 100009: ['C00014',\n",
            "          '11/26/2021',\n",
            "          254.95,\n",
            "          'Sun Valley',\n",
            "          ['10002', '10003', '10004', '10006', '10007']],\n",
            " 100010: ['C00001', '11/26/2021', 29.98, 'Mammoth', ['10002', '10003']],\n",
            " 100011: ['C00001', '11/26/2021', 99.99, 'Mammoth', ['10005']],\n",
            " 100012: ['C00005', '11/26/2021', 25.98, 'Sun Valley', ['10001', '10003']],\n",
            " 100013: ['C00008', '11/26/2021', 649.98, 'Stowe', ['10012', '10013']],\n",
            " 100014: ['C00013', '11/26/2021', 89.99, 'Sun Valley', ['10014']],\n",
            " 100020: ['C00004', '11/27/2021', 119.99, 'Sun Valley', ['10007']],\n",
            " 100021: ['C00017', '11/27/2021', 599.99, 'Stowe', ['10010']],\n",
            " 100022: ['C00019', '11/27/2021', 649.98, 'Sun Valley', ['10012', '10013']],\n",
            " 100023: ['C00002', '11/27/2021', 24.99, 'Stowe', ['10004']],\n",
            " 100024: ['C00008', '11/27/2021', 99.99, 'Stowe', ['10005']],\n",
            " 100025: ['C00021', '11/27/2021', 99.99, 'Mammoth', ['10008']],\n",
            " 100026: ['C00022', '11/27/2021', 5.99, 'Sun Valley', ['10001']],\n",
            " 100027: ['C00006', '11/28/2021', 24.99, 'Mammoth', ['10002']],\n",
            " 100031: ['C00018',\n",
            "          '11/28/2021',\n",
            "          999.96,\n",
            "          'Stowe',\n",
            "          ['10005', '10008', '10009', '10010']],\n",
            " 100032: ['C00018', '11/28/2021', 99.99, 'Stowe', ['10006']],\n",
            " 100033: ['C00010',\n",
            "          '11/28/2021',\n",
            "          399.97,\n",
            "          'Mammoth',\n",
            "          ['10005', '10008', '10009']],\n",
            " 100034: ['C00016', '11/28/2021', 89.99, 'Stowe', ['10014']]}\n"
          ]
        }
      ],
      "source": [
        "pprint(order_dict)"
      ]
    },
    {
      "cell_type": "markdown",
      "id": "0a01af28",
      "metadata": {
        "id": "0a01af28"
      },
      "source": [
        "### Sales Tax Calculation (Last time!)\n",
        "\n",
        "We need to calculate the sales tax and total amount owed for every order in this sheet.\n",
        "\n",
        "* If location is Sun Valley, apply a sales tax of 8%\n",
        "* If location is Mammoth, apply a sales tax of 7.75%.\n",
        "* If location is Stowe, apply a sales tax of 6%\n",
        "\n",
        "Use the tax_calculator function to apply sales tax to each subtotal.\n",
        "\n",
        "**Insert** the calculated sales tax and total amounts into your customer dictionary immediately after subtotal.\n",
        "\n",
        "**Tip**: Figure out how to do this once and then loop through the column."
      ]
    },
    {
      "cell_type": "code",
      "execution_count": 15,
      "id": "4e1c1e6a",
      "metadata": {
        "scrolled": false,
        "id": "4e1c1e6a"
      },
      "outputs": [],
      "source": [
        "for order in order_dict.values():\n",
        "  if order[3] == 'Sun Valley':\n",
        "    transaction = tax_calculator(order[2], 0.08)\n",
        "  elif order[3] == 'Mammoth':\n",
        "    transaction = tax_calculator(order[2], 0.0775)\n",
        "  elif order[3] == 'Stowe':\n",
        "    transaction = tax_calculator(order[2], 0.06)\n",
        "  else:\n",
        "    print(\"Location is incorrect\")\n",
        "  \n",
        "  order.insert(3, transaction[1])\n",
        "  order.insert(4, transaction[2])"
      ]
    },
    {
      "cell_type": "code",
      "execution_count": 16,
      "id": "a0d8d395",
      "metadata": {
        "colab": {
          "base_uri": "https://localhost:8080/"
        },
        "id": "a0d8d395",
        "outputId": "ee92918d-d010-42bd-e29e-300fd03fa03d"
      },
      "outputs": [
        {
          "output_type": "stream",
          "name": "stdout",
          "text": [
            "{100000: ['C00004',\n",
            "          '11/26/2021',\n",
            "          15.98,\n",
            "          1.28,\n",
            "          17.26,\n",
            "          'Sun Valley',\n",
            "          ['10001', '10002']],\n",
            " 100001: ['C00007',\n",
            "          '11/26/2021',\n",
            "          899.97,\n",
            "          54.0,\n",
            "          953.97,\n",
            "          'Stowe',\n",
            "          ['10008', '10009', '10010']],\n",
            " 100002: ['C00015',\n",
            "          '11/26/2021',\n",
            "          799.97,\n",
            "          62.0,\n",
            "          861.97,\n",
            "          'Mammoth',\n",
            "          ['10011', '10012', '10013']],\n",
            " 100003: ['C00016',\n",
            "          '11/26/2021',\n",
            "          117.96,\n",
            "          7.08,\n",
            "          125.04,\n",
            "          'Stowe',\n",
            "          ['10002', '10003', '10004', '10006']],\n",
            " 100004: ['C00020', '11/26/2021', 5.99, 0.48, 6.47, 'Sun Valley', ['10001']],\n",
            " 100005: ['C00010', '11/26/2021', 599.99, 46.5, 646.49, 'Mammoth', ['10010']],\n",
            " 100006: ['C00006', '11/26/2021', 24.99, 1.94, 26.93, 'Mammoth', ['10004']],\n",
            " 100007: ['C00001',\n",
            "          '11/26/2021',\n",
            "          1799.94,\n",
            "          139.5,\n",
            "          1939.44,\n",
            "          'Mammoth',\n",
            "          ['10008', '10008', '10009', '10009', '10009', '10010', '10010']],\n",
            " 100008: ['C00003', '11/26/2021', 99.99, 8.0, 107.99, 'Sun Valley', ['10005']],\n",
            " 100009: ['C00014',\n",
            "          '11/26/2021',\n",
            "          254.95,\n",
            "          20.4,\n",
            "          275.35,\n",
            "          'Sun Valley',\n",
            "          ['10002', '10003', '10004', '10006', '10007']],\n",
            " 100010: ['C00001',\n",
            "          '11/26/2021',\n",
            "          29.98,\n",
            "          2.32,\n",
            "          32.3,\n",
            "          'Mammoth',\n",
            "          ['10002', '10003']],\n",
            " 100011: ['C00001', '11/26/2021', 99.99, 7.75, 107.74, 'Mammoth', ['10005']],\n",
            " 100012: ['C00005',\n",
            "          '11/26/2021',\n",
            "          25.98,\n",
            "          2.08,\n",
            "          28.06,\n",
            "          'Sun Valley',\n",
            "          ['10001', '10003']],\n",
            " 100013: ['C00008',\n",
            "          '11/26/2021',\n",
            "          649.98,\n",
            "          39.0,\n",
            "          688.98,\n",
            "          'Stowe',\n",
            "          ['10012', '10013']],\n",
            " 100014: ['C00013', '11/26/2021', 89.99, 7.2, 97.19, 'Sun Valley', ['10014']],\n",
            " 100020: ['C00004', '11/27/2021', 119.99, 9.6, 129.59, 'Sun Valley', ['10007']],\n",
            " 100021: ['C00017', '11/27/2021', 599.99, 36.0, 635.99, 'Stowe', ['10010']],\n",
            " 100022: ['C00019',\n",
            "          '11/27/2021',\n",
            "          649.98,\n",
            "          52.0,\n",
            "          701.98,\n",
            "          'Sun Valley',\n",
            "          ['10012', '10013']],\n",
            " 100023: ['C00002', '11/27/2021', 24.99, 1.5, 26.49, 'Stowe', ['10004']],\n",
            " 100024: ['C00008', '11/27/2021', 99.99, 6.0, 105.99, 'Stowe', ['10005']],\n",
            " 100025: ['C00021', '11/27/2021', 99.99, 7.75, 107.74, 'Mammoth', ['10008']],\n",
            " 100026: ['C00022', '11/27/2021', 5.99, 0.48, 6.47, 'Sun Valley', ['10001']],\n",
            " 100027: ['C00006', '11/28/2021', 24.99, 1.94, 26.93, 'Mammoth', ['10002']],\n",
            " 100031: ['C00018',\n",
            "          '11/28/2021',\n",
            "          999.96,\n",
            "          60.0,\n",
            "          1059.96,\n",
            "          'Stowe',\n",
            "          ['10005', '10008', '10009', '10010']],\n",
            " 100032: ['C00018', '11/28/2021', 99.99, 6.0, 105.99, 'Stowe', ['10006']],\n",
            " 100033: ['C00010',\n",
            "          '11/28/2021',\n",
            "          399.97,\n",
            "          31.0,\n",
            "          430.97,\n",
            "          'Mammoth',\n",
            "          ['10005', '10008', '10009']],\n",
            " 100034: ['C00016', '11/28/2021', 89.99, 5.4, 95.39, 'Stowe', ['10014']]}\n"
          ]
        }
      ],
      "source": [
        "pprint(order_dict)"
      ]
    },
    {
      "cell_type": "markdown",
      "id": "5d3460da",
      "metadata": {
        "id": "5d3460da"
      },
      "source": [
        "### Write Sales Tax and Total Into the Excel Sheet\n",
        "\n",
        "\n",
        "Great job! Now we just need to write this data into the workbook.\n",
        "\n",
        "Write the sales tax and total you just calculated into the workbook, then save!\n",
        "\n",
        "Call this workbook 'maven_ski_shop_data_fixed'.\n",
        "\n",
        "**Tip:** There are a few ways to do this. As always, be patient, solve one step at a time."
      ]
    },
    {
      "cell_type": "code",
      "execution_count": 17,
      "id": "957e2656",
      "metadata": {
        "id": "957e2656"
      },
      "outputs": [],
      "source": [
        "for index, order in enumerate(order_dict.values(), start = 2):\n",
        "  orders[f'E{index}'] = order[3]\n",
        "  orders[f'F{index}'] = order[4]"
      ]
    },
    {
      "cell_type": "code",
      "execution_count": 18,
      "id": "0ed681d9",
      "metadata": {
        "id": "0ed681d9"
      },
      "outputs": [],
      "source": [
        "# write sales_tax and total into workbook\n",
        "\n",
        "workbook.save('maven_ski_shop_data_fixed.xlsx')"
      ]
    },
    {
      "cell_type": "markdown",
      "id": "328ba670",
      "metadata": {
        "id": "328ba670"
      },
      "source": [
        "## Part 2\n",
        "\n",
        "### Analysis Time!\n",
        "\n",
        "\n",
        "Now that we've fixed the data - it's time to perform analysis on our sales.\n",
        "\n",
        "Our starting point will be the order_dict we created, after we added the taxes and totals columns.\n",
        "\n",
        "Our first step will be to write a function that calculates the sum of a 'column' of data in our dictionary.\n",
        "\n",
        "A 'column' for example, would be subtotals, which is at index 2 in the list stored as our dictionary values.\n",
        "\n",
        "Your function should take the following arguments:\n",
        "\n",
        "* Column Index (the index of the data of interest in the list stored in our dictionary values)\n",
        "* Dictionary Name\n",
        "\n",
        "It should output:\n",
        "\n",
        "* The sum of values in the column (rounded to two decimal places)\n",
        "\n",
        "Assume only numeric values will be in the column (You can develop cleaning logic later :D)\n",
        "\n",
        "**Tip:** Use a list comprehension to retrieve the values of interest."
      ]
    },
    {
      "cell_type": "code",
      "source": [
        "order_dict[100001]"
      ],
      "metadata": {
        "colab": {
          "base_uri": "https://localhost:8080/"
        },
        "id": "aRzpCKRirm0l",
        "outputId": "4a023ad4-c43c-40a4-c399-7f7667becb4d"
      },
      "id": "aRzpCKRirm0l",
      "execution_count": 19,
      "outputs": [
        {
          "output_type": "execute_result",
          "data": {
            "text/plain": [
              "['C00007',\n",
              " '11/26/2021',\n",
              " 899.97,\n",
              " 54.0,\n",
              " 953.97,\n",
              " 'Stowe',\n",
              " ['10008', '10009', '10010']]"
            ]
          },
          "metadata": {},
          "execution_count": 19
        }
      ]
    },
    {
      "cell_type": "code",
      "execution_count": 20,
      "id": "284693e9",
      "metadata": {
        "id": "284693e9"
      },
      "outputs": [],
      "source": [
        "def column_sum(column_index, dictionary):\n",
        "  return round(sum([value[column_index] for value in dictionary.values()]), 2)"
      ]
    },
    {
      "cell_type": "markdown",
      "id": "d83413fe",
      "metadata": {
        "id": "d83413fe"
      },
      "source": [
        "#### Sum The Subtotal, Tax, and Total Columns \n",
        "\n",
        "Now that we have our column sum function, calculate the sum of:\n",
        "\n",
        "* Subtotals\n",
        "* Taxes\n",
        "* Totals"
      ]
    },
    {
      "cell_type": "code",
      "execution_count": 21,
      "id": "f96d2f45",
      "metadata": {
        "scrolled": true,
        "colab": {
          "base_uri": "https://localhost:8080/"
        },
        "id": "f96d2f45",
        "outputId": "95c405a1-8762-4d43-a151-458bc1983ac8"
      },
      "outputs": [
        {
          "output_type": "stream",
          "name": "stdout",
          "text": [
            "8731.47\n",
            "617.2\n",
            "9348.67\n"
          ]
        }
      ],
      "source": [
        "print(column_sum(2, order_dict))\n",
        "print(column_sum(3, order_dict))\n",
        "print(column_sum(4, order_dict))"
      ]
    },
    {
      "cell_type": "markdown",
      "id": "b2720242",
      "metadata": {
        "id": "b2720242"
      },
      "source": [
        "### What is the average of our subtotals?\n",
        "\n",
        "Calculate the average value of our transactions.\n",
        "\n",
        "Remember that each entry in your dictionary is one order."
      ]
    },
    {
      "cell_type": "code",
      "execution_count": 22,
      "id": "1aa1093a",
      "metadata": {
        "colab": {
          "base_uri": "https://localhost:8080/"
        },
        "id": "1aa1093a",
        "outputId": "887c94dd-06b5-4a80-bc8c-67d37f32bf4b"
      },
      "outputs": [
        {
          "output_type": "execute_result",
          "data": {
            "text/plain": [
              "323.39"
            ]
          },
          "metadata": {},
          "execution_count": 22
        }
      ],
      "source": [
        "round(column_sum(2, order_dict) / len(order_dict), 2)"
      ]
    },
    {
      "cell_type": "markdown",
      "id": "fa8f7168",
      "metadata": {
        "id": "fa8f7168"
      },
      "source": [
        "### How many unique customers did we have?\n",
        "\n",
        "Calculate the total number of unique customers in our sales data.\n",
        "\n",
        "Then calculate the number of orders per customer (total orders / unique customers)"
      ]
    },
    {
      "cell_type": "code",
      "execution_count": 25,
      "id": "7af182d6",
      "metadata": {
        "colab": {
          "base_uri": "https://localhost:8080/"
        },
        "id": "7af182d6",
        "outputId": "84460483-9be7-4244-d196-016c51c360bc"
      },
      "outputs": [
        {
          "output_type": "execute_result",
          "data": {
            "text/plain": [
              "19"
            ]
          },
          "metadata": {},
          "execution_count": 25
        }
      ],
      "source": [
        "unique_customers = len(set([order[0] for order in order_dict.values()]))\n",
        "\n",
        "unique_customers"
      ]
    },
    {
      "cell_type": "code",
      "source": [
        "orders_per_customer = len(order_dict) / unique_customers\n",
        "\n",
        "round(orders_per_customer, 2)"
      ],
      "metadata": {
        "colab": {
          "base_uri": "https://localhost:8080/"
        },
        "id": "y0rT69UZswcK",
        "outputId": "c8279322-7ae2-4104-dbe2-7202bfa719af"
      },
      "id": "y0rT69UZswcK",
      "execution_count": 27,
      "outputs": [
        {
          "output_type": "execute_result",
          "data": {
            "text/plain": [
              "1.42"
            ]
          },
          "metadata": {},
          "execution_count": 27
        }
      ]
    },
    {
      "cell_type": "markdown",
      "id": "ff483459",
      "metadata": {
        "id": "ff483459"
      },
      "source": [
        "### How many items in total did we sell?\n",
        "\n",
        "Calculate the total number of items we sold in across all orders. \n",
        "\n",
        "This information is in Column H, which should be the last element in order_dict's values."
      ]
    },
    {
      "cell_type": "code",
      "execution_count": 29,
      "id": "2f7d15ac",
      "metadata": {
        "colab": {
          "base_uri": "https://localhost:8080/"
        },
        "id": "2f7d15ac",
        "outputId": "3293134a-4877-4449-a041-76d02d819044"
      },
      "outputs": [
        {
          "output_type": "execute_result",
          "data": {
            "text/plain": [
              "54"
            ]
          },
          "metadata": {},
          "execution_count": 29
        }
      ],
      "source": [
        "sum([len(order[6]) for order in order_dict.values()])"
      ]
    },
    {
      "cell_type": "markdown",
      "id": "05abd311",
      "metadata": {
        "id": "05abd311"
      },
      "source": [
        "### Sales By Location\n",
        "\n",
        "Calculate the sum of subtotals by location.\n",
        "\n",
        "Create a dictionary to store them, where location is the key, and revenue for that location is the value.\n",
        "\n",
        "A few steps to consider:\n",
        "\n",
        "* Loop through your dictionary\n",
        "* build a dictionary as you go with location as key\n",
        "* increment revenue every time a transaction matches the location.\n",
        "\n",
        "\n",
        "Your output should look like \n",
        "{'Location1': sum of subtotals for 'Location1'}\n",
        "\n",
        "With an entry for each location."
      ]
    },
    {
      "cell_type": "code",
      "execution_count": 30,
      "id": "960a8d1b",
      "metadata": {
        "colab": {
          "base_uri": "https://localhost:8080/"
        },
        "id": "960a8d1b",
        "outputId": "a20b97d8-c6ab-47ac-deff-a735e05190e3"
      },
      "outputs": [
        {
          "output_type": "execute_result",
          "data": {
            "text/plain": [
              "{'Sun Valley': 1268.84,\n",
              " 'Stowe': 3582.8199999999993,\n",
              " 'Mammoth': 3879.8099999999995}"
            ]
          },
          "metadata": {},
          "execution_count": 30
        }
      ],
      "source": [
        "location_sums = {}\n",
        "\n",
        "for data in order_dict.values():\n",
        "  location = data[5]\n",
        "\n",
        "  if location not in location_sums:\n",
        "    location_sums[location] = 0\n",
        "  location_sums[location] += data[2]\n",
        "\n",
        "location_sums"
      ]
    },
    {
      "cell_type": "markdown",
      "id": "a9ffa683",
      "metadata": {
        "id": "a9ffa683"
      },
      "source": [
        "### Challenge: Aggregator Function\n",
        "\n",
        "Now that you've summed revenue by category (you just summed by location), can you write a function to generalize calculating a sum of a column, grouped by the unique values in another column? (for example, sum of totals by date or customer_id).\n",
        "\n",
        "Your function should take the following arguments:\n",
        "* index of the 'column' (index position in order_dict) to group by\n",
        "* index of the 'column' (index position in order_dict) to sum by category\n",
        "* the dictionary where the data is located (assume the same structure as order_dict.\n",
        "\n",
        "It should return:\n",
        "* A dictionary with the categories as keys, and the sum by category as value.\n",
        "\n",
        "Once you've done so use your function to sum totals by date and customer_id."
      ]
    },
    {
      "cell_type": "code",
      "execution_count": 34,
      "id": "32c8ca53",
      "metadata": {
        "id": "32c8ca53"
      },
      "outputs": [],
      "source": [
        "def aggregator(category_index, field_to_sum_index, dictionary):\n",
        "  category_sums = {}\n",
        "\n",
        "  for data in dictionary.values():\n",
        "    category = data[category_index]\n",
        "    category_sums[category] = round(category_sums.get(category, 0) + data[field_to_sum_index], 2)\n",
        "  \n",
        "  return category_sums"
      ]
    },
    {
      "cell_type": "code",
      "execution_count": 35,
      "id": "b034d599",
      "metadata": {
        "colab": {
          "base_uri": "https://localhost:8080/"
        },
        "id": "b034d599",
        "outputId": "335050f2-218c-4f03-9ff1-f016eead4d02"
      },
      "outputs": [
        {
          "output_type": "execute_result",
          "data": {
            "text/plain": [
              "{'11/26/2021': 5915.18, '11/27/2021': 1714.25, '11/28/2021': 1719.24}"
            ]
          },
          "metadata": {},
          "execution_count": 35
        }
      ],
      "source": [
        "# index 1 = date, index 4 = total\n",
        "aggregator(1, 4, order_dict)"
      ]
    },
    {
      "cell_type": "code",
      "execution_count": 36,
      "id": "92703b3d",
      "metadata": {
        "colab": {
          "base_uri": "https://localhost:8080/"
        },
        "id": "92703b3d",
        "outputId": "60a4b149-b0bd-4a2f-c35c-90cf95a67225"
      },
      "outputs": [
        {
          "output_type": "execute_result",
          "data": {
            "text/plain": [
              "{'C00004': 146.85,\n",
              " 'C00007': 953.97,\n",
              " 'C00015': 861.97,\n",
              " 'C00016': 220.43,\n",
              " 'C00020': 6.47,\n",
              " 'C00010': 1077.46,\n",
              " 'C00006': 53.86,\n",
              " 'C00001': 2079.48,\n",
              " 'C00003': 107.99,\n",
              " 'C00014': 275.35,\n",
              " 'C00005': 28.06,\n",
              " 'C00008': 794.97,\n",
              " 'C00013': 97.19,\n",
              " 'C00017': 635.99,\n",
              " 'C00019': 701.98,\n",
              " 'C00002': 26.49,\n",
              " 'C00021': 107.74,\n",
              " 'C00022': 6.47,\n",
              " 'C00018': 1165.95}"
            ]
          },
          "metadata": {},
          "execution_count": 36
        }
      ],
      "source": [
        "# index 0 = customer_id\n",
        "aggregator(0, 4, order_dict)"
      ]
    },
    {
      "cell_type": "code",
      "execution_count": 37,
      "id": "03483866",
      "metadata": {
        "colab": {
          "base_uri": "https://localhost:8080/"
        },
        "id": "03483866",
        "outputId": "ca8d8ab7-da67-413e-c6db-6f96a3354ee0"
      },
      "outputs": [
        {
          "output_type": "execute_result",
          "data": {
            "text/plain": [
              "{100000: ['C00004',\n",
              "  '11/26/2021',\n",
              "  15.98,\n",
              "  1.28,\n",
              "  17.26,\n",
              "  'Sun Valley',\n",
              "  ['10001', '10002']],\n",
              " 100001: ['C00007',\n",
              "  '11/26/2021',\n",
              "  899.97,\n",
              "  54.0,\n",
              "  953.97,\n",
              "  'Stowe',\n",
              "  ['10008', '10009', '10010']],\n",
              " 100002: ['C00015',\n",
              "  '11/26/2021',\n",
              "  799.97,\n",
              "  62.0,\n",
              "  861.97,\n",
              "  'Mammoth',\n",
              "  ['10011', '10012', '10013']],\n",
              " 100003: ['C00016',\n",
              "  '11/26/2021',\n",
              "  117.96,\n",
              "  7.08,\n",
              "  125.04,\n",
              "  'Stowe',\n",
              "  ['10002', '10003', '10004', '10006']],\n",
              " 100004: ['C00020', '11/26/2021', 5.99, 0.48, 6.47, 'Sun Valley', ['10001']],\n",
              " 100005: ['C00010', '11/26/2021', 599.99, 46.5, 646.49, 'Mammoth', ['10010']],\n",
              " 100006: ['C00006', '11/26/2021', 24.99, 1.94, 26.93, 'Mammoth', ['10004']],\n",
              " 100007: ['C00001',\n",
              "  '11/26/2021',\n",
              "  1799.94,\n",
              "  139.5,\n",
              "  1939.44,\n",
              "  'Mammoth',\n",
              "  ['10008', '10008', '10009', '10009', '10009', '10010', '10010']],\n",
              " 100008: ['C00003', '11/26/2021', 99.99, 8.0, 107.99, 'Sun Valley', ['10005']],\n",
              " 100009: ['C00014',\n",
              "  '11/26/2021',\n",
              "  254.95,\n",
              "  20.4,\n",
              "  275.35,\n",
              "  'Sun Valley',\n",
              "  ['10002', '10003', '10004', '10006', '10007']],\n",
              " 100010: ['C00001',\n",
              "  '11/26/2021',\n",
              "  29.98,\n",
              "  2.32,\n",
              "  32.3,\n",
              "  'Mammoth',\n",
              "  ['10002', '10003']],\n",
              " 100011: ['C00001', '11/26/2021', 99.99, 7.75, 107.74, 'Mammoth', ['10005']],\n",
              " 100012: ['C00005',\n",
              "  '11/26/2021',\n",
              "  25.98,\n",
              "  2.08,\n",
              "  28.06,\n",
              "  'Sun Valley',\n",
              "  ['10001', '10003']],\n",
              " 100013: ['C00008',\n",
              "  '11/26/2021',\n",
              "  649.98,\n",
              "  39.0,\n",
              "  688.98,\n",
              "  'Stowe',\n",
              "  ['10012', '10013']],\n",
              " 100014: ['C00013', '11/26/2021', 89.99, 7.2, 97.19, 'Sun Valley', ['10014']],\n",
              " 100020: ['C00004',\n",
              "  '11/27/2021',\n",
              "  119.99,\n",
              "  9.6,\n",
              "  129.59,\n",
              "  'Sun Valley',\n",
              "  ['10007']],\n",
              " 100021: ['C00017', '11/27/2021', 599.99, 36.0, 635.99, 'Stowe', ['10010']],\n",
              " 100022: ['C00019',\n",
              "  '11/27/2021',\n",
              "  649.98,\n",
              "  52.0,\n",
              "  701.98,\n",
              "  'Sun Valley',\n",
              "  ['10012', '10013']],\n",
              " 100023: ['C00002', '11/27/2021', 24.99, 1.5, 26.49, 'Stowe', ['10004']],\n",
              " 100024: ['C00008', '11/27/2021', 99.99, 6.0, 105.99, 'Stowe', ['10005']],\n",
              " 100025: ['C00021', '11/27/2021', 99.99, 7.75, 107.74, 'Mammoth', ['10008']],\n",
              " 100026: ['C00022', '11/27/2021', 5.99, 0.48, 6.47, 'Sun Valley', ['10001']],\n",
              " 100027: ['C00006', '11/28/2021', 24.99, 1.94, 26.93, 'Mammoth', ['10002']],\n",
              " 100031: ['C00018',\n",
              "  '11/28/2021',\n",
              "  999.96,\n",
              "  60.0,\n",
              "  1059.96,\n",
              "  'Stowe',\n",
              "  ['10005', '10008', '10009', '10010']],\n",
              " 100032: ['C00018', '11/28/2021', 99.99, 6.0, 105.99, 'Stowe', ['10006']],\n",
              " 100033: ['C00010',\n",
              "  '11/28/2021',\n",
              "  399.97,\n",
              "  31.0,\n",
              "  430.97,\n",
              "  'Mammoth',\n",
              "  ['10005', '10008', '10009']],\n",
              " 100034: ['C00016', '11/28/2021', 89.99, 5.4, 95.39, 'Stowe', ['10014']]}"
            ]
          },
          "metadata": {},
          "execution_count": 37
        }
      ],
      "source": [
        "order_dict"
      ]
    }
  ],
  "metadata": {
    "kernelspec": {
      "display_name": "Python 3 (ipykernel)",
      "language": "python",
      "name": "python3"
    },
    "language_info": {
      "codemirror_mode": {
        "name": "ipython",
        "version": 3
      },
      "file_extension": ".py",
      "mimetype": "text/x-python",
      "name": "python",
      "nbconvert_exporter": "python",
      "pygments_lexer": "ipython3",
      "version": "3.9.7"
    },
    "colab": {
      "provenance": [],
      "include_colab_link": true
    }
  },
  "nbformat": 4,
  "nbformat_minor": 5
}