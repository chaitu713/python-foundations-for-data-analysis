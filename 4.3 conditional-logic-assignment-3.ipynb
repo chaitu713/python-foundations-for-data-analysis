{
  "cells": [
    {
      "cell_type": "markdown",
      "metadata": {
        "id": "view-in-github",
        "colab_type": "text"
      },
      "source": [
        "<a href=\"https://colab.research.google.com/github/chaitu713/python-foundations-for-data-analysis/blob/master/4.3%20conditional-logic-assignment-3.ipynb\" target=\"_parent\"><img src=\"https://colab.research.google.com/assets/colab-badge.svg\" alt=\"Open In Colab\"/></a>"
      ]
    },
    {
      "cell_type": "markdown",
      "id": "d5926f42",
      "metadata": {
        "id": "d5926f42"
      },
      "source": [
        "### Inventory Message - VIP Request\n",
        "\n",
        "Hi there, modify the previous inventory logic to handle a special customer.\n",
        "\n",
        "* Print 'Out of Stock' if the inventory is less than or equal to zero, unless our customer's name is Chris.\n",
        "\n",
        "    * If inventory is less than or equal to zero, we can give our customer named Chris the display model. \n",
        "\n",
        "\n",
        "\n",
        "* Modify the logic below to print the following message if the new logic is met:\n",
        "\n",
        "    * 'You can have the display model, sir'\n",
        "\n",
        "\n",
        "I've pasted the current inventory logic and some test values below. Make sure to test a few different values for each variable."
      ]
    },
    {
      "cell_type": "code",
      "execution_count": 1,
      "id": "2338410c",
      "metadata": {
        "colab": {
          "base_uri": "https://localhost:8080/"
        },
        "id": "2338410c",
        "outputId": "0c72e348-9d7d-411a-99c9-0aadd269599a"
      },
      "outputs": [
        {
          "output_type": "stream",
          "name": "stdout",
          "text": [
            "Out of Stock\n"
          ]
        }
      ],
      "source": [
        "inventory = 0\n",
        "customer_name = 'Chris'\n",
        "\n",
        "if inventory <= 0:\n",
        "    print('Out of Stock')\n",
        "elif inventory <= 5:\n",
        "    print('Low Stock')\n",
        "else:\n",
        "    print('In Stock')\n"
      ]
    },
    {
      "cell_type": "markdown",
      "id": "80996f6d",
      "metadata": {
        "id": "80996f6d"
      },
      "source": [
        "### With Nested Logic\n"
      ]
    },
    {
      "cell_type": "code",
      "execution_count": 2,
      "id": "8b0c0ae8",
      "metadata": {
        "colab": {
          "base_uri": "https://localhost:8080/"
        },
        "id": "8b0c0ae8",
        "outputId": "5a18c81f-153c-49f8-b525-5038dcadb1f2"
      },
      "outputs": [
        {
          "output_type": "stream",
          "name": "stdout",
          "text": [
            "You can have the display model, sir\n"
          ]
        }
      ],
      "source": [
        "inventory = 0\n",
        "customer_name = 'Chris'\n",
        "\n",
        "if inventory <= 0:\n",
        "  if customer_name == 'Chris':\n",
        "    print('You can have the display model, sir')\n",
        "  else:\n",
        "    print('Out of Stock')\n",
        "elif inventory <= 5:\n",
        "  print('Low Stock')\n",
        "else:\n",
        "  print('In Stock')"
      ]
    },
    {
      "cell_type": "markdown",
      "id": "f99e1794",
      "metadata": {
        "id": "f99e1794"
      },
      "source": [
        "### Without Nested Logic"
      ]
    },
    {
      "cell_type": "code",
      "execution_count": 3,
      "id": "113df8bb",
      "metadata": {
        "colab": {
          "base_uri": "https://localhost:8080/"
        },
        "id": "113df8bb",
        "outputId": "982dfb31-0005-4bbd-f42b-b058103cc01a"
      },
      "outputs": [
        {
          "output_type": "stream",
          "name": "stdout",
          "text": [
            "You can have the display model, sir\n"
          ]
        }
      ],
      "source": [
        "inventory = 0\n",
        "customer_name = 'Chris'\n",
        "\n",
        "if inventory <= 0 and customer_name == 'Chris':\n",
        "  print('You can have the display model, sir')\n",
        "elif inventory <= 0:\n",
        "  print('Out of Stock')\n",
        "elif inventory <= 5:\n",
        "  print('Low Stock')\n",
        "else:\n",
        "  print('In Stock')"
      ]
    }
  ],
  "metadata": {
    "kernelspec": {
      "display_name": "Python 3 (ipykernel)",
      "language": "python",
      "name": "python3"
    },
    "language_info": {
      "codemirror_mode": {
        "name": "ipython",
        "version": 3
      },
      "file_extension": ".py",
      "mimetype": "text/x-python",
      "name": "python",
      "nbconvert_exporter": "python",
      "pygments_lexer": "ipython3",
      "version": "3.9.7"
    },
    "colab": {
      "provenance": [],
      "include_colab_link": true
    }
  },
  "nbformat": 4,
  "nbformat_minor": 5
}