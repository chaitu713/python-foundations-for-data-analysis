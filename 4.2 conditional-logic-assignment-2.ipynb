{
  "cells": [
    {
      "cell_type": "markdown",
      "metadata": {
        "id": "view-in-github",
        "colab_type": "text"
      },
      "source": [
        "<a href=\"https://colab.research.google.com/github/chaitu713/python-foundations-for-data-analysis/blob/master/4.2%20conditional-logic-assignment-2.ipynb\" target=\"_parent\"><img src=\"https://colab.research.google.com/assets/colab-badge.svg\" alt=\"Open In Colab\"/></a>"
      ]
    },
    {
      "cell_type": "markdown",
      "id": "c6a1d267",
      "metadata": {
        "id": "c6a1d267"
      },
      "source": [
        "### Inventory Message\n",
        "\n",
        "Let's add and out of stock flag to our products. \n",
        " \n",
        "* If inventory is negative or 0, print 'OUT OF STOCK'. \n",
        "* If inventory is greater than 0, and less than or equal to 5, print 'Low Stock'. \n",
        "* If inventory is anything else, print 'In Stock'"
      ]
    },
    {
      "cell_type": "code",
      "execution_count": 3,
      "id": "c8ff8eb8",
      "metadata": {
        "id": "c8ff8eb8"
      },
      "outputs": [],
      "source": [
        "inventory = 3"
      ]
    },
    {
      "cell_type": "code",
      "execution_count": 4,
      "id": "c9255784",
      "metadata": {
        "colab": {
          "base_uri": "https://localhost:8080/"
        },
        "id": "c9255784",
        "outputId": "65f8a162-0e11-4070-f85e-942e8faf6178"
      },
      "outputs": [
        {
          "output_type": "stream",
          "name": "stdout",
          "text": [
            "Low Stock\n"
          ]
        }
      ],
      "source": [
        "if inventory <= 0:\n",
        "  print('OUT OF STOCK')\n",
        "elif (inventory > 0 and inventory <= 5):\n",
        "  print('Low Stock')\n",
        "else:\n",
        "  print('In Stock')"
      ]
    }
  ],
  "metadata": {
    "kernelspec": {
      "display_name": "Python 3 (ipykernel)",
      "language": "python",
      "name": "python3"
    },
    "language_info": {
      "codemirror_mode": {
        "name": "ipython",
        "version": 3
      },
      "file_extension": ".py",
      "mimetype": "text/x-python",
      "name": "python",
      "nbconvert_exporter": "python",
      "pygments_lexer": "ipython3",
      "version": "3.9.7"
    },
    "colab": {
      "provenance": [],
      "include_colab_link": true
    }
  },
  "nbformat": 4,
  "nbformat_minor": 5
}