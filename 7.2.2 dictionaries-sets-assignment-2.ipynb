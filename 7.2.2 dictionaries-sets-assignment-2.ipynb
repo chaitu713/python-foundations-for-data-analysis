{
  "cells": [
    {
      "cell_type": "markdown",
      "metadata": {
        "id": "view-in-github",
        "colab_type": "text"
      },
      "source": [
        "<a href=\"https://colab.research.google.com/github/chaitu713/python-foundations-for-data-analysis/blob/master/7.2.2%20dictionaries-sets-assignment-2.ipynb\" target=\"_parent\"><img src=\"https://colab.research.google.com/assets/colab-badge.svg\" alt=\"Open In Colab\"/></a>"
      ]
    },
    {
      "cell_type": "markdown",
      "id": "ebb23cb2",
      "metadata": {
        "id": "ebb23cb2"
      },
      "source": [
        "### Weekend Sales Follow-Up Analysis\n",
        "\n",
        "Hey there, \n",
        "\n",
        "There are three lists below representing the customers who made purchases on Friday, Saturday, and Sunday.\n",
        "\n",
        "We want to target customers who made purchases on Friday and either Saturday or Sunday with follow up promotions.\n",
        "\n",
        "Run the cell below to create the customer lists."
      ]
    },
    {
      "cell_type": "code",
      "execution_count": 1,
      "id": "d08a9a39",
      "metadata": {
        "id": "d08a9a39"
      },
      "outputs": [],
      "source": [
        "friday_customers = [\n",
        "    'C00004', 'C00007', 'C00015', 'C00016', 'C00020',\n",
        "    'C00010', 'C00006', 'C00001', 'C00003', 'C00014',\n",
        "    'C00001', 'C00001', 'C00005', 'C00008', 'C00013'\n",
        "]\n",
        "\n",
        "saturday_customers = [\n",
        "    'C00004', 'C00017', 'C00019', 'C00002', 'C00008',\n",
        "    'C00021', 'C00022'\n",
        "]\n",
        "\n",
        "sunday_customers = ['C00006', 'C00018', 'C00018', 'C00010', 'C00016']"
      ]
    },
    {
      "cell_type": "markdown",
      "id": "ca2d21a0",
      "metadata": {
        "id": "ca2d21a0"
      },
      "source": [
        "#### Collect Unique Weekend Customers\n",
        "\n",
        "First, can you gather all the unique customers from the weekend (`saturday_customers` and `sunday_customers`)? Create a set called `weekend_set` to store them."
      ]
    },
    {
      "cell_type": "code",
      "execution_count": 2,
      "id": "01892d0d",
      "metadata": {
        "colab": {
          "base_uri": "https://localhost:8080/"
        },
        "id": "01892d0d",
        "outputId": "2cfcd2c5-a73e-4b86-db35-622ac3a97729"
      },
      "outputs": [
        {
          "output_type": "execute_result",
          "data": {
            "text/plain": [
              "{'C00002',\n",
              " 'C00004',\n",
              " 'C00006',\n",
              " 'C00008',\n",
              " 'C00010',\n",
              " 'C00016',\n",
              " 'C00017',\n",
              " 'C00018',\n",
              " 'C00019',\n",
              " 'C00021',\n",
              " 'C00022'}"
            ]
          },
          "metadata": {},
          "execution_count": 2
        }
      ],
      "source": [
        "weekend_set = set(saturday_customers).union(set(sunday_customers))\n",
        "\n",
        "weekend_set"
      ]
    },
    {
      "cell_type": "markdown",
      "id": "40dadd50",
      "metadata": {
        "id": "40dadd50"
      },
      "source": [
        "#### Friday Customers Who Came Back During the Weekend\n",
        "\n",
        "Now that you've got that, can you see which customers made a purchase on Friday AND made a purchase during the weekend?\n",
        "\n"
      ]
    },
    {
      "cell_type": "code",
      "execution_count": 4,
      "id": "b1cc556b",
      "metadata": {
        "colab": {
          "base_uri": "https://localhost:8080/"
        },
        "id": "b1cc556b",
        "outputId": "76170a85-fd38-486f-eb39-5cfc36b4745e"
      },
      "outputs": [
        {
          "output_type": "execute_result",
          "data": {
            "text/plain": [
              "{'C00001',\n",
              " 'C00003',\n",
              " 'C00004',\n",
              " 'C00005',\n",
              " 'C00006',\n",
              " 'C00007',\n",
              " 'C00008',\n",
              " 'C00010',\n",
              " 'C00013',\n",
              " 'C00014',\n",
              " 'C00015',\n",
              " 'C00016',\n",
              " 'C00020'}"
            ]
          },
          "metadata": {},
          "execution_count": 4
        }
      ],
      "source": [
        "friday_set = set(friday_customers)\n",
        "\n",
        "friday_set"
      ]
    },
    {
      "cell_type": "code",
      "execution_count": 5,
      "id": "ebdc1e36",
      "metadata": {
        "colab": {
          "base_uri": "https://localhost:8080/"
        },
        "id": "ebdc1e36",
        "outputId": "1a8a667c-727c-442e-94ec-8c6a471a6544"
      },
      "outputs": [
        {
          "output_type": "execute_result",
          "data": {
            "text/plain": [
              "{'C00004', 'C00006', 'C00008', 'C00010', 'C00016'}"
            ]
          },
          "metadata": {},
          "execution_count": 5
        }
      ],
      "source": [
        "friday_set.intersection(weekend_set)"
      ]
    }
  ],
  "metadata": {
    "kernelspec": {
      "display_name": "Python 3 (ipykernel)",
      "language": "python",
      "name": "python3"
    },
    "language_info": {
      "codemirror_mode": {
        "name": "ipython",
        "version": 3
      },
      "file_extension": ".py",
      "mimetype": "text/x-python",
      "name": "python",
      "nbconvert_exporter": "python",
      "pygments_lexer": "ipython3",
      "version": "3.9.7"
    },
    "colab": {
      "provenance": [],
      "include_colab_link": true
    }
  },
  "nbformat": 4,
  "nbformat_minor": 5
}