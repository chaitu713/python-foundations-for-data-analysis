{
  "cells": [
    {
      "cell_type": "markdown",
      "metadata": {
        "id": "view-in-github",
        "colab_type": "text"
      },
      "source": [
        "<a href=\"https://colab.research.google.com/github/chaitu713/python-foundations-for-data-analysis/blob/master/5.7%20sequence-datatypes-assignment-7.ipynb\" target=\"_parent\"><img src=\"https://colab.research.google.com/assets/colab-badge.svg\" alt=\"Open In Colab\"/></a>"
      ]
    },
    {
      "cell_type": "markdown",
      "id": "f6e713d4",
      "metadata": {
        "id": "f6e713d4"
      },
      "source": [
        "### Customer Promos\n",
        "\n",
        "We're working on some fun promotional giveaways for our next big sale.\n",
        "\n",
        "We want to generate a few different sequences of lucky numbers - customers who get lucky will receive a keychain, coffee mug, or beanie!\n",
        "\n",
        "Coffee mugs will be given to even numbered vistors in our first 10 visitors, please generate a sequence of even integers between 1 and 10."
      ]
    },
    {
      "cell_type": "code",
      "execution_count": 1,
      "id": "8abd6ea5",
      "metadata": {
        "colab": {
          "base_uri": "https://localhost:8080/"
        },
        "id": "8abd6ea5",
        "outputId": "76cd7aa0-5c4c-417d-af47-b49399b5f76e"
      },
      "outputs": [
        {
          "output_type": "execute_result",
          "data": {
            "text/plain": [
              "[2, 4, 6, 8, 10]"
            ]
          },
          "metadata": {},
          "execution_count": 1
        }
      ],
      "source": [
        "list(range(2, 12, 2))"
      ]
    },
    {
      "cell_type": "markdown",
      "id": "c0c04fca",
      "metadata": {
        "id": "c0c04fca"
      },
      "source": [
        "Now generate a sequence of odd integers from 1 and 10. They'll get keychains."
      ]
    },
    {
      "cell_type": "code",
      "execution_count": 4,
      "id": "723ef9ed",
      "metadata": {
        "colab": {
          "base_uri": "https://localhost:8080/"
        },
        "id": "723ef9ed",
        "outputId": "0b750a43-ae83-4c08-bfdb-6e9a42f786ef"
      },
      "outputs": [
        {
          "output_type": "execute_result",
          "data": {
            "text/plain": [
              "[1, 3, 5, 7, 9]"
            ]
          },
          "metadata": {},
          "execution_count": 4
        }
      ],
      "source": [
        "list(range(1, 11, 2))"
      ]
    },
    {
      "cell_type": "markdown",
      "id": "ce7e0d0c",
      "metadata": {
        "id": "ce7e0d0c"
      },
      "source": [
        "Finally, every 7th customer in our first 100 vistors will receive a beanie.\n",
        "\n",
        "Generate a sequence of integers containing multiples of 7 from 1 to 100. "
      ]
    },
    {
      "cell_type": "code",
      "execution_count": 5,
      "id": "f04f2043",
      "metadata": {
        "colab": {
          "base_uri": "https://localhost:8080/"
        },
        "id": "f04f2043",
        "outputId": "bb864b0b-03f3-4297-ce23-28c3843e6048"
      },
      "outputs": [
        {
          "output_type": "execute_result",
          "data": {
            "text/plain": [
              "[7, 14, 21, 28, 35, 42, 49, 56, 63, 70, 77, 84, 91, 98]"
            ]
          },
          "metadata": {},
          "execution_count": 5
        }
      ],
      "source": [
        "list(range(7, 100, 7))"
      ]
    }
  ],
  "metadata": {
    "kernelspec": {
      "display_name": "Python 3 (ipykernel)",
      "language": "python",
      "name": "python3"
    },
    "language_info": {
      "codemirror_mode": {
        "name": "ipython",
        "version": 3
      },
      "file_extension": ".py",
      "mimetype": "text/x-python",
      "name": "python",
      "nbconvert_exporter": "python",
      "pygments_lexer": "ipython3",
      "version": "3.9.7"
    },
    "colab": {
      "provenance": [],
      "include_colab_link": true
    }
  },
  "nbformat": 4,
  "nbformat_minor": 5
}