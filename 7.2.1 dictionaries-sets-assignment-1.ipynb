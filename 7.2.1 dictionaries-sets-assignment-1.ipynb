{
  "cells": [
    {
      "cell_type": "markdown",
      "metadata": {
        "id": "view-in-github",
        "colab_type": "text"
      },
      "source": [
        "<a href=\"https://colab.research.google.com/github/chaitu713/python-foundations-for-data-analysis/blob/master/7.2.1%20dictionaries-sets-assignment-1.ipynb\" target=\"_parent\"><img src=\"https://colab.research.google.com/assets/colab-badge.svg\" alt=\"Open In Colab\"/></a>"
      ]
    },
    {
      "cell_type": "markdown",
      "id": "0632f198",
      "metadata": {
        "id": "0632f198"
      },
      "source": [
        "### Product Category Analysis\n",
        "\n",
        "Hi There,\n",
        "\n",
        "I've supplied the code to create our European item dictionary below.\n",
        "\n",
        "Run the top cell first to create the data."
      ]
    },
    {
      "cell_type": "code",
      "execution_count": 1,
      "id": "a885e4cd",
      "metadata": {
        "id": "a885e4cd"
      },
      "outputs": [],
      "source": [
        "item_ids = [\n",
        "    10001, 10002, 10003, 10004, 10005, \n",
        "    10006, 10007, 10008, 10009\n",
        "]\n",
        "\n",
        "item_names = [\n",
        "    \"Coffee\", \"Beanie\", \"Gloves\", \"Sweatshirt\", \"Helmet\",\n",
        "    \"Snow Pants\", \"Coat\", \"Ski Poles\", \"Ski Boots\"\n",
        "]\n",
        "\n",
        "euro_prices = [\n",
        "    5.27, 8.79, 17.59, 21.99, 87.99, \n",
        "    70.39, 105.59, 87.99, 175.99\n",
        "]\n",
        "\n",
        "item_category = [\n",
        "    \"beverage\", \"clothing\", \"clothing\", \"clothing\", \"safety\",\n",
        "    \"clothing\", \"clothing\", \"hardware\", \"hardware\",\n",
        "]\n",
        "\n",
        "sizes = [\n",
        "    [\"250mL\"],\n",
        "    [\"Child\", \"Adult\"],\n",
        "    [\"Child\", \"Adult\"],\n",
        "    [\"XS\", \"S\", \"M\", \"L\", \"XL\", \"XXL\"],\n",
        "    [\"Child\", \"Adult\"],\n",
        "    [\"XS\", \"S\", \"M\", \"L\", \"XL\", \"XXL\"],\n",
        "    [\"S\", \"M\", \"L\"],\n",
        "    [\"S\", \"M\", \"L\"],\n",
        "    [5, 6, 7, 8, 9, 10, 11],\n",
        "    [\"S\", \"M\", \"L\"],\n",
        "    [5, 6, 7, 8, 9, 10, 11],\n",
        "    [\"NA\"],\n",
        "    [\"S\", \"M\", \"L\", \"Powder\"],\n",
        "]"
      ]
    },
    {
      "cell_type": "markdown",
      "id": "c493e4c3",
      "metadata": {
        "id": "c493e4c3"
      },
      "source": [
        "### Unique Categories\n",
        "\n",
        "Can you collect the unique item categories from the dictionary `euro_items`? \n",
        "\n",
        "It's the first step in my analysis."
      ]
    },
    {
      "cell_type": "code",
      "execution_count": 3,
      "id": "95ecc229",
      "metadata": {
        "colab": {
          "base_uri": "https://localhost:8080/"
        },
        "id": "95ecc229",
        "outputId": "7ff20d8a-8515-40ad-887a-495038b254b2"
      },
      "outputs": [
        {
          "output_type": "execute_result",
          "data": {
            "text/plain": [
              "{'beverage', 'clothing', 'hardware', 'safety'}"
            ]
          },
          "metadata": {},
          "execution_count": 3
        }
      ],
      "source": [
        "euro_item_category = set(item_category)\n",
        "\n",
        "euro_item_category"
      ]
    },
    {
      "cell_type": "markdown",
      "id": "a5b391ef",
      "metadata": {
        "id": "a5b391ef"
      },
      "source": [
        "### How many categories are there?\n",
        "\n",
        "Now that you have that, how many categories are there?"
      ]
    },
    {
      "cell_type": "code",
      "execution_count": 4,
      "id": "f3833d65",
      "metadata": {
        "colab": {
          "base_uri": "https://localhost:8080/"
        },
        "id": "f3833d65",
        "outputId": "e57b47c4-52bc-4914-b83b-729e3dc615f2"
      },
      "outputs": [
        {
          "output_type": "execute_result",
          "data": {
            "text/plain": [
              "4"
            ]
          },
          "metadata": {},
          "execution_count": 4
        }
      ],
      "source": [
        "len(euro_item_category)"
      ]
    },
    {
      "cell_type": "markdown",
      "id": "6e817ba4",
      "metadata": {
        "id": "6e817ba4"
      },
      "source": [
        "### Is 'outdoor' in our set of categories?\n",
        "\n",
        "Outdoor equipment is popular in Europe - can you see if we've added items from that category based on the unique categories you created? "
      ]
    },
    {
      "cell_type": "code",
      "execution_count": 5,
      "id": "61752d5f",
      "metadata": {
        "colab": {
          "base_uri": "https://localhost:8080/"
        },
        "id": "61752d5f",
        "outputId": "8c09509f-e8e6-4781-f2f3-8c2a0e8b8bd1"
      },
      "outputs": [
        {
          "output_type": "execute_result",
          "data": {
            "text/plain": [
              "False"
            ]
          },
          "metadata": {},
          "execution_count": 5
        }
      ],
      "source": [
        "'outdoor' in euro_item_category"
      ]
    }
  ],
  "metadata": {
    "kernelspec": {
      "display_name": "Python 3 (ipykernel)",
      "language": "python",
      "name": "python3"
    },
    "language_info": {
      "codemirror_mode": {
        "name": "ipython",
        "version": 3
      },
      "file_extension": ".py",
      "mimetype": "text/x-python",
      "name": "python",
      "nbconvert_exporter": "python",
      "pygments_lexer": "ipython3",
      "version": "3.9.7"
    },
    "colab": {
      "provenance": [],
      "include_colab_link": true
    }
  },
  "nbformat": 4,
  "nbformat_minor": 5
}