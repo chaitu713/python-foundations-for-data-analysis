{
  "cells": [
    {
      "cell_type": "markdown",
      "metadata": {
        "id": "view-in-github",
        "colab_type": "text"
      },
      "source": [
        "<a href=\"https://colab.research.google.com/github/chaitu713/python-foundations-for-data-analysis/blob/master/8.5%20functions-assignment-5.ipynb\" target=\"_parent\"><img src=\"https://colab.research.google.com/assets/colab-badge.svg\" alt=\"Open In Colab\"/></a>"
      ]
    },
    {
      "cell_type": "markdown",
      "id": "2db5877d",
      "metadata": {
        "id": "2db5877d"
      },
      "source": [
        "### Apply A Special Discount\n",
        "\n",
        "\n",
        "We need to apply a discount for customers who purchased more than 500 dollars worth of product – they’re starting to complain it hasn’t been applied. They need to get 10% off on their orders.\n",
        "\n",
        "\n",
        "Can you quickly apply a discount? Store the new prices in a list called `discounted_subtotals`."
      ]
    },
    {
      "cell_type": "code",
      "execution_count": 10,
      "id": "456c6f28",
      "metadata": {
        "id": "456c6f28"
      },
      "outputs": [],
      "source": [
        "subtotals = [15.98, 899.97, 799.97, 117.96, 5.99, 599.99]"
      ]
    },
    {
      "cell_type": "code",
      "source": [
        "discounted_subtotals = list(\n",
        "                            map(\n",
        "                                lambda subtotal: round(subtotal * 0.9, 2) if subtotal > 500 else round(subtotal, 2), \n",
        "                                subtotals\n",
        "                                )\n",
        "                            )"
      ],
      "metadata": {
        "id": "EXiYk8MKQ28n"
      },
      "id": "EXiYk8MKQ28n",
      "execution_count": 11,
      "outputs": []
    },
    {
      "cell_type": "code",
      "source": [
        "discounted_subtotals"
      ],
      "metadata": {
        "colab": {
          "base_uri": "https://localhost:8080/"
        },
        "id": "Fff8Bz__Rnwg",
        "outputId": "dcc29611-4daf-4b7b-afd0-9671ec2e3c07"
      },
      "id": "Fff8Bz__Rnwg",
      "execution_count": 12,
      "outputs": [
        {
          "output_type": "execute_result",
          "data": {
            "text/plain": [
              "[15.98, 809.97, 719.97, 117.96, 5.99, 539.99]"
            ]
          },
          "metadata": {},
          "execution_count": 12
        }
      ]
    }
  ],
  "metadata": {
    "kernelspec": {
      "display_name": "Python 3 (ipykernel)",
      "language": "python",
      "name": "python3"
    },
    "language_info": {
      "codemirror_mode": {
        "name": "ipython",
        "version": 3
      },
      "file_extension": ".py",
      "mimetype": "text/x-python",
      "name": "python",
      "nbconvert_exporter": "python",
      "pygments_lexer": "ipython3",
      "version": "3.9.7"
    },
    "colab": {
      "provenance": [],
      "include_colab_link": true
    }
  },
  "nbformat": 4,
  "nbformat_minor": 5
}