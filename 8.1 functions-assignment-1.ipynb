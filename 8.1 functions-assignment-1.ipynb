{
  "cells": [
    {
      "cell_type": "markdown",
      "metadata": {
        "id": "view-in-github",
        "colab_type": "text"
      },
      "source": [
        "<a href=\"https://colab.research.google.com/github/chaitu713/python-foundations-for-data-analysis/blob/master/8.1%20functions-assignment-1.ipynb\" target=\"_parent\"><img src=\"https://colab.research.google.com/assets/colab-badge.svg\" alt=\"Open In Colab\"/></a>"
      ]
    },
    {
      "cell_type": "markdown",
      "id": "260aa780",
      "metadata": {
        "id": "260aa780"
      },
      "source": [
        "#### Tax Calculator\n",
        "\n",
        "Write a function that takes a subtotal and a tax rate and returns the total invoice amount.\n",
        "\n",
        "* Tax is equal to subtotal multiplied by the tax rate.\n",
        "* The total is equal to subtotal plus tax."
      ]
    },
    {
      "cell_type": "code",
      "execution_count": 4,
      "id": "6ddc3a19",
      "metadata": {
        "id": "6ddc3a19"
      },
      "outputs": [],
      "source": [
        "def tax_calculator(subtotal, tax_rate):\n",
        "\n",
        "  '''\n",
        "\n",
        "    Takes in a subtotal and tax_rate and returns the total owed\n",
        "\n",
        "    Args:\n",
        "      subtotal(float) : cost of items in Transaction.\n",
        "      tax_rate(float) : tax rate at store Location.\n",
        "\n",
        "    Returns:\n",
        "      float: Total Amount owed on Transaction.\n",
        "\n",
        "  '''\n",
        "\n",
        "  total = subtotal + (subtotal * tax_rate)\n",
        "  return total"
      ]
    },
    {
      "cell_type": "code",
      "execution_count": 5,
      "id": "bb359f4b",
      "metadata": {
        "colab": {
          "base_uri": "https://localhost:8080/"
        },
        "id": "bb359f4b",
        "outputId": "ccd3203b-2e82-46f6-8f7f-e01bfc1fec1e"
      },
      "outputs": [
        {
          "output_type": "execute_result",
          "data": {
            "text/plain": [
              "106.0"
            ]
          },
          "metadata": {},
          "execution_count": 5
        }
      ],
      "source": [
        "tax_calculator(100, .06)"
      ]
    },
    {
      "cell_type": "code",
      "source": [
        "tax_calculator?"
      ],
      "metadata": {
        "id": "eNYYxEajlGN6"
      },
      "id": "eNYYxEajlGN6",
      "execution_count": 8,
      "outputs": []
    }
  ],
  "metadata": {
    "kernelspec": {
      "display_name": "Python 3 (ipykernel)",
      "language": "python",
      "name": "python3"
    },
    "language_info": {
      "codemirror_mode": {
        "name": "ipython",
        "version": 3
      },
      "file_extension": ".py",
      "mimetype": "text/x-python",
      "name": "python",
      "nbconvert_exporter": "python",
      "pygments_lexer": "ipython3",
      "version": "3.9.7"
    },
    "colab": {
      "provenance": [],
      "include_colab_link": true
    }
  },
  "nbformat": 4,
  "nbformat_minor": 5
}