{
  "cells": [
    {
      "cell_type": "markdown",
      "metadata": {
        "id": "view-in-github",
        "colab_type": "text"
      },
      "source": [
        "<a href=\"https://colab.research.google.com/github/chaitu713/python-foundations-for-data-analysis/blob/master/7.1.4%20dictionaries-sets-assignment-4.ipynb\" target=\"_parent\"><img src=\"https://colab.research.google.com/assets/colab-badge.svg\" alt=\"Open In Colab\"/></a>"
      ]
    },
    {
      "cell_type": "markdown",
      "id": "d360f120",
      "metadata": {
        "id": "d360f120"
      },
      "source": [
        "### European Item Dictionary\n",
        "\n",
        "Hi there, we need to create a European price dictionary. \n",
        "\n",
        "The data is stored in the lists below. Run the cell below to create the lists you need."
      ]
    },
    {
      "cell_type": "code",
      "execution_count": 1,
      "id": "88f975ab",
      "metadata": {
        "id": "88f975ab"
      },
      "outputs": [],
      "source": [
        "# Data for dictionary \n",
        "\n",
        "item_ids = [\n",
        "    10001, 10002, 10003, 10004, 10005, \n",
        "    10006, 10007, 10008, 10009\n",
        "]\n",
        "\n",
        "item_names = [\n",
        "    \"Coffee\", \"Beanie\", \"Gloves\", \"Sweatshirt\", \"Helmet\",\n",
        "    \"Snow Pants\", \"Coat\", \"Ski Poles\", \"Ski Boots\"\n",
        "]\n",
        "\n",
        "euro_prices = [\n",
        "    5.27, 8.79, 17.59, 21.99, 87.99, \n",
        "    70.39, 105.59, 87.99, 175.99\n",
        "]\n",
        "\n",
        "item_category = [\n",
        "    \"beverage\", \"clothing\", \"clothing\", \"clothing\", \"safety\",\n",
        "    \"clothing\", \"clothing\", \"hardware\", \"hardware\",\n",
        "]\n",
        "\n",
        "sizes = [\n",
        "    [\"250mL\"],\n",
        "    [\"Child\", \"Adult\"],\n",
        "    [\"Child\", \"Adult\"],\n",
        "    [\"XS\", \"S\", \"M\", \"L\", \"XL\", \"XXL\"],\n",
        "    [\"Child\", \"Adult\"],\n",
        "    [\"XS\", \"S\", \"M\", \"L\", \"XL\", \"XXL\"],\n",
        "    [\"S\", \"M\", \"L\"],\n",
        "    [\"S\", \"M\", \"L\"],\n",
        "    [5, 6, 7, 8, 9, 10, 11],\n",
        "]"
      ]
    },
    {
      "cell_type": "markdown",
      "id": "ce801438",
      "metadata": {
        "id": "ce801438"
      },
      "source": [
        "Create a dictionary with the `item_ids` as keys and the rest of the data the values. \n",
        "\n",
        "We want the values to be in the order of `item_names`,`euro_prices`, `item_category`, `sizes`."
      ]
    },
    {
      "cell_type": "code",
      "execution_count": 2,
      "id": "a8e89ea5",
      "metadata": {
        "colab": {
          "base_uri": "https://localhost:8080/"
        },
        "id": "a8e89ea5",
        "outputId": "5c5f7ff0-7225-4014-e43f-3a9da9d5f10f"
      },
      "outputs": [
        {
          "output_type": "execute_result",
          "data": {
            "text/plain": [
              "{10001: ('Coffee', 5.27, 'beverage', ['250mL']),\n",
              " 10002: ('Beanie', 8.79, 'clothing', ['Child', 'Adult']),\n",
              " 10003: ('Gloves', 17.59, 'clothing', ['Child', 'Adult']),\n",
              " 10004: ('Sweatshirt', 21.99, 'clothing', ['XS', 'S', 'M', 'L', 'XL', 'XXL']),\n",
              " 10005: ('Helmet', 87.99, 'safety', ['Child', 'Adult']),\n",
              " 10006: ('Snow Pants', 70.39, 'clothing', ['XS', 'S', 'M', 'L', 'XL', 'XXL']),\n",
              " 10007: ('Coat', 105.59, 'clothing', ['S', 'M', 'L']),\n",
              " 10008: ('Ski Poles', 87.99, 'hardware', ['S', 'M', 'L']),\n",
              " 10009: ('Ski Boots', 175.99, 'hardware', [5, 6, 7, 8, 9, 10, 11])}"
            ]
          },
          "metadata": {},
          "execution_count": 2
        }
      ],
      "source": [
        "euro_items = dict(zip(item_ids, zip(item_names, euro_prices, item_category, sizes)))\n",
        "\n",
        "euro_items"
      ]
    }
  ],
  "metadata": {
    "kernelspec": {
      "display_name": "Python 3 (ipykernel)",
      "language": "python",
      "name": "python3"
    },
    "language_info": {
      "codemirror_mode": {
        "name": "ipython",
        "version": 3
      },
      "file_extension": ".py",
      "mimetype": "text/x-python",
      "name": "python",
      "nbconvert_exporter": "python",
      "pygments_lexer": "ipython3",
      "version": "3.9.7"
    },
    "colab": {
      "provenance": [],
      "include_colab_link": true
    }
  },
  "nbformat": 4,
  "nbformat_minor": 5
}