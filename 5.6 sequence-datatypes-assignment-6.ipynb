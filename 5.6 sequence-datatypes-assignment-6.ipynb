{
  "cells": [
    {
      "cell_type": "markdown",
      "metadata": {
        "id": "view-in-github",
        "colab_type": "text"
      },
      "source": [
        "<a href=\"https://colab.research.google.com/github/chaitu713/python-foundations-for-data-analysis/blob/master/5.6%20sequence-datatypes-assignment-6.ipynb\" target=\"_parent\"><img src=\"https://colab.research.google.com/assets/colab-badge.svg\" alt=\"Open In Colab\"/></a>"
      ]
    },
    {
      "cell_type": "markdown",
      "id": "baacb0f7",
      "metadata": {
        "id": "baacb0f7"
      },
      "source": [
        "### Sales Tax\n",
        "\n",
        "We need to calculate the sales taxes for our customer that made three transactions in `multi_order_customers` below.\n",
        "\n",
        "(The customer that made three transactions was customer C00001). Run this cell to create the list."
      ]
    },
    {
      "cell_type": "code",
      "execution_count": 1,
      "id": "917a7e1f",
      "metadata": {
        "id": "917a7e1f"
      },
      "outputs": [],
      "source": [
        "multi_order_customers = [\n",
        "    [1799.94, 29.98, 99.99],\n",
        "    [15.98, 119.99],\n",
        "    [24.99, 24.99],\n",
        "    [649.99, 99.99],\n",
        "    [599.99, 399.97]\n",
        "]"
      ]
    },
    {
      "cell_type": "markdown",
      "id": "24d3b042",
      "metadata": {
        "id": "24d3b042"
      },
      "source": [
        "Create a tuple from the first element in the `multi_order_customers`.\n",
        "\n",
        "Unpack this tuple into the variables `transaction1`, `transaction2`, and `transaction3`.\n",
        "\n",
        "Once you've have separated the transactions, calculate the tax of .08 rounded to 2 decimals and print it."
      ]
    },
    {
      "cell_type": "code",
      "execution_count": 2,
      "id": "01a35ffc",
      "metadata": {
        "id": "01a35ffc"
      },
      "outputs": [],
      "source": [
        "transaction1, transaction2, transaction3 = tuple(multi_order_customers[0])"
      ]
    },
    {
      "cell_type": "code",
      "execution_count": 3,
      "id": "5d429089",
      "metadata": {
        "colab": {
          "base_uri": "https://localhost:8080/"
        },
        "id": "5d429089",
        "outputId": "6a919446-7dcc-43d0-be33-87618c3dba6c"
      },
      "outputs": [
        {
          "output_type": "execute_result",
          "data": {
            "text/plain": [
              "(1799.94, 29.98, 99.99)"
            ]
          },
          "metadata": {},
          "execution_count": 3
        }
      ],
      "source": [
        "transaction1, transaction2, transaction3"
      ]
    },
    {
      "cell_type": "code",
      "source": [
        "print(round(transaction1 * 0.08, 2))\n",
        "print(round(transaction2 * 0.08, 2))\n",
        "print(round(transaction3 * 0.08, 2))"
      ],
      "metadata": {
        "colab": {
          "base_uri": "https://localhost:8080/"
        },
        "id": "lanEjhmnYkM1",
        "outputId": "1945931e-46a9-4a27-df3e-0014dc4cea54"
      },
      "id": "lanEjhmnYkM1",
      "execution_count": 6,
      "outputs": [
        {
          "output_type": "stream",
          "name": "stdout",
          "text": [
            "144.0\n",
            "2.4\n",
            "8.0\n"
          ]
        }
      ]
    }
  ],
  "metadata": {
    "kernelspec": {
      "display_name": "Python 3 (ipykernel)",
      "language": "python",
      "name": "python3"
    },
    "language_info": {
      "codemirror_mode": {
        "name": "ipython",
        "version": 3
      },
      "file_extension": ".py",
      "mimetype": "text/x-python",
      "name": "python",
      "nbconvert_exporter": "python",
      "pygments_lexer": "ipython3",
      "version": "3.9.7"
    },
    "colab": {
      "provenance": [],
      "include_colab_link": true
    }
  },
  "nbformat": 4,
  "nbformat_minor": 5
}