{
  "cells": [
    {
      "cell_type": "markdown",
      "metadata": {
        "id": "view-in-github",
        "colab_type": "text"
      },
      "source": [
        "<a href=\"https://colab.research.google.com/github/chaitu713/python-foundations-for-data-analysis/blob/master/1.1%20variables-assignment-1.ipynb\" target=\"_parent\"><img src=\"https://colab.research.google.com/assets/colab-badge.svg\" alt=\"Open In Colab\"/></a>"
      ]
    },
    {
      "cell_type": "markdown",
      "id": "08595217",
      "metadata": {
        "id": "08595217"
      },
      "source": [
        "### Tax Printing Code Change\n",
        "\n",
        "For your first task, I’d like you to change the code that adds a dollar in tax to our price before printing. \n",
        "The tax will no longer be fixed at one dollar, so:\n",
        "* Create a ‘tax’ variable and assign it a value of 2\n",
        "* Create a ‘total’ variable equal to ‘price’ + ‘tax’\n",
        "* Print ‘total’\n"
      ]
    },
    {
      "cell_type": "code",
      "execution_count": 1,
      "id": "248559ed",
      "metadata": {
        "colab": {
          "base_uri": "https://localhost:8080/"
        },
        "id": "248559ed",
        "outputId": "942017d5-5226-40d8-838e-51a17ca7bf3d"
      },
      "outputs": [
        {
          "output_type": "stream",
          "name": "stdout",
          "text": [
            "7\n"
          ]
        }
      ],
      "source": [
        "\n",
        "price = 5\n",
        "\n",
        "tax = 2\n",
        "\n",
        "total = price + tax\n",
        "\n",
        "print(total)"
      ]
    },
    {
      "cell_type": "code",
      "source": [
        "%who"
      ],
      "metadata": {
        "colab": {
          "base_uri": "https://localhost:8080/"
        },
        "id": "0Em6ziBZi9vX",
        "outputId": "98ab52af-f7a8-4774-b106-ef6b76a728c1"
      },
      "id": "0Em6ziBZi9vX",
      "execution_count": 2,
      "outputs": [
        {
          "output_type": "stream",
          "name": "stdout",
          "text": [
            "price\t tax\t total\t \n"
          ]
        }
      ]
    },
    {
      "cell_type": "code",
      "source": [
        "%whos"
      ],
      "metadata": {
        "colab": {
          "base_uri": "https://localhost:8080/"
        },
        "id": "iRITq4U-i-9N",
        "outputId": "19cf7cef-13d9-4875-b711-48a5afd295d6"
      },
      "id": "iRITq4U-i-9N",
      "execution_count": 3,
      "outputs": [
        {
          "output_type": "stream",
          "name": "stdout",
          "text": [
            "Variable   Type    Data/Info\n",
            "----------------------------\n",
            "price      int     5\n",
            "tax        int     2\n",
            "total      int     7\n"
          ]
        }
      ]
    }
  ],
  "metadata": {
    "kernelspec": {
      "display_name": "Python 3 (ipykernel)",
      "language": "python",
      "name": "python3"
    },
    "language_info": {
      "codemirror_mode": {
        "name": "ipython",
        "version": 3
      },
      "file_extension": ".py",
      "mimetype": "text/x-python",
      "name": "python",
      "nbconvert_exporter": "python",
      "pygments_lexer": "ipython3",
      "version": "3.9.7"
    },
    "colab": {
      "provenance": [],
      "include_colab_link": true
    }
  },
  "nbformat": 4,
  "nbformat_minor": 5
}