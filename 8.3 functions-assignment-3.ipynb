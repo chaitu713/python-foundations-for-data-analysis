{
  "cells": [
    {
      "cell_type": "markdown",
      "metadata": {
        "id": "view-in-github",
        "colab_type": "text"
      },
      "source": [
        "<a href=\"https://colab.research.google.com/github/chaitu713/python-foundations-for-data-analysis/blob/master/8.3%20functions-assignment-3.ipynb\" target=\"_parent\"><img src=\"https://colab.research.google.com/assets/colab-badge.svg\" alt=\"Open In Colab\"/></a>"
      ]
    },
    {
      "cell_type": "markdown",
      "id": "2bef0f2c",
      "metadata": {
        "id": "2bef0f2c"
      },
      "source": [
        "### Using the tax calculator!\n",
        "\n",
        "Now that we have a working tax calculator, we need to put it to work.\n",
        "\n",
        "First, import the tax calculator."
      ]
    },
    {
      "cell_type": "markdown",
      "id": "91c81e4f",
      "metadata": {
        "id": "91c81e4f"
      },
      "source": [
        "#### Processing Transactions\n",
        "\n",
        "Apply the tax calculator to the list of subtotals below.\n",
        "\n",
        "We want to store all of the results in a single list, so each list returned from the tax calculator should be a list stored in a list called `full_transactions`. Use the default tax rate for each transaction."
      ]
    },
    {
      "cell_type": "code",
      "source": [
        "from tax_calc import tax_calculator"
      ],
      "metadata": {
        "id": "YdOieJm1ysjb"
      },
      "id": "YdOieJm1ysjb",
      "execution_count": 17,
      "outputs": []
    },
    {
      "cell_type": "code",
      "execution_count": 21,
      "id": "0f62dbc2",
      "metadata": {
        "id": "0f62dbc2",
        "outputId": "a973a4a7-21ae-46fa-ad2f-b87412ef24a6",
        "colab": {
          "base_uri": "https://localhost:8080/"
        }
      },
      "outputs": [
        {
          "output_type": "execute_result",
          "data": {
            "text/plain": [
              "[[15.98, 0.9588, 16.9388],\n",
              " [899.97, 53.9982, 953.9682],\n",
              " [799.97, 47.9982, 847.9682],\n",
              " [117.96, 7.0775999999999994, 125.0376],\n",
              " [5.99, 0.3594, 6.3494],\n",
              " [599.99, 35.9994, 635.9894]]"
            ]
          },
          "metadata": {},
          "execution_count": 21
        }
      ],
      "source": [
        "subtotals = [15.98, 899.97, 799.97, 117.96, 5.99, 599.99]\n",
        "\n",
        "full_transactions = []\n",
        "\n",
        "for subtotal in subtotals:\n",
        "  full_transactions.append(tax_calculator(subtotal))\n",
        "\n",
        "full_transactions"
      ]
    },
    {
      "cell_type": "markdown",
      "id": "0dc14f79",
      "metadata": {
        "id": "0dc14f79"
      },
      "source": [
        "#### Transaction Dictionary\n",
        "\n",
        "Great! Now that you've done that, combine the transactions with the customer_ids below into a dictionary.\n",
        "\n",
        "We want the customer_ids as keys, and the transactions as values."
      ]
    },
    {
      "cell_type": "code",
      "execution_count": 22,
      "id": "ddd6f879",
      "metadata": {
        "id": "ddd6f879",
        "outputId": "dbb67e40-a065-4265-820f-d30c29f64795",
        "colab": {
          "base_uri": "https://localhost:8080/"
        }
      },
      "outputs": [
        {
          "output_type": "execute_result",
          "data": {
            "text/plain": [
              "{'C00004': [15.98, 0.9588, 16.9388],\n",
              " 'C00007': [899.97, 53.9982, 953.9682],\n",
              " 'C00015': [799.97, 47.9982, 847.9682],\n",
              " 'C00016': [117.96, 7.0775999999999994, 125.0376],\n",
              " 'C00020': [5.99, 0.3594, 6.3494],\n",
              " 'C00010': [599.99, 35.9994, 635.9894]}"
            ]
          },
          "metadata": {},
          "execution_count": 22
        }
      ],
      "source": [
        "customer_ids = ['C00004', 'C00007', 'C00015', 'C00016', 'C00020', 'C00010']\n",
        "\n",
        "\n",
        "customer_dict = dict(zip(customer_ids, full_transactions))\n",
        "\n",
        "customer_dict"
      ]
    }
  ],
  "metadata": {
    "kernelspec": {
      "display_name": "Python 3 (ipykernel)",
      "language": "python",
      "name": "python3"
    },
    "language_info": {
      "codemirror_mode": {
        "name": "ipython",
        "version": 3
      },
      "file_extension": ".py",
      "mimetype": "text/x-python",
      "name": "python",
      "nbconvert_exporter": "python",
      "pygments_lexer": "ipython3",
      "version": "3.9.7"
    },
    "colab": {
      "provenance": [],
      "include_colab_link": true
    }
  },
  "nbformat": 4,
  "nbformat_minor": 5
}