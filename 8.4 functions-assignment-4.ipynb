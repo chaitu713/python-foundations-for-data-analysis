{
  "cells": [
    {
      "cell_type": "markdown",
      "metadata": {
        "id": "view-in-github",
        "colab_type": "text"
      },
      "source": [
        "<a href=\"https://colab.research.google.com/github/chaitu713/python-foundations-for-data-analysis/blob/master/8.4%20functions-assignment-4.ipynb\" target=\"_parent\"><img src=\"https://colab.research.google.com/assets/colab-badge.svg\" alt=\"Open In Colab\"/></a>"
      ]
    },
    {
      "cell_type": "markdown",
      "id": "f2dfb940",
      "metadata": {
        "id": "f2dfb940"
      },
      "source": [
        "### Mapping the tax calculator\n",
        "\n",
        "Now that we've successfully got our tax calculator working, can you apply it to the subtotals below?\n",
        "\n",
        "Should be quick! Thanks!\n",
        "\n",
        "P.S. Don't use a loop!"
      ]
    },
    {
      "cell_type": "code",
      "execution_count": 1,
      "id": "420bf3a9",
      "metadata": {
        "id": "420bf3a9"
      },
      "outputs": [],
      "source": [
        "subtotals = [1799.94, 99.99, 254.95, 29.98, 99.99]"
      ]
    },
    {
      "cell_type": "code",
      "execution_count": 3,
      "id": "87aa0545",
      "metadata": {
        "id": "87aa0545"
      },
      "outputs": [],
      "source": [
        "from tax_calc import tax_calculator"
      ]
    },
    {
      "cell_type": "code",
      "source": [
        "list(map(tax_calculator, subtotals))"
      ],
      "metadata": {
        "colab": {
          "base_uri": "https://localhost:8080/"
        },
        "id": "uy04gLPiH10A",
        "outputId": "a6ba584c-fb0d-4bf0-e44f-8dd93474915b"
      },
      "id": "uy04gLPiH10A",
      "execution_count": 6,
      "outputs": [
        {
          "output_type": "execute_result",
          "data": {
            "text/plain": [
              "[[1799.94, 107.9964, 1907.9364],\n",
              " [99.99, 5.9994, 105.98939999999999],\n",
              " [254.95, 15.296999999999999, 270.247],\n",
              " [29.98, 1.7988, 31.7788],\n",
              " [99.99, 5.9994, 105.98939999999999]]"
            ]
          },
          "metadata": {},
          "execution_count": 6
        }
      ]
    }
  ],
  "metadata": {
    "kernelspec": {
      "display_name": "Python 3 (ipykernel)",
      "language": "python",
      "name": "python3"
    },
    "language_info": {
      "codemirror_mode": {
        "name": "ipython",
        "version": 3
      },
      "file_extension": ".py",
      "mimetype": "text/x-python",
      "name": "python",
      "nbconvert_exporter": "python",
      "pygments_lexer": "ipython3",
      "version": "3.9.7"
    },
    "colab": {
      "provenance": [],
      "include_colab_link": true
    }
  },
  "nbformat": 4,
  "nbformat_minor": 5
}