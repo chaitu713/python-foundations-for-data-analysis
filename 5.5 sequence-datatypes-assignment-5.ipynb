{
  "cells": [
    {
      "cell_type": "markdown",
      "metadata": {
        "id": "view-in-github",
        "colab_type": "text"
      },
      "source": [
        "<a href=\"https://colab.research.google.com/github/chaitu713/python-foundations-for-data-analysis/blob/master/5.5%20sequence-datatypes-assignment-5.ipynb\" target=\"_parent\"><img src=\"https://colab.research.google.com/assets/colab-badge.svg\" alt=\"Open In Colab\"/></a>"
      ]
    },
    {
      "cell_type": "markdown",
      "id": "7479ed4d",
      "metadata": {
        "id": "7479ed4d"
      },
      "source": [
        "### Multi Order Customers\n",
        "\n",
        "We want to understand our multi order customers. \n",
        "\n",
        "Below are lists of transactions made by our companies that made multiple orders this weekend."
      ]
    },
    {
      "cell_type": "code",
      "execution_count": 1,
      "id": "e045ab30",
      "metadata": {
        "id": "e045ab30"
      },
      "outputs": [],
      "source": [
        "orders_c00001 = [1799.94, 29.98, 99.99]\n",
        "orders_c00004 = [15.98, 119.99]\n",
        "orders_c00006 = [24.99, 24.99]\n",
        "orders_c00008 = [649.99, 99.99]\n",
        "orders_c00010 = [599.99, 399.97]"
      ]
    },
    {
      "cell_type": "markdown",
      "id": "44c77fb9",
      "metadata": {
        "id": "44c77fb9"
      },
      "source": [
        "### VIP List \n",
        "\n",
        "Create a nested list where each element is one of the customer transaction lists above, called `vip_list`\n"
      ]
    },
    {
      "cell_type": "code",
      "execution_count": 3,
      "id": "72b9a349",
      "metadata": {
        "colab": {
          "base_uri": "https://localhost:8080/"
        },
        "id": "72b9a349",
        "outputId": "7ff90d7d-1bc2-4119-bb78-fa575151699a"
      },
      "outputs": [
        {
          "output_type": "stream",
          "name": "stdout",
          "text": [
            "[[1799.94, 29.98, 99.99], [15.98, 119.99], [24.99, 24.99], [649.99, 99.99], [599.99, 399.97]]\n"
          ]
        }
      ],
      "source": [
        "vip_list = [orders_c00001 , orders_c00004 , orders_c00006 , orders_c00008 , orders_c00010]\n",
        "\n",
        "print(vip_list)"
      ]
    },
    {
      "cell_type": "markdown",
      "id": "90f70596",
      "metadata": {
        "id": "90f70596"
      },
      "source": [
        "Some of us are curious about customer C00001, given that they made three transactions.\n",
        "\n",
        "Report the second and third transactions they made."
      ]
    },
    {
      "cell_type": "code",
      "execution_count": 4,
      "id": "4575ca89",
      "metadata": {
        "colab": {
          "base_uri": "https://localhost:8080/"
        },
        "id": "4575ca89",
        "outputId": "8e10a71a-a947-429c-e043-6137acaf181d"
      },
      "outputs": [
        {
          "output_type": "execute_result",
          "data": {
            "text/plain": [
              "[29.98, 99.99]"
            ]
          },
          "metadata": {},
          "execution_count": 4
        }
      ],
      "source": [
        "vip_list[0][1:]"
      ]
    },
    {
      "cell_type": "markdown",
      "id": "ff092068",
      "metadata": {
        "id": "ff092068"
      },
      "source": [
        "### Revenue Adjusted List\n",
        "\n",
        "We need to make a copy of our `vip_list`. We need to change an entire list inside that we DON'T want reflected in `vip_list`. \n",
        "\n",
        "Call the copy `revenue_adjusted_list`."
      ]
    },
    {
      "cell_type": "code",
      "execution_count": 5,
      "id": "6bedc2ed",
      "metadata": {
        "id": "6bedc2ed"
      },
      "outputs": [],
      "source": [
        "revenue_adjusted_list = vip_list.copy()"
      ]
    },
    {
      "cell_type": "markdown",
      "id": "67e732a6",
      "metadata": {
        "id": "67e732a6"
      },
      "source": [
        "Once you have your copy, change both of customer C00004's transaction values to 0.0.\n",
        "\n",
        "These were gifts and shouldn't be recorded as revenue. Make sure to confirm `vip_list` hasn't changed!"
      ]
    },
    {
      "cell_type": "code",
      "execution_count": 6,
      "id": "4a3aecc3",
      "metadata": {
        "colab": {
          "base_uri": "https://localhost:8080/"
        },
        "id": "4a3aecc3",
        "outputId": "18b2a7eb-2816-4369-a466-0760712003c8"
      },
      "outputs": [
        {
          "output_type": "stream",
          "name": "stdout",
          "text": [
            "[[1799.94, 29.98, 99.99], [15.98, 119.99], [24.99, 24.99], [649.99, 99.99], [599.99, 399.97]]\n"
          ]
        }
      ],
      "source": [
        "print(revenue_adjusted_list)"
      ]
    },
    {
      "cell_type": "code",
      "execution_count": 7,
      "id": "09640567",
      "metadata": {
        "id": "09640567"
      },
      "outputs": [],
      "source": [
        "# our original list should be unchanged\n",
        "revenue_adjusted_list[1] = [0.0, 0.0]"
      ]
    },
    {
      "cell_type": "code",
      "execution_count": 8,
      "id": "00182b46",
      "metadata": {
        "colab": {
          "base_uri": "https://localhost:8080/"
        },
        "id": "00182b46",
        "outputId": "226a2625-8d97-475b-ff47-1fc0b44c77ea"
      },
      "outputs": [
        {
          "output_type": "stream",
          "name": "stdout",
          "text": [
            "[[1799.94, 29.98, 99.99], [0.0, 0.0], [24.99, 24.99], [649.99, 99.99], [599.99, 399.97]]\n"
          ]
        }
      ],
      "source": [
        "print(revenue_adjusted_list)"
      ]
    },
    {
      "cell_type": "code",
      "source": [
        "print(vip_list)"
      ],
      "metadata": {
        "colab": {
          "base_uri": "https://localhost:8080/"
        },
        "id": "DW2xXxN-WG0A",
        "outputId": "793977d8-c3a0-44fe-ae59-078792d6d475"
      },
      "id": "DW2xXxN-WG0A",
      "execution_count": 9,
      "outputs": [
        {
          "output_type": "stream",
          "name": "stdout",
          "text": [
            "[[1799.94, 29.98, 99.99], [15.98, 119.99], [24.99, 24.99], [649.99, 99.99], [599.99, 399.97]]\n"
          ]
        }
      ]
    }
  ],
  "metadata": {
    "kernelspec": {
      "display_name": "Python 3 (ipykernel)",
      "language": "python",
      "name": "python3"
    },
    "language_info": {
      "codemirror_mode": {
        "name": "ipython",
        "version": 3
      },
      "file_extension": ".py",
      "mimetype": "text/x-python",
      "name": "python",
      "nbconvert_exporter": "python",
      "pygments_lexer": "ipython3",
      "version": "3.9.7"
    },
    "colab": {
      "provenance": [],
      "include_colab_link": true
    }
  },
  "nbformat": 4,
  "nbformat_minor": 5
}