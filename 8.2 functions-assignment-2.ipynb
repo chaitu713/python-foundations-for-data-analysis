{
  "cells": [
    {
      "cell_type": "markdown",
      "metadata": {
        "id": "view-in-github",
        "colab_type": "text"
      },
      "source": [
        "<a href=\"https://colab.research.google.com/github/chaitu713/python-foundations-for-data-analysis/blob/master/8.2%20functions-assignment-2.ipynb\" target=\"_parent\"><img src=\"https://colab.research.google.com/assets/colab-badge.svg\" alt=\"Open In Colab\"/></a>"
      ]
    },
    {
      "cell_type": "markdown",
      "id": "489b9d5b",
      "metadata": {
        "id": "489b9d5b"
      },
      "source": [
        "### Modified Tax Calculator\n",
        "\n",
        "Since the tax calculator we made was primarily for our Stowe employees, let's modify the tax calculator below to have a default tax rate of 6%. \n",
        "\n",
        "Also, we want the output of the function to return a list containing the subtotal, tax, and totals."
      ]
    },
    {
      "cell_type": "code",
      "execution_count": 4,
      "id": "4105f94b",
      "metadata": {
        "colab": {
          "base_uri": "https://localhost:8080/"
        },
        "id": "4105f94b",
        "outputId": "fbcb0553-cf80-42a7-8272-c2261cdfc35b"
      },
      "outputs": [
        {
          "output_type": "stream",
          "name": "stdout",
          "text": [
            "Overwriting tax_calculator.py\n"
          ]
        }
      ],
      "source": [
        "%%writefile tax_calculator.py\n",
        "\n",
        "def tax_calculator(subtotal, tax_rate = 0.06):\n",
        "  return [subtotal, subtotal * tax_rate, subtotal + (subtotal * tax_rate)]"
      ]
    },
    {
      "cell_type": "code",
      "source": [
        "from tax_calculator import tax_calculator"
      ],
      "metadata": {
        "id": "W0QQ7SVru5Zl"
      },
      "id": "W0QQ7SVru5Zl",
      "execution_count": 5,
      "outputs": []
    },
    {
      "cell_type": "code",
      "source": [
        "tax_calculator(100)"
      ],
      "metadata": {
        "colab": {
          "base_uri": "https://localhost:8080/"
        },
        "id": "nD__KSuFvIPY",
        "outputId": "275c5110-4a8a-4e11-da37-49aabe2967d4"
      },
      "id": "nD__KSuFvIPY",
      "execution_count": 6,
      "outputs": [
        {
          "output_type": "execute_result",
          "data": {
            "text/plain": [
              "[100, 6.0, 106.0]"
            ]
          },
          "metadata": {},
          "execution_count": 6
        }
      ]
    },
    {
      "cell_type": "code",
      "source": [
        "tax_calculator(200, 0.05)"
      ],
      "metadata": {
        "colab": {
          "base_uri": "https://localhost:8080/"
        },
        "id": "sqbO_tPFvKtY",
        "outputId": "dbd254c8-e053-4582-f8b6-e30e92899b93"
      },
      "id": "sqbO_tPFvKtY",
      "execution_count": 7,
      "outputs": [
        {
          "output_type": "execute_result",
          "data": {
            "text/plain": [
              "[200, 10.0, 210.0]"
            ]
          },
          "metadata": {},
          "execution_count": 7
        }
      ]
    }
  ],
  "metadata": {
    "kernelspec": {
      "display_name": "Python 3 (ipykernel)",
      "language": "python",
      "name": "python3"
    },
    "language_info": {
      "codemirror_mode": {
        "name": "ipython",
        "version": 3
      },
      "file_extension": ".py",
      "mimetype": "text/x-python",
      "name": "python",
      "nbconvert_exporter": "python",
      "pygments_lexer": "ipython3",
      "version": "3.9.7"
    },
    "colab": {
      "provenance": [],
      "include_colab_link": true
    }
  },
  "nbformat": 4,
  "nbformat_minor": 5
}