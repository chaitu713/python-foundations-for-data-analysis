{
  "cells": [
    {
      "cell_type": "markdown",
      "metadata": {
        "id": "view-in-github",
        "colab_type": "text"
      },
      "source": [
        "<a href=\"https://colab.research.google.com/github/chaitu713/python-foundations-for-data-analysis/blob/master/8.2%20functions-assignment-2.ipynb\" target=\"_parent\"><img src=\"https://colab.research.google.com/assets/colab-badge.svg\" alt=\"Open In Colab\"/></a>"
      ]
    },
    {
      "cell_type": "markdown",
      "id": "489b9d5b",
      "metadata": {
        "id": "489b9d5b"
      },
      "source": [
        "### Modified Tax Calculator\n",
        "\n",
        "Since the tax calculator we made was primarily for our Stowe employees, let's modify the tax calculator below to have a default tax rate of 6%. \n",
        "\n",
        "Also, we want the output of the function to return a list containing the subtotal, tax, and totals."
      ]
    },
    {
      "cell_type": "code",
      "execution_count": 9,
      "id": "4105f94b",
      "metadata": {
        "id": "4105f94b"
      },
      "outputs": [],
      "source": [
        "def tax_calculator(subtotal, tax_rate = 0.06):\n",
        "  return [subtotal, subtotal * tax_rate, subtotal + (subtotal * tax_rate)]"
      ]
    },
    {
      "cell_type": "code",
      "execution_count": 10,
      "id": "2784deb1",
      "metadata": {
        "colab": {
          "base_uri": "https://localhost:8080/"
        },
        "id": "2784deb1",
        "outputId": "ba4967f0-61f5-4c29-f338-868b8df49b93"
      },
      "outputs": [
        {
          "output_type": "execute_result",
          "data": {
            "text/plain": [
              "[100, 6.0, 106.0]"
            ]
          },
          "metadata": {},
          "execution_count": 10
        }
      ],
      "source": [
        "tax_calculator(100)"
      ]
    },
    {
      "cell_type": "code",
      "source": [
        "tax_calculator(200, 0.05)"
      ],
      "metadata": {
        "colab": {
          "base_uri": "https://localhost:8080/"
        },
        "id": "fUC1wDeZsu9I",
        "outputId": "2103b543-3738-445e-ffbc-f45c31a4f6f8"
      },
      "id": "fUC1wDeZsu9I",
      "execution_count": 11,
      "outputs": [
        {
          "output_type": "execute_result",
          "data": {
            "text/plain": [
              "[200, 10.0, 210.0]"
            ]
          },
          "metadata": {},
          "execution_count": 11
        }
      ]
    }
  ],
  "metadata": {
    "kernelspec": {
      "display_name": "Python 3 (ipykernel)",
      "language": "python",
      "name": "python3"
    },
    "language_info": {
      "codemirror_mode": {
        "name": "ipython",
        "version": 3
      },
      "file_extension": ".py",
      "mimetype": "text/x-python",
      "name": "python",
      "nbconvert_exporter": "python",
      "pygments_lexer": "ipython3",
      "version": "3.9.7"
    },
    "colab": {
      "provenance": [],
      "include_colab_link": true
    }
  },
  "nbformat": 4,
  "nbformat_minor": 5
}