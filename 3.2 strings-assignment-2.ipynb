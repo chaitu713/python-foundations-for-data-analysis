{
  "cells": [
    {
      "cell_type": "markdown",
      "metadata": {
        "id": "view-in-github",
        "colab_type": "text"
      },
      "source": [
        "<a href=\"https://colab.research.google.com/github/chaitu713/python-foundations-for-data-analysis/blob/master/3.2%20strings-assignment-2.ipynb\" target=\"_parent\"><img src=\"https://colab.research.google.com/assets/colab-badge.svg\" alt=\"Open In Colab\"/></a>"
      ]
    },
    {
      "cell_type": "markdown",
      "id": "3ae6e6e6",
      "metadata": {
        "id": "3ae6e6e6"
      },
      "source": [
        "### Marketing Copy\n",
        "\n",
        "Our testimonial is in the first cell below, assigned to `testimonial`.\n",
        "\n",
        "Run the cell to create the string."
      ]
    },
    {
      "cell_type": "code",
      "execution_count": 2,
      "id": "6075a1ca",
      "metadata": {
        "id": "6075a1ca"
      },
      "outputs": [],
      "source": [
        "testimonial = '''I love skiing. It's my favorite hobby.\n",
        "Some people say, \"It's not a hobby, it's life.\"\n",
        "'''"
      ]
    },
    {
      "cell_type": "markdown",
      "id": "1e1fb424",
      "metadata": {
        "id": "1e1fb424"
      },
      "source": [
        "### First Draft\n",
        "\n",
        "Please create the message 'I love skiing. It's my life.' by slicing  `testimonial`.\n",
        "\n",
        "Assign this message to a variable called `short_testimonial`, and print it."
      ]
    },
    {
      "cell_type": "code",
      "execution_count": 15,
      "id": "5aec1849",
      "metadata": {
        "colab": {
          "base_uri": "https://localhost:8080/"
        },
        "id": "5aec1849",
        "outputId": "8a2d429f-55c4-439f-93df-a3665066d9e4"
      },
      "outputs": [
        {
          "output_type": "stream",
          "name": "stdout",
          "text": [
            "I love skiing. It's my life.\n"
          ]
        }
      ],
      "source": [
        "short_testimonial = testimonial[0:23:1] + testimonial[-7:-2]\n",
        "\n",
        "print(short_testimonial)"
      ]
    },
    {
      "cell_type": "markdown",
      "id": "af2ee601",
      "metadata": {
        "id": "af2ee601"
      },
      "source": [
        "### Second Draft\n",
        "\n",
        "We might need to shorten the message (we pay by the word). \n",
        "\n",
        "Slice `short_testimonial` down to 'I love my life!'.\n",
        "\n",
        "You may need to add an exclamation point. Assign this message to `happy_customer`, and print it."
      ]
    },
    {
      "cell_type": "code",
      "execution_count": 16,
      "id": "e175a969",
      "metadata": {
        "colab": {
          "base_uri": "https://localhost:8080/"
        },
        "id": "e175a969",
        "outputId": "7660b42c-563b-4952-a6bf-8a44fa060fd8"
      },
      "outputs": [
        {
          "output_type": "stream",
          "name": "stdout",
          "text": [
            "I love my life!\n"
          ]
        }
      ],
      "source": [
        "happy_customer = short_testimonial[0:7] + short_testimonial[-8:-1] + \"!\"\n",
        "\n",
        "print(happy_customer)"
      ]
    }
  ],
  "metadata": {
    "kernelspec": {
      "display_name": "Python 3 (ipykernel)",
      "language": "python",
      "name": "python3"
    },
    "language_info": {
      "codemirror_mode": {
        "name": "ipython",
        "version": 3
      },
      "file_extension": ".py",
      "mimetype": "text/x-python",
      "name": "python",
      "nbconvert_exporter": "python",
      "pygments_lexer": "ipython3",
      "version": "3.9.7"
    },
    "colab": {
      "provenance": [],
      "include_colab_link": true
    }
  },
  "nbformat": 4,
  "nbformat_minor": 5
}