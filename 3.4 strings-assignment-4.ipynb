{
  "cells": [
    {
      "cell_type": "markdown",
      "metadata": {
        "id": "view-in-github",
        "colab_type": "text"
      },
      "source": [
        "<a href=\"https://colab.research.google.com/github/chaitu713/python-foundations-for-data-analysis/blob/master/3.4%20strings-assignment-4.ipynb\" target=\"_parent\"><img src=\"https://colab.research.google.com/assets/colab-badge.svg\" alt=\"Open In Colab\"/></a>"
      ]
    },
    {
      "cell_type": "markdown",
      "id": "5e60c15c",
      "metadata": {
        "id": "5e60c15c"
      },
      "source": [
        "### New Marketing Copy \n",
        "\n",
        "Ok, time to draft some more copy - the CEO wasn't pleased that we didn't mention a ski shop in our last version.\n",
        "\n",
        "Below are five text messages we need to draw from."
      ]
    },
    {
      "cell_type": "code",
      "execution_count": 1,
      "id": "af7c47ce",
      "metadata": {
        "id": "af7c47ce"
      },
      "outputs": [],
      "source": [
        "text1 = '          Your friend Mark'\n",
        "text2 = 'was'\n",
        "text3 = 'having'\n",
        "text4 = 'a great day'\n",
        "text5 = 'on the mountain'"
      ]
    },
    {
      "cell_type": "markdown",
      "id": "51eacfa4",
      "metadata": {
        "id": "51eacfa4"
      },
      "source": [
        "### Combine the Texts\n",
        "\n",
        "Combine the messages into a single string, assigned to `full_text`."
      ]
    },
    {
      "cell_type": "code",
      "execution_count": 5,
      "id": "3fc90fbb",
      "metadata": {
        "colab": {
          "base_uri": "https://localhost:8080/",
          "height": 35
        },
        "id": "3fc90fbb",
        "outputId": "07591cf6-b974-445c-850c-7076f32eb5c6"
      },
      "outputs": [
        {
          "output_type": "execute_result",
          "data": {
            "text/plain": [
              "'          Your friend Mark was having a great day on the mountain'"
            ],
            "application/vnd.google.colaboratory.intrinsic+json": {
              "type": "string"
            }
          },
          "metadata": {},
          "execution_count": 5
        }
      ],
      "source": [
        "full_text = text1 + ' ' + text2 + ' ' + text3 + ' ' + text4 + ' ' + text5\n",
        "\n",
        "full_text"
      ]
    },
    {
      "cell_type": "markdown",
      "id": "90143a4f",
      "metadata": {
        "id": "90143a4f"
      },
      "source": [
        "### Clean it up\n",
        "\n",
        "Remove the leading spaces and let's make it all lower case for now. "
      ]
    },
    {
      "cell_type": "code",
      "execution_count": 6,
      "id": "26519221",
      "metadata": {
        "colab": {
          "base_uri": "https://localhost:8080/",
          "height": 35
        },
        "id": "26519221",
        "outputId": "3e670694-1427-4486-e26e-5f1846aa1bc7"
      },
      "outputs": [
        {
          "output_type": "execute_result",
          "data": {
            "text/plain": [
              "'your friend mark was having a great day on the mountain'"
            ],
            "application/vnd.google.colaboratory.intrinsic+json": {
              "type": "string"
            }
          },
          "metadata": {},
          "execution_count": 6
        }
      ],
      "source": [
        "fixed_text = full_text.lstrip().lower()\n",
        "\n",
        "fixed_text"
      ]
    },
    {
      "cell_type": "markdown",
      "id": "e6a2ff1a",
      "metadata": {
        "id": "e6a2ff1a"
      },
      "source": [
        "### A *SLIGHT* Change\n",
        "\n",
        "Change the portion of the message that reads 'on the mountain' to 'at the ski shop'."
      ]
    },
    {
      "cell_type": "code",
      "execution_count": 7,
      "id": "a5ea4032",
      "metadata": {
        "colab": {
          "base_uri": "https://localhost:8080/",
          "height": 35
        },
        "id": "a5ea4032",
        "outputId": "1c148b47-4ac6-40b9-c4fe-0528ce9496c0"
      },
      "outputs": [
        {
          "output_type": "execute_result",
          "data": {
            "text/plain": [
              "'your friend mark was having a great day at the ski shop'"
            ],
            "application/vnd.google.colaboratory.intrinsic+json": {
              "type": "string"
            }
          },
          "metadata": {},
          "execution_count": 7
        }
      ],
      "source": [
        "new_text = fixed_text.replace('on the mountain', 'at the ski shop')\n",
        "\n",
        "new_text"
      ]
    },
    {
      "cell_type": "markdown",
      "id": "daaac727",
      "metadata": {
        "id": "daaac727"
      },
      "source": [
        "### Count the words\n",
        "\n",
        "Look up a string method [here](https://docs.python.org/3/library/stdtypes.html#string-methods) that can help us count the number of words in our messages. We just need to count how many spaces there are and add 1. "
      ]
    },
    {
      "cell_type": "code",
      "execution_count": 8,
      "id": "2ce7d4e5",
      "metadata": {
        "colab": {
          "base_uri": "https://localhost:8080/"
        },
        "id": "2ce7d4e5",
        "outputId": "24a9c52f-ef08-4964-8109-16b6d78005ef"
      },
      "outputs": [
        {
          "output_type": "execute_result",
          "data": {
            "text/plain": [
              "12"
            ]
          },
          "metadata": {},
          "execution_count": 8
        }
      ],
      "source": [
        "word_count = new_text.count(\" \") + 1\n",
        "\n",
        "word_count"
      ]
    }
  ],
  "metadata": {
    "kernelspec": {
      "display_name": "Python 3 (ipykernel)",
      "language": "python",
      "name": "python3"
    },
    "language_info": {
      "codemirror_mode": {
        "name": "ipython",
        "version": 3
      },
      "file_extension": ".py",
      "mimetype": "text/x-python",
      "name": "python",
      "nbconvert_exporter": "python",
      "pygments_lexer": "ipython3",
      "version": "3.9.7"
    },
    "colab": {
      "provenance": [],
      "include_colab_link": true
    }
  },
  "nbformat": 4,
  "nbformat_minor": 5
}