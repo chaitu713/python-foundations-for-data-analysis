{
  "cells": [
    {
      "cell_type": "markdown",
      "metadata": {
        "id": "view-in-github",
        "colab_type": "text"
      },
      "source": [
        "<a href=\"https://colab.research.google.com/github/chaitu713/python-foundations-for-data-analysis/blob/master/7.1.3%20dictionaries-sets-assignment-3.ipynb\" target=\"_parent\"><img src=\"https://colab.research.google.com/assets/colab-badge.svg\" alt=\"Open In Colab\"/></a>"
      ]
    },
    {
      "cell_type": "markdown",
      "id": "6141657d",
      "metadata": {
        "id": "6141657d"
      },
      "source": [
        "### Help with European Data"
      ]
    },
    {
      "cell_type": "markdown",
      "id": "ed9f553b",
      "metadata": {
        "id": "ed9f553b"
      },
      "source": [
        "Below is our product dictionary, `item_dict`. We need to use it to get some data for our European team.\n",
        "\n",
        "Run the cell below to create the dictionary."
      ]
    },
    {
      "cell_type": "code",
      "execution_count": 1,
      "id": "9fa0d2d1",
      "metadata": {
        "id": "9fa0d2d1"
      },
      "outputs": [],
      "source": [
        "item_dict = {\n",
        "    10001: ('Coffee', 5.99, 'beverage', ['250mL']),\n",
        "    10002: ('Beanie', 9.99, 'clothing', ['Child', 'Adult']),\n",
        "    10003: ('Gloves', 19.99, 'clothing', ['Child', 'Adult']),\n",
        "    10004: ('Sweatshirt', 24.99, 'clothing', ['XS', 'S', 'M', 'L', 'XL', 'XXL']),\n",
        "    10005: ('Helmet', 99.99, 'safety', ['Child', 'Adult']),\n",
        "    10006: ('Snow Pants', 79.99, 'clothing', ['XS', 'S', 'M', 'L', 'XL', 'XXL']),\n",
        "    10007: ('Coat', 119.99, 'clothing', ['S', 'M', 'L']),\n",
        "    10008: ('Ski Poles', 99.99, 'hardware', ['S', 'M', 'L']),\n",
        "    10009: ('Ski Boots', 199.99, 'hardware', [5, 6, 7, 8, 9, 10, 11])\n",
        "}"
      ]
    },
    {
      "cell_type": "markdown",
      "id": "e08dd2c3",
      "metadata": {
        "id": "e08dd2c3"
      },
      "source": [
        "### Size Counts\n",
        "\n",
        "First I need a dictionary with the item numbers in `item_dict` as keys, and the number of sizes available for each item as the values. Sizes are stored in lists at the end of each 'row' of data. Key 10001 has a list with one size, 250ml at the end."
      ]
    },
    {
      "cell_type": "code",
      "execution_count": 15,
      "id": "4726c6bc",
      "metadata": {
        "colab": {
          "base_uri": "https://localhost:8080/"
        },
        "id": "4726c6bc",
        "outputId": "55a400d7-7579-4b65-edd5-fbb7bca0c137"
      },
      "outputs": [
        {
          "output_type": "execute_result",
          "data": {
            "text/plain": [
              "{10001: 1,\n",
              " 10002: 2,\n",
              " 10003: 2,\n",
              " 10004: 6,\n",
              " 10005: 2,\n",
              " 10006: 6,\n",
              " 10007: 3,\n",
              " 10008: 3,\n",
              " 10009: 7}"
            ]
          },
          "metadata": {},
          "execution_count": 15
        }
      ],
      "source": [
        "size_counts = {}\n",
        "\n",
        "for key, value in item_dict.items():\n",
        "  size_counts[key] = len(value[3])\n",
        "\n",
        "size_counts"
      ]
    },
    {
      "cell_type": "markdown",
      "id": "11af989d",
      "metadata": {
        "id": "11af989d"
      },
      "source": [
        "### New Size Options\n",
        "\n",
        "Now that you've done that, we need to add two products to `size_counts`:\n",
        "\n",
        "* Item 10010 has 4 sizes.\n",
        "* Item 10011 has 7 possible sizes."
      ]
    },
    {
      "cell_type": "code",
      "execution_count": 17,
      "id": "4b29b780",
      "metadata": {
        "colab": {
          "base_uri": "https://localhost:8080/"
        },
        "id": "4b29b780",
        "outputId": "8d466813-0ae4-48fb-ceb0-2bb451ee5a26"
      },
      "outputs": [
        {
          "output_type": "execute_result",
          "data": {
            "text/plain": [
              "{10001: 1,\n",
              " 10002: 2,\n",
              " 10003: 2,\n",
              " 10004: 6,\n",
              " 10005: 2,\n",
              " 10006: 6,\n",
              " 10007: 3,\n",
              " 10008: 3,\n",
              " 10009: 7,\n",
              " 10010: 4,\n",
              " 10011: 7}"
            ]
          },
          "metadata": {},
          "execution_count": 17
        }
      ],
      "source": [
        "size_counts.update({10010: 4, 10011: 7})\n",
        "\n",
        "size_counts"
      ]
    },
    {
      "cell_type": "markdown",
      "id": "53151ddb",
      "metadata": {
        "id": "53151ddb"
      },
      "source": [
        "### Euro Pricing\n",
        "\n",
        "Finally, pull the prices out of `item_dict` and create a list with converted Euro pricing. Use an exchange rate of .88."
      ]
    },
    {
      "cell_type": "code",
      "execution_count": 23,
      "id": "0526801e",
      "metadata": {
        "colab": {
          "base_uri": "https://localhost:8080/"
        },
        "id": "0526801e",
        "outputId": "7b9c5018-5aca-4280-c938-763a3d162d7b"
      },
      "outputs": [
        {
          "output_type": "execute_result",
          "data": {
            "text/plain": [
              "[5.27, 8.79, 17.59, 21.99, 87.99, 70.39, 105.59, 87.99, 175.99]"
            ]
          },
          "metadata": {},
          "execution_count": 23
        }
      ],
      "source": [
        "exchange_rate = .88\n",
        "euro_prices = []\n",
        "\n",
        "prices = []\n",
        "\n",
        "for key, value in item_dict.items():\n",
        "  prices.append(value[1])\n",
        "\n",
        "for price in prices:\n",
        "  final_price = round(price * 0.88, 2)\n",
        "  euro_prices.append(final_price)\n",
        "\n",
        "euro_prices"
      ]
    }
  ],
  "metadata": {
    "kernelspec": {
      "display_name": "Python 3 (ipykernel)",
      "language": "python",
      "name": "python3"
    },
    "language_info": {
      "codemirror_mode": {
        "name": "ipython",
        "version": 3
      },
      "file_extension": ".py",
      "mimetype": "text/x-python",
      "name": "python",
      "nbconvert_exporter": "python",
      "pygments_lexer": "ipython3",
      "version": "3.9.7"
    },
    "colab": {
      "provenance": [],
      "include_colab_link": true
    }
  },
  "nbformat": 4,
  "nbformat_minor": 5
}