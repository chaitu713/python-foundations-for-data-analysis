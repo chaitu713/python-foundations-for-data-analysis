{
  "cells": [
    {
      "cell_type": "markdown",
      "metadata": {
        "id": "view-in-github",
        "colab_type": "text"
      },
      "source": [
        "<a href=\"https://colab.research.google.com/github/chaitu713/python-foundations-for-data-analysis/blob/master/9.1%20manipulating-excel-sheets-assignment-1.ipynb\" target=\"_parent\"><img src=\"https://colab.research.google.com/assets/colab-badge.svg\" alt=\"Open In Colab\"/></a>"
      ]
    },
    {
      "cell_type": "markdown",
      "id": "53a15102",
      "metadata": {
        "id": "53a15102"
      },
      "source": [
        "### Excel Data Sales Tax\n",
        "\n",
        "We need to calculate the sales tax for customer C00010 in the excel workbook 'maven_ski_shop_data'.\n",
        "\n",
        "Their transaction should be in row 'D10'. Apply a sales tax of 8%. \n",
        "\n",
        "First:\n",
        "\n",
        "* Import the openpyxl library.\n",
        "* Then load the workbook 'maven_ski_shop_data.xlsx' into Python (this is in the current section folder).\n",
        "* Finally, assign a name to the 'Orders_Info' worksheet."
      ]
    },
    {
      "cell_type": "code",
      "execution_count": 2,
      "id": "3d9b16c3",
      "metadata": {
        "colab": {
          "base_uri": "https://localhost:8080/"
        },
        "id": "3d9b16c3",
        "outputId": "c920cc8d-0ff9-48c0-d000-0443d67d2b85"
      },
      "outputs": [
        {
          "output_type": "execute_result",
          "data": {
            "text/plain": [
              "['Item_Info', 'Inventory_Levels', 'Orders_Info']"
            ]
          },
          "metadata": {},
          "execution_count": 2
        }
      ],
      "source": [
        "import openpyxl as xl\n",
        "\n",
        "workbook = xl.load_workbook('/content/maven_ski_shop_data.xlsx')\n",
        "\n",
        "workbook.sheetnames"
      ]
    },
    {
      "cell_type": "code",
      "source": [
        "orders = workbook['Orders_Info']\n",
        "\n",
        "orders"
      ],
      "metadata": {
        "colab": {
          "base_uri": "https://localhost:8080/"
        },
        "id": "AXbYMjWEb8Ra",
        "outputId": "c47fda73-d4b1-4ca7-99f8-ca346ae7b71e"
      },
      "id": "AXbYMjWEb8Ra",
      "execution_count": 4,
      "outputs": [
        {
          "output_type": "execute_result",
          "data": {
            "text/plain": [
              "<Worksheet \"Orders_Info\">"
            ]
          },
          "metadata": {},
          "execution_count": 4
        }
      ]
    },
    {
      "cell_type": "markdown",
      "id": "29c10cac",
      "metadata": {
        "id": "29c10cac"
      },
      "source": [
        "### Sales Tax Calculation\n",
        "\n",
        "Ok, you should be ready to go - calculate the sales tax and total for the transaction in cell D10. \n",
        "\n",
        "Remember we already have a tax calculator function to do this! \n",
        "\n",
        "Consider printing your output with a string message!"
      ]
    },
    {
      "cell_type": "code",
      "execution_count": 5,
      "id": "9c21f0e8",
      "metadata": {
        "id": "9c21f0e8"
      },
      "outputs": [],
      "source": [
        "from tax_cal import tax_calculator"
      ]
    },
    {
      "cell_type": "code",
      "source": [
        "transaction = tax_calculator(orders['D10'].value, 0.08)\n",
        "\n",
        "transaction"
      ],
      "metadata": {
        "colab": {
          "base_uri": "https://localhost:8080/"
        },
        "id": "YNzFgS7ccHvh",
        "outputId": "8c64d593-ca76-450a-bb40-4a5b48abeae7"
      },
      "id": "YNzFgS7ccHvh",
      "execution_count": 6,
      "outputs": [
        {
          "output_type": "execute_result",
          "data": {
            "text/plain": [
              "[99.99, 7.9992, 107.9892]"
            ]
          },
          "metadata": {},
          "execution_count": 6
        }
      ]
    },
    {
      "cell_type": "code",
      "source": [
        "print(\"Sales Tax: $\" + str(round(transaction[1], 2)))\n",
        "\n",
        "print(\"Total: $\" + str(round(transaction[2], 2)))"
      ],
      "metadata": {
        "colab": {
          "base_uri": "https://localhost:8080/"
        },
        "id": "4ci-7RMIcSFv",
        "outputId": "286f4224-d668-4921-afe0-1a9b5620b463"
      },
      "id": "4ci-7RMIcSFv",
      "execution_count": 7,
      "outputs": [
        {
          "output_type": "stream",
          "name": "stdout",
          "text": [
            "Sales Tax: $8.0\n",
            "Total: $107.99\n"
          ]
        }
      ]
    }
  ],
  "metadata": {
    "kernelspec": {
      "display_name": "Python 3 (ipykernel)",
      "language": "python",
      "name": "python3"
    },
    "language_info": {
      "codemirror_mode": {
        "name": "ipython",
        "version": 3
      },
      "file_extension": ".py",
      "mimetype": "text/x-python",
      "name": "python",
      "nbconvert_exporter": "python",
      "pygments_lexer": "ipython3",
      "version": "3.9.7"
    },
    "colab": {
      "provenance": [],
      "include_colab_link": true
    }
  },
  "nbformat": 4,
  "nbformat_minor": 5
}