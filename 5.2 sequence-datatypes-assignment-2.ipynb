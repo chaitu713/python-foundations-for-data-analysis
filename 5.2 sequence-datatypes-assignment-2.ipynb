{
  "cells": [
    {
      "cell_type": "markdown",
      "metadata": {
        "id": "view-in-github",
        "colab_type": "text"
      },
      "source": [
        "<a href=\"https://colab.research.google.com/github/chaitu713/python-foundations-for-data-analysis/blob/master/5.2%20sequence-datatypes-assignment-2.ipynb\" target=\"_parent\"><img src=\"https://colab.research.google.com/assets/colab-badge.svg\" alt=\"Open In Colab\"/></a>"
      ]
    },
    {
      "cell_type": "markdown",
      "id": "80f78a5d",
      "metadata": {
        "id": "80f78a5d"
      },
      "source": [
        "### Updated Customer Lists\n",
        "\n",
        "Hi there, we need to add customer 'C00009' to `customer_list`, we just found their receipt in the warehouse.\n",
        "\n",
        "I've included the original `customer_list` below."
      ]
    },
    {
      "cell_type": "code",
      "execution_count": 17,
      "id": "ae8b954c",
      "metadata": {
        "colab": {
          "base_uri": "https://localhost:8080/"
        },
        "id": "ae8b954c",
        "outputId": "1d2cf649-f1da-4af6-db7c-23b2ed0497fb"
      },
      "outputs": [
        {
          "output_type": "stream",
          "name": "stdout",
          "text": [
            "['C00001', 'C00003', 'C00004', 'C00005', 'C00006', 'C00007', 'C00008', 'C00010', 'C00013', 'C00014', 'C00015', 'C00016', 'C00020']\n"
          ]
        }
      ],
      "source": [
        "customer_list = [\n",
        "    'C00001', 'C00003', 'C00004','C00005', 'C00006', \n",
        "    'C00007', 'C00008', 'C00010', 'C00013', 'C00014', \n",
        "    'C00015', 'C00016', 'C00020'\n",
        "]\n",
        "\n",
        "print(customer_list)"
      ]
    },
    {
      "cell_type": "code",
      "execution_count": 18,
      "id": "325d8278",
      "metadata": {
        "colab": {
          "base_uri": "https://localhost:8080/"
        },
        "id": "325d8278",
        "outputId": "55f45c3e-3ef7-4aef-8f32-9c871722b8e7"
      },
      "outputs": [
        {
          "output_type": "stream",
          "name": "stdout",
          "text": [
            "['C00001', 'C00003', 'C00004', 'C00005', 'C00006', 'C00007', 'C00008', 'C00010', 'C00013', 'C00014', 'C00015', 'C00016', 'C00020', 'C00009']\n"
          ]
        }
      ],
      "source": [
        "customer_list.append('C00009') # also we can add element into list using insert() by specifing an index\n",
        "\n",
        "print(customer_list)"
      ]
    },
    {
      "cell_type": "markdown",
      "id": "dd19810a",
      "metadata": {
        "id": "dd19810a"
      },
      "source": [
        "### Adding Saturday Customers\n",
        "\n",
        "Add the customers from `saturday_list` to `customer_list` below."
      ]
    },
    {
      "cell_type": "code",
      "execution_count": 19,
      "id": "f2fd414a",
      "metadata": {
        "colab": {
          "base_uri": "https://localhost:8080/"
        },
        "id": "f2fd414a",
        "outputId": "e53b53ac-ee33-482c-90c3-894c88c8554b"
      },
      "outputs": [
        {
          "output_type": "stream",
          "name": "stdout",
          "text": [
            "['C00004', 'C00017', 'C00019', 'C00002', 'C00008', 'C00021', 'C00022']\n"
          ]
        }
      ],
      "source": [
        "saturday_list = [\n",
        "    'C00004', 'C00017', 'C00019', 'C00002', 'C00008',\n",
        "    'C00021', 'C00022'\n",
        "]\n",
        "\n",
        "print(saturday_list)"
      ]
    },
    {
      "cell_type": "code",
      "source": [
        "customer_list = customer_list + saturday_list\n",
        "\n",
        "customer_list"
      ],
      "metadata": {
        "colab": {
          "base_uri": "https://localhost:8080/"
        },
        "id": "QmNTwIhvJklu",
        "outputId": "b5c977f2-548b-456f-c1d1-8f4e6a62b842"
      },
      "id": "QmNTwIhvJklu",
      "execution_count": 20,
      "outputs": [
        {
          "output_type": "execute_result",
          "data": {
            "text/plain": [
              "['C00001',\n",
              " 'C00003',\n",
              " 'C00004',\n",
              " 'C00005',\n",
              " 'C00006',\n",
              " 'C00007',\n",
              " 'C00008',\n",
              " 'C00010',\n",
              " 'C00013',\n",
              " 'C00014',\n",
              " 'C00015',\n",
              " 'C00016',\n",
              " 'C00020',\n",
              " 'C00009',\n",
              " 'C00004',\n",
              " 'C00017',\n",
              " 'C00019',\n",
              " 'C00002',\n",
              " 'C00008',\n",
              " 'C00021',\n",
              " 'C00022']"
            ]
          },
          "metadata": {},
          "execution_count": 20
        }
      ]
    }
  ],
  "metadata": {
    "kernelspec": {
      "display_name": "Python 3 (ipykernel)",
      "language": "python",
      "name": "python3"
    },
    "language_info": {
      "codemirror_mode": {
        "name": "ipython",
        "version": 3
      },
      "file_extension": ".py",
      "mimetype": "text/x-python",
      "name": "python",
      "nbconvert_exporter": "python",
      "pygments_lexer": "ipython3",
      "version": "3.9.7"
    },
    "colab": {
      "provenance": [],
      "include_colab_link": true
    }
  },
  "nbformat": 4,
  "nbformat_minor": 5
}