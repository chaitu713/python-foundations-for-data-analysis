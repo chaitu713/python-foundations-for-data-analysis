{
  "cells": [
    {
      "cell_type": "markdown",
      "metadata": {
        "id": "view-in-github",
        "colab_type": "text"
      },
      "source": [
        "<a href=\"https://colab.research.google.com/github/chaitu713/python-foundations-for-data-analysis/blob/master/6.1%20loops-assignment-1.ipynb\" target=\"_parent\"><img src=\"https://colab.research.google.com/assets/colab-badge.svg\" alt=\"Open In Colab\"/></a>"
      ]
    },
    {
      "cell_type": "markdown",
      "id": "d5858f7d",
      "metadata": {
        "id": "d5858f7d"
      },
      "source": [
        "### Applying Sales Tax\n",
        "\n",
        "Last weekend our system went down and we didn't have a calculator on site, so we told customers we'd charge them for tax later. \n",
        "\n",
        "The transactions are below."
      ]
    },
    {
      "cell_type": "code",
      "execution_count": 11,
      "id": "ecf7bfd9",
      "metadata": {
        "id": "ecf7bfd9"
      },
      "outputs": [],
      "source": [
        "subtotals = [15.98, 899.97, 799.97, 117.96, 5.99, 599.99, 24.99, 1799.94, 99.99]"
      ]
    },
    {
      "cell_type": "markdown",
      "id": "e30ee503",
      "metadata": {
        "id": "e30ee503"
      },
      "source": [
        "Can you apply sales tax to all of the transactions?\n",
        "\n",
        "The tax rate is 8%. \n",
        "\n",
        "Once we've calculated the taxes, we'll need to add them to their subtotals and calculate the the total invoice value.\n",
        "\n",
        "Your code should produce two lists.\n",
        "\n",
        "* `taxes`:The first should be a list of the tax amounts on each transaction, rounded to the nearest .01.\n",
        "\n",
        "* `totals`: The second should be a list where each element is subtotal[i] + tax[i]"
      ]
    },
    {
      "cell_type": "code",
      "execution_count": 10,
      "id": "70a25441",
      "metadata": {
        "colab": {
          "base_uri": "https://localhost:8080/"
        },
        "id": "70a25441",
        "outputId": "790fb90b-0a97-42da-911d-2fc4d8aaf701"
      },
      "outputs": [
        {
          "output_type": "stream",
          "name": "stdout",
          "text": [
            "[1.28, 72.0, 64.0, 9.44, 0.48, 48.0, 2.0, 144.0, 8.0]\n",
            "[17.26, 971.97, 863.97, 127.4, 6.47, 647.99, 26.99, 1943.94, 107.99]\n"
          ]
        }
      ],
      "source": [
        "taxes = []\n",
        "totals = []\n",
        "\n",
        "# This is code Stuart used to calculate the tax and total\n",
        "# for a single subtotal, can you put them in a loop?\n",
        "\n",
        "# tax = round(subtotal * .08, 2)\n",
        "# total = round(subtotal + tax, 2)\n",
        "\n",
        "for subtotal in subtotals:\n",
        "  taxes.append(round(subtotal * 0.08, 2))\n",
        "\n",
        "for i in range(len(subtotals)):\n",
        "  totals.append(round(subtotals[i] + taxes[i], 2))\n",
        "\n",
        "\n",
        "print(taxes)\n",
        "print(totals)"
      ]
    },
    {
      "cell_type": "markdown",
      "source": [
        "# ***`OR`***"
      ],
      "metadata": {
        "id": "NfLKTnmk7wcv"
      },
      "id": "NfLKTnmk7wcv"
    },
    {
      "cell_type": "code",
      "execution_count": 12,
      "id": "b95bef54",
      "metadata": {
        "colab": {
          "base_uri": "https://localhost:8080/"
        },
        "id": "b95bef54",
        "outputId": "219fd5a5-a75b-442a-b7f8-3605e657c4ba"
      },
      "outputs": [
        {
          "output_type": "stream",
          "name": "stdout",
          "text": [
            "[1.28, 72.0, 64.0, 9.44, 0.48, 48.0, 2.0, 144.0, 8.0]\n",
            "[17.26, 971.97, 863.97, 127.4, 6.47, 647.99, 26.99, 1943.94, 107.99]\n"
          ]
        }
      ],
      "source": [
        "taxes = []\n",
        "totals = []\n",
        "\n",
        "# This is code Stuart used to calculate the tax and total\n",
        "# for a single subtotal, can you put them in a loop?\n",
        "\n",
        "for subtotal in subtotals:\n",
        "  tax = round(subtotal * .08, 2)\n",
        "  total = round(subtotal + tax, 2)\n",
        "  taxes.append(tax)\n",
        "  totals.append(total)\n",
        "\n",
        "print(taxes)\n",
        "print(totals)"
      ]
    }
  ],
  "metadata": {
    "kernelspec": {
      "display_name": "Python 3 (ipykernel)",
      "language": "python",
      "name": "python3"
    },
    "language_info": {
      "codemirror_mode": {
        "name": "ipython",
        "version": 3
      },
      "file_extension": ".py",
      "mimetype": "text/x-python",
      "name": "python",
      "nbconvert_exporter": "python",
      "pygments_lexer": "ipython3",
      "version": "3.9.7"
    },
    "colab": {
      "provenance": [],
      "include_colab_link": true
    }
  },
  "nbformat": 4,
  "nbformat_minor": 5
}