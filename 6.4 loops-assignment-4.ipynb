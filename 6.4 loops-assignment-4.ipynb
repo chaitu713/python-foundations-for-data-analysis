{
  "cells": [
    {
      "cell_type": "markdown",
      "metadata": {
        "id": "view-in-github",
        "colab_type": "text"
      },
      "source": [
        "<a href=\"https://colab.research.google.com/github/chaitu713/python-foundations-for-data-analysis/blob/master/6.4%20loops-assignment-4.ipynb\" target=\"_parent\"><img src=\"https://colab.research.google.com/assets/colab-badge.svg\" alt=\"Open In Colab\"/></a>"
      ]
    },
    {
      "cell_type": "markdown",
      "id": "8d0a6882",
      "metadata": {
        "id": "8d0a6882"
      },
      "source": [
        "### Apply Discounts for Multi-Order Customers\n",
        "\n",
        "We need to apply a 10% discount to every transaction in the list below.\n",
        "\n",
        "Assign the discounted transactions to a new list: `discounted_prices`."
      ]
    },
    {
      "cell_type": "code",
      "execution_count": 1,
      "id": "c8e8c4ee",
      "metadata": {
        "colab": {
          "base_uri": "https://localhost:8080/"
        },
        "id": "c8e8c4ee",
        "outputId": "cbe2d42f-ac41-4298-fb90-54f621123a35"
      },
      "outputs": [
        {
          "output_type": "execute_result",
          "data": {
            "text/plain": [
              "[[1799.94, 29.98, 99.99],\n",
              " [15.98, 119.99],\n",
              " [24.99, 24.99],\n",
              " [649.99, 99.99],\n",
              " [599.99, 399.97]]"
            ]
          },
          "metadata": {},
          "execution_count": 1
        }
      ],
      "source": [
        "orders_c00001 = [1799.94, 29.98, 99.99]\n",
        "orders_c00004 = [15.98, 119.99]\n",
        "orders_c00006 = [24.99, 24.99]\n",
        "orders_c00008 = [649.99, 99.99]\n",
        "orders_c00010 = [599.99, 399.97]\n",
        "\n",
        "multi_order_customers = [\n",
        "    [1799.94, 29.98, 99.99],\n",
        "    [15.98, 119.99],\n",
        "    [24.99, 24.99],\n",
        "    [649.99, 99.99],\n",
        "    [599.99, 399.97]\n",
        "]\n",
        "\n",
        "multi_order_customers"
      ]
    },
    {
      "cell_type": "code",
      "execution_count": 2,
      "id": "274b47ee",
      "metadata": {
        "scrolled": true,
        "colab": {
          "base_uri": "https://localhost:8080/"
        },
        "id": "274b47ee",
        "outputId": "f38954b3-010e-4fdf-cfa8-1a0ed3dabb0d"
      },
      "outputs": [
        {
          "output_type": "stream",
          "name": "stdout",
          "text": [
            "[[1619.95, 26.98, 89.99], [14.38, 107.99], [22.49, 22.49], [584.99, 89.99], [539.99, 359.97]]\n"
          ]
        }
      ],
      "source": [
        "discounted_prices = []\n",
        "\n",
        "for customer in multi_order_customers:\n",
        "  customer_discounts = []\n",
        "  for transaction in customer:\n",
        "    customer_discounts.append(round(transaction * 0.9, 2))\n",
        "  discounted_prices.append(customer_discounts)\n",
        "\n",
        "print(discounted_prices)"
      ]
    }
  ],
  "metadata": {
    "kernelspec": {
      "display_name": "Python 3 (ipykernel)",
      "language": "python",
      "name": "python3"
    },
    "language_info": {
      "codemirror_mode": {
        "name": "ipython",
        "version": 3
      },
      "file_extension": ".py",
      "mimetype": "text/x-python",
      "name": "python",
      "nbconvert_exporter": "python",
      "pygments_lexer": "ipython3",
      "version": "3.9.7"
    },
    "colab": {
      "provenance": [],
      "include_colab_link": true
    }
  },
  "nbformat": 4,
  "nbformat_minor": 5
}