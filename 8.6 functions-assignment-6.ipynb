{
  "cells": [
    {
      "cell_type": "markdown",
      "metadata": {
        "id": "view-in-github",
        "colab_type": "text"
      },
      "source": [
        "<a href=\"https://colab.research.google.com/github/chaitu713/python-foundations-for-data-analysis/blob/master/8.6%20functions-assignment-6.ipynb\" target=\"_parent\"><img src=\"https://colab.research.google.com/assets/colab-badge.svg\" alt=\"Open In Colab\"/></a>"
      ]
    },
    {
      "cell_type": "markdown",
      "id": "a298621c",
      "metadata": {
        "id": "a298621c"
      },
      "source": [
        "### Total Cost of European Items\n",
        "\n",
        "Below is the code to recreate our European item dictionary.\n",
        "\n",
        "Run the cells below, then follow the instructions below."
      ]
    },
    {
      "cell_type": "code",
      "execution_count": 1,
      "id": "45f1ca40",
      "metadata": {
        "id": "45f1ca40"
      },
      "outputs": [],
      "source": [
        "# Data for dictionary - run this cell and the followwing to create it\n",
        "\n",
        "item_ids = [\n",
        "    10001, 10002, 10003, 10004, 10005, \n",
        "    10006, 10007, 10008, 10009\n",
        "]\n",
        "\n",
        "item_names = [\n",
        "    \"Coffee\", \"Beanie\", \"Gloves\", \"Sweatshirt\", \"Helmet\",\n",
        "    \"Snow Pants\", \"Coat\", \"Ski Poles\", \"Ski Boots\"\n",
        "]\n",
        "\n",
        "euro_prices = [\n",
        "    5.27, 8.79, 17.59, 21.99, 87.99, \n",
        "    70.39, 105.59, 87.99, 175.99\n",
        "]\n",
        "\n",
        "item_category = [\n",
        "    \"beverage\", \"clothing\", \"clothing\", \"clothing\", \"safety\",\n",
        "    \"clothing\", \"clothing\", \"hardware\", \"hardware\",\n",
        "]\n",
        "\n",
        "sizes = [\n",
        "    [\"250mL\"],\n",
        "    [\"Child\", \"Adult\"],\n",
        "    [\"Child\", \"Adult\"],\n",
        "    [\"XS\", \"S\", \"M\", \"L\", \"XL\", \"XXL\"],\n",
        "    [\"Child\", \"Adult\"],\n",
        "    [\"XS\", \"S\", \"M\", \"L\", \"XL\", \"XXL\"],\n",
        "    [\"S\", \"M\", \"L\"],\n",
        "    [\"S\", \"M\", \"L\"],\n",
        "    [5, 6, 7, 8, 9, 10, 11],\n",
        "    [\"S\", \"M\", \"L\"],\n",
        "    [5, 6, 7, 8, 9, 10, 11],\n",
        "    [\"NA\"],\n",
        "    [\"S\", \"M\", \"L\", \"Powder\"],\n",
        "]"
      ]
    },
    {
      "cell_type": "code",
      "execution_count": 2,
      "id": "1598d494",
      "metadata": {
        "colab": {
          "base_uri": "https://localhost:8080/"
        },
        "id": "1598d494",
        "outputId": "a4b82bac-5354-413e-def3-988b91a2ee9a"
      },
      "outputs": [
        {
          "output_type": "execute_result",
          "data": {
            "text/plain": [
              "{10001: ['Coffee', 5.27, 'beverage', ['250mL']],\n",
              " 10002: ['Beanie', 8.79, 'clothing', ['Child', 'Adult']],\n",
              " 10003: ['Gloves', 17.59, 'clothing', ['Child', 'Adult']],\n",
              " 10004: ['Sweatshirt', 21.99, 'clothing', ['XS', 'S', 'M', 'L', 'XL', 'XXL']],\n",
              " 10005: ['Helmet', 87.99, 'safety', ['Child', 'Adult']],\n",
              " 10006: ['Snow Pants', 70.39, 'clothing', ['XS', 'S', 'M', 'L', 'XL', 'XXL']],\n",
              " 10007: ['Coat', 105.59, 'clothing', ['S', 'M', 'L']],\n",
              " 10008: ['Ski Poles', 87.99, 'hardware', ['S', 'M', 'L']],\n",
              " 10009: ['Ski Boots', 175.99, 'hardware', [5, 6, 7, 8, 9, 10, 11]]}"
            ]
          },
          "metadata": {},
          "execution_count": 2
        }
      ],
      "source": [
        "# This is a dictionary comprehension\n",
        "# We'll see an example after this assignment!\n",
        "\n",
        "euro_data = {\n",
        "    item_id: [name, price, category, sizes]\n",
        "    for item_id, name, price, category, sizes in zip(\n",
        "        item_ids, item_names, euro_prices, item_category, sizes\n",
        "    )\n",
        "}\n",
        "\n",
        "euro_data"
      ]
    },
    {
      "cell_type": "markdown",
      "id": "134eed00",
      "metadata": {
        "id": "134eed00"
      },
      "source": [
        "### Calculate the Total Cost of Items\n",
        "\n",
        "Calculate the amount it would cost to purchase all the items in euro_data.\n",
        "\n",
        "Use a list comprehension to collect them into a list. "
      ]
    },
    {
      "cell_type": "code",
      "execution_count": 3,
      "id": "9d248bd0",
      "metadata": {
        "id": "9d248bd0"
      },
      "outputs": [],
      "source": [
        "total_cost = sum([value[1] for value in euro_data.values()])"
      ]
    },
    {
      "cell_type": "code",
      "source": [
        "total_cost"
      ],
      "metadata": {
        "colab": {
          "base_uri": "https://localhost:8080/"
        },
        "id": "G_T_TDy6VfZf",
        "outputId": "4b888ebd-3e0a-41cd-bd91-781e3e1ec5dd"
      },
      "id": "G_T_TDy6VfZf",
      "execution_count": 4,
      "outputs": [
        {
          "output_type": "execute_result",
          "data": {
            "text/plain": [
              "581.59"
            ]
          },
          "metadata": {},
          "execution_count": 4
        }
      ]
    }
  ],
  "metadata": {
    "kernelspec": {
      "display_name": "Python 3 (ipykernel)",
      "language": "python",
      "name": "python3"
    },
    "language_info": {
      "codemirror_mode": {
        "name": "ipython",
        "version": 3
      },
      "file_extension": ".py",
      "mimetype": "text/x-python",
      "name": "python",
      "nbconvert_exporter": "python",
      "pygments_lexer": "ipython3",
      "version": "3.9.7"
    },
    "colab": {
      "provenance": [],
      "include_colab_link": true
    }
  },
  "nbformat": 4,
  "nbformat_minor": 5
}