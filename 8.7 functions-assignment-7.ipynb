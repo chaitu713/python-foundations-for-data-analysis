{
  "cells": [
    {
      "cell_type": "markdown",
      "metadata": {
        "id": "view-in-github",
        "colab_type": "text"
      },
      "source": [
        "<a href=\"https://colab.research.google.com/github/chaitu713/python-foundations-for-data-analysis/blob/master/8.7%20functions-assignment-7.ipynb\" target=\"_parent\"><img src=\"https://colab.research.google.com/assets/colab-badge.svg\" alt=\"Open In Colab\"/></a>"
      ]
    },
    {
      "cell_type": "markdown",
      "id": "15a7a09a",
      "metadata": {
        "id": "15a7a09a"
      },
      "source": [
        "### Transaction Dictionary Creator\n",
        "\n",
        "Hi there, we need to make some final updates to our tax calculator function.\n",
        "\n",
        "We need a function takes a list of customer_ids, a list of subtotals, and a tax rate, that calls the tax_calculator on a list of subtotals, then returns a dictionary with customer_IDs as keys, and the lists returned from tax_calculator as the values.\n",
        "\n",
        "A dictionary comprehension would be very helpful here.\n",
        "\n",
        "Your function will need the following arguments:\n",
        "\n",
        "* customer_ids - a list of strings\n",
        "* subtotals - a list of numbers\n",
        "* tax_rate - the tax rate which will be passed to tax_calculator\n",
        "\n",
        "The output will be a dictionary with:\n",
        "\n",
        "* Customer IDs as keys\n",
        "* [subtotal, tax, total] as values\n",
        "\n"
      ]
    },
    {
      "cell_type": "code",
      "execution_count": 2,
      "id": "cd849cc8",
      "metadata": {
        "id": "cd849cc8"
      },
      "outputs": [],
      "source": [
        "from tax_calc import tax_calculator\n",
        "\n",
        "customer_ids = ['C00004', 'C00007', 'C00015', 'C00016', 'C00020', 'C00010']\n",
        "\n",
        "subtotals = [15.98, 899.97, 799.97, 117.96, 5.99, 599.99]"
      ]
    },
    {
      "cell_type": "code",
      "execution_count": 11,
      "id": "0b087eb8",
      "metadata": {
        "id": "0b087eb8"
      },
      "outputs": [],
      "source": [
        "def transaction_dict_creator(customer_ids, subtotals, tax_rate):\n",
        "  transaction_dict = {\n",
        "                        customer_id: tax_calculator(subtotal, tax_rate)\n",
        "                        for customer_id, subtotal in zip(customer_ids, subtotals)\n",
        "                     }\n",
        "  return transaction_dict"
      ]
    },
    {
      "cell_type": "code",
      "execution_count": 12,
      "id": "a2820944",
      "metadata": {
        "colab": {
          "base_uri": "https://localhost:8080/"
        },
        "id": "a2820944",
        "outputId": "efd997ac-5776-49c0-a7b1-5b1d2f2b3df4"
      },
      "outputs": [
        {
          "output_type": "execute_result",
          "data": {
            "text/plain": [
              "{'C00004': [15.98, 1.2784, 17.2584],\n",
              " 'C00007': [899.97, 71.9976, 971.9676000000001],\n",
              " 'C00015': [799.97, 63.997600000000006, 863.9676000000001],\n",
              " 'C00016': [117.96, 9.4368, 127.3968],\n",
              " 'C00020': [5.99, 0.4792, 6.4692],\n",
              " 'C00010': [599.99, 47.9992, 647.9892]}"
            ]
          },
          "metadata": {},
          "execution_count": 12
        }
      ],
      "source": [
        "transaction_dict_creator(customer_ids, subtotals, 0.08)"
      ]
    }
  ],
  "metadata": {
    "kernelspec": {
      "display_name": "Python 3 (ipykernel)",
      "language": "python",
      "name": "python3"
    },
    "language_info": {
      "codemirror_mode": {
        "name": "ipython",
        "version": 3
      },
      "file_extension": ".py",
      "mimetype": "text/x-python",
      "name": "python",
      "nbconvert_exporter": "python",
      "pygments_lexer": "ipython3",
      "version": "3.9.7"
    },
    "colab": {
      "provenance": [],
      "include_colab_link": true
    }
  },
  "nbformat": 4,
  "nbformat_minor": 5
}