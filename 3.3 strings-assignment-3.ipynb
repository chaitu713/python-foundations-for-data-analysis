{
  "cells": [
    {
      "cell_type": "markdown",
      "metadata": {
        "id": "view-in-github",
        "colab_type": "text"
      },
      "source": [
        "<a href=\"https://colab.research.google.com/github/chaitu713/python-foundations-for-data-analysis/blob/master/3.3%20strings-assignment-3.ipynb\" target=\"_parent\"><img src=\"https://colab.research.google.com/assets/colab-badge.svg\" alt=\"Open In Colab\"/></a>"
      ]
    },
    {
      "cell_type": "markdown",
      "id": "44e91623",
      "metadata": {
        "id": "44e91623"
      },
      "source": [
        "### Cryptography\n",
        "\n",
        "\n",
        "\n",
        "\n",
        "Hi there! \n",
        "\n",
        "There are five text message below. I've also convieniently pasted the alphabet for you, which we'll need to crack the code.\n",
        "\n",
        "The length of each message represents the letter in the alphabet for each character in the password. "
      ]
    },
    {
      "cell_type": "code",
      "execution_count": 2,
      "id": "dd1db50e",
      "metadata": {
        "id": "dd1db50e"
      },
      "outputs": [],
      "source": [
        "alphabet = 'abcdefghijklmnopqrstuvwxyz'\n",
        "message1 = 'Hello World!'\n",
        "message2 = ''\n",
        "message3 = 'It snowed a lot today'\n",
        "message4 = 'eeee'\n",
        "message5 = 'I love snow!!'"
      ]
    },
    {
      "cell_type": "markdown",
      "id": "7aa64328",
      "metadata": {
        "id": "7aa64328"
      },
      "source": [
        "### Crack the Code\n",
        "\n",
        "In the cell below, combine the characters retrieved using the length function into a single string, and assign that to `password`. Then print the password."
      ]
    },
    {
      "cell_type": "code",
      "execution_count": 8,
      "id": "cd36a182",
      "metadata": {
        "colab": {
          "base_uri": "https://localhost:8080/",
          "height": 35
        },
        "id": "cd36a182",
        "outputId": "66ded2c1-d042-49c3-d9d1-226cca53be86"
      },
      "outputs": [
        {
          "output_type": "execute_result",
          "data": {
            "text/plain": [
              "'maven'"
            ],
            "application/vnd.google.colaboratory.intrinsic+json": {
              "type": "string"
            }
          },
          "metadata": {},
          "execution_count": 8
        }
      ],
      "source": [
        "password = alphabet[len(message1)] + alphabet[len(message2)] + alphabet[len(message3)] + alphabet[len(message4)] + alphabet[len(message5)]\n",
        "password"
      ]
    }
  ],
  "metadata": {
    "kernelspec": {
      "display_name": "Python 3 (ipykernel)",
      "language": "python",
      "name": "python3"
    },
    "language_info": {
      "codemirror_mode": {
        "name": "ipython",
        "version": 3
      },
      "file_extension": ".py",
      "mimetype": "text/x-python",
      "name": "python",
      "nbconvert_exporter": "python",
      "pygments_lexer": "ipython3",
      "version": "3.9.7"
    },
    "colab": {
      "provenance": [],
      "include_colab_link": true
    }
  },
  "nbformat": 4,
  "nbformat_minor": 5
}