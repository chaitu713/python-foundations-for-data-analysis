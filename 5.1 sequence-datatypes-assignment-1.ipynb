{
  "cells": [
    {
      "cell_type": "markdown",
      "metadata": {
        "id": "view-in-github",
        "colab_type": "text"
      },
      "source": [
        "<a href=\"https://colab.research.google.com/github/chaitu713/python-foundations-for-data-analysis/blob/master/5.1%20sequence-datatypes-assignment-1.ipynb\" target=\"_parent\"><img src=\"https://colab.research.google.com/assets/colab-badge.svg\" alt=\"Open In Colab\"/></a>"
      ]
    },
    {
      "cell_type": "markdown",
      "id": "94e7c134",
      "metadata": {
        "id": "94e7c134"
      },
      "source": [
        "### Create a List the customers that made purchases on black friday\n",
        "\n",
        "The customers that made purchases on Black Friday were:\n",
        "\n",
        "C00001, C00003, C00004, C00005 C00006, C00007, C00018, C00010, C00013, C00014, C00015, C00016 and C00029\n",
        "\n",
        "Call your list `customer_list`."
      ]
    },
    {
      "cell_type": "code",
      "execution_count": 6,
      "id": "8cadc495",
      "metadata": {
        "colab": {
          "base_uri": "https://localhost:8080/"
        },
        "id": "8cadc495",
        "outputId": "ddfdac7e-05ac-4227-8508-197056e9555f"
      },
      "outputs": [
        {
          "output_type": "stream",
          "name": "stdout",
          "text": [
            "['C00001', 'C00003', 'C00004', 'C00005', 'C00006', 'C00007', 'C00018', 'C00010', 'C00013', 'C00014', 'C00015', 'C00016', 'C00029']\n"
          ]
        }
      ],
      "source": [
        "customer_list = ['C00001', 'C00003', 'C00004', 'C00005', 'C00006', 'C00007', 'C00018', 'C00010', 'C00013', 'C00014', 'C00015', 'C00016', 'C00029']\n",
        "\n",
        "print(customer_list)"
      ]
    },
    {
      "cell_type": "markdown",
      "id": "b5489e0a",
      "metadata": {
        "id": "b5489e0a"
      },
      "source": [
        "### Did C00009 make a purchase?\n",
        "\n",
        "This customer said they made a purchase we're not seeing it in our data. If they did, we need to record the revenue.\n",
        "\n",
        "Write code that returns 99.99 if C00009 is in the list. If not, return 0.0."
      ]
    },
    {
      "cell_type": "code",
      "execution_count": 7,
      "id": "240e3813",
      "metadata": {
        "colab": {
          "base_uri": "https://localhost:8080/"
        },
        "id": "240e3813",
        "outputId": "1190e108-5287-44ca-d2c9-6ccebaa7b4dc"
      },
      "outputs": [
        {
          "output_type": "stream",
          "name": "stdout",
          "text": [
            "0.0\n"
          ]
        }
      ],
      "source": [
        "if 'C00009' in customer_list:\n",
        "  print('99.99')\n",
        "else:\n",
        "  print('0.0')"
      ]
    },
    {
      "cell_type": "markdown",
      "id": "779dc47b",
      "metadata": {
        "id": "779dc47b"
      },
      "source": [
        "### Market Research Samples\n",
        "\n",
        "1. Using slicing, create a list containing the fifth and sixth customer in the list called `fifth_sixth`.\n"
      ]
    },
    {
      "cell_type": "code",
      "execution_count": 8,
      "id": "4cb5a882",
      "metadata": {
        "colab": {
          "base_uri": "https://localhost:8080/"
        },
        "id": "4cb5a882",
        "outputId": "5919b50d-91fe-47fe-ff90-ed05ed5d1d96"
      },
      "outputs": [
        {
          "output_type": "stream",
          "name": "stdout",
          "text": [
            "['C00006', 'C00007']\n"
          ]
        }
      ],
      "source": [
        "fifth_sixth = customer_list[4:6]\n",
        "\n",
        "print(fifth_sixth)"
      ]
    },
    {
      "cell_type": "markdown",
      "id": "846b6822",
      "metadata": {
        "id": "846b6822"
      },
      "source": [
        "2. Create a list called `every_third` that contains every third customer in the list (1st, 4rd, 7th, and so on...)."
      ]
    },
    {
      "cell_type": "code",
      "execution_count": 9,
      "id": "1a4b1c1e",
      "metadata": {
        "colab": {
          "base_uri": "https://localhost:8080/"
        },
        "id": "1a4b1c1e",
        "outputId": "225e2d5f-a29f-4661-bb8e-e8d0b1c89539"
      },
      "outputs": [
        {
          "output_type": "stream",
          "name": "stdout",
          "text": [
            "['C00001', 'C00005', 'C00018', 'C00014', 'C00029']\n"
          ]
        }
      ],
      "source": [
        "every_third = customer_list[0::3]\n",
        "\n",
        "print(every_third)"
      ]
    },
    {
      "cell_type": "markdown",
      "id": "7747931d",
      "metadata": {
        "id": "7747931d"
      },
      "source": [
        "3. Finally, using slicing, create a list with the last two customers in our dataset, called `last_two`."
      ]
    },
    {
      "cell_type": "code",
      "execution_count": 10,
      "id": "b7c6c921",
      "metadata": {
        "colab": {
          "base_uri": "https://localhost:8080/"
        },
        "id": "b7c6c921",
        "outputId": "1e1c130d-8a25-460d-d425-882609c1c416"
      },
      "outputs": [
        {
          "output_type": "stream",
          "name": "stdout",
          "text": [
            "['C00016', 'C00029']\n"
          ]
        }
      ],
      "source": [
        "last_two = customer_list[-2:]\n",
        "\n",
        "print(last_two)"
      ]
    }
  ],
  "metadata": {
    "kernelspec": {
      "display_name": "Python 3 (ipykernel)",
      "language": "python",
      "name": "python3"
    },
    "language_info": {
      "codemirror_mode": {
        "name": "ipython",
        "version": 3
      },
      "file_extension": ".py",
      "mimetype": "text/x-python",
      "name": "python",
      "nbconvert_exporter": "python",
      "pygments_lexer": "ipython3",
      "version": "3.9.7"
    },
    "colab": {
      "provenance": [],
      "include_colab_link": true
    }
  },
  "nbformat": 4,
  "nbformat_minor": 5
}