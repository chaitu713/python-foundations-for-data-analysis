{
  "cells": [
    {
      "cell_type": "markdown",
      "metadata": {
        "id": "view-in-github",
        "colab_type": "text"
      },
      "source": [
        "<a href=\"https://colab.research.google.com/github/chaitu713/python-foundations-for-data-analysis/blob/master/1.2%20variables-assignment-2.ipynb\" target=\"_parent\"><img src=\"https://colab.research.google.com/assets/colab-badge.svg\" alt=\"Open In Colab\"/></a>"
      ]
    },
    {
      "cell_type": "markdown",
      "id": "77abe6dd",
      "metadata": {
        "id": "77abe6dd"
      },
      "source": [
        "### Fix the Variable Names"
      ]
    },
    {
      "cell_type": "code",
      "execution_count": 11,
      "id": "9e7352af",
      "metadata": {
        "id": "9e7352af"
      },
      "outputs": [],
      "source": [
        "price_list_2018 = [4.99, 8.99, 17.99, 22.99, 94.99] "
      ]
    },
    {
      "cell_type": "code",
      "execution_count": 12,
      "id": "f4cbccf7",
      "metadata": {
        "id": "f4cbccf7"
      },
      "outputs": [],
      "source": [
        "price_list_2019 = [5.99, 9.99, 19.99, 24.99, 99.99]"
      ]
    },
    {
      "cell_type": "code",
      "execution_count": 13,
      "id": "5c92b563",
      "metadata": {
        "id": "5c92b563"
      },
      "outputs": [],
      "source": [
        "prices = [5.99, 9.99, 19.99, 24.99, 99.99]"
      ]
    },
    {
      "cell_type": "code",
      "execution_count": 14,
      "id": "156d296d",
      "metadata": {
        "id": "156d296d"
      },
      "outputs": [],
      "source": [
        "price_list_2020 = [6.49, 10.49, 19.99, 26.99, 104.99]"
      ]
    },
    {
      "cell_type": "code",
      "source": [
        "%who"
      ],
      "metadata": {
        "colab": {
          "base_uri": "https://localhost:8080/"
        },
        "id": "KR5iDATnk-Rq",
        "outputId": "f1844ae2-db5c-47b6-9a15-1ab0ce7ab716"
      },
      "id": "KR5iDATnk-Rq",
      "execution_count": 15,
      "outputs": [
        {
          "output_type": "stream",
          "name": "stdout",
          "text": [
            "price_list_2018\t price_list_2019\t price_list_2020\t prices\t prices_FOR_2018\t \n"
          ]
        }
      ]
    },
    {
      "cell_type": "code",
      "source": [
        "%whos"
      ],
      "metadata": {
        "colab": {
          "base_uri": "https://localhost:8080/"
        },
        "id": "WwPdnlMRlAxM",
        "outputId": "c20f81bc-2fe5-4816-9672-8cd0622bc179"
      },
      "id": "WwPdnlMRlAxM",
      "execution_count": 16,
      "outputs": [
        {
          "output_type": "stream",
          "name": "stdout",
          "text": [
            "Variable          Type    Data/Info\n",
            "-----------------------------------\n",
            "price_list_2018   list    n=5\n",
            "price_list_2019   list    n=5\n",
            "price_list_2020   list    n=5\n",
            "prices            list    n=5\n",
            "prices_FOR_2018   list    n=5\n"
          ]
        }
      ]
    },
    {
      "cell_type": "code",
      "source": [
        "del prices_FOR_2018"
      ],
      "metadata": {
        "id": "5LBO-PXdlDDX"
      },
      "id": "5LBO-PXdlDDX",
      "execution_count": 17,
      "outputs": []
    },
    {
      "cell_type": "code",
      "source": [
        "%who"
      ],
      "metadata": {
        "colab": {
          "base_uri": "https://localhost:8080/"
        },
        "id": "vrul1tzglssV",
        "outputId": "6e732311-4b55-4d3b-8dfe-d95ab3a4a3c2"
      },
      "id": "vrul1tzglssV",
      "execution_count": 18,
      "outputs": [
        {
          "output_type": "stream",
          "name": "stdout",
          "text": [
            "price_list_2018\t price_list_2019\t price_list_2020\t prices\t \n"
          ]
        }
      ]
    },
    {
      "cell_type": "code",
      "source": [
        "%whos"
      ],
      "metadata": {
        "colab": {
          "base_uri": "https://localhost:8080/"
        },
        "id": "Y8aJKwrNluHa",
        "outputId": "a39439e7-b53a-43a6-dca5-371dd0ee48ed"
      },
      "id": "Y8aJKwrNluHa",
      "execution_count": 19,
      "outputs": [
        {
          "output_type": "stream",
          "name": "stdout",
          "text": [
            "Variable          Type    Data/Info\n",
            "-----------------------------------\n",
            "price_list_2018   list    n=5\n",
            "price_list_2019   list    n=5\n",
            "price_list_2020   list    n=5\n",
            "prices            list    n=5\n"
          ]
        }
      ]
    }
  ],
  "metadata": {
    "kernelspec": {
      "display_name": "Python 3 (ipykernel)",
      "language": "python",
      "name": "python3"
    },
    "language_info": {
      "codemirror_mode": {
        "name": "ipython",
        "version": 3
      },
      "file_extension": ".py",
      "mimetype": "text/x-python",
      "name": "python",
      "nbconvert_exporter": "python",
      "pygments_lexer": "ipython3",
      "version": "3.9.7"
    },
    "colab": {
      "provenance": [],
      "include_colab_link": true
    }
  },
  "nbformat": 4,
  "nbformat_minor": 5
}