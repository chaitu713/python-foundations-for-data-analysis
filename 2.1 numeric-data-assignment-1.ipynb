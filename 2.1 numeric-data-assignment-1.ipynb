{
  "cells": [
    {
      "cell_type": "markdown",
      "metadata": {
        "id": "view-in-github",
        "colab_type": "text"
      },
      "source": [
        "<a href=\"https://colab.research.google.com/github/chaitu713/python-foundations-for-data-analysis/blob/master/2.1%20numeric-data-assignment-1.ipynb\" target=\"_parent\"><img src=\"https://colab.research.google.com/assets/colab-badge.svg\" alt=\"Open In Colab\"/></a>"
      ]
    },
    {
      "cell_type": "markdown",
      "id": "afeff7d2",
      "metadata": {
        "id": "afeff7d2"
      },
      "source": [
        "### 1. Calculate the gross profit on our snowboard\n",
        "\n",
        "Formula: Price minus cost\n"
      ]
    },
    {
      "cell_type": "code",
      "execution_count": 2,
      "id": "fbdecd04",
      "metadata": {
        "colab": {
          "base_uri": "https://localhost:8080/"
        },
        "id": "fbdecd04",
        "outputId": "56aa2e9e-f65e-45b7-a647-44c8c5a78224"
      },
      "outputs": [
        {
          "output_type": "stream",
          "name": "stdout",
          "text": [
            "300.0\n"
          ]
        }
      ],
      "source": [
        "snowboard_price = 499.99\n",
        "snowboard_cost = 199.99\n",
        "\n",
        "gross_profit = snowboard_price - snowboard_cost\n",
        "\n",
        "print(gross_profit)"
      ]
    },
    {
      "cell_type": "markdown",
      "id": "f812ebf7",
      "metadata": {
        "id": "f812ebf7"
      },
      "source": [
        "### 2. Calculate the gross margin on our snowboard\n",
        "\n",
        "Formula: Gross profit divided by price"
      ]
    },
    {
      "cell_type": "code",
      "execution_count": 3,
      "id": "9fec0a0d",
      "metadata": {
        "colab": {
          "base_uri": "https://localhost:8080/"
        },
        "id": "9fec0a0d",
        "outputId": "1589f854-487a-468e-c107-ec7fefea25d0"
      },
      "outputs": [
        {
          "output_type": "stream",
          "name": "stdout",
          "text": [
            "0.6000120002400048\n"
          ]
        }
      ],
      "source": [
        "gross_margin = gross_profit / snowboard_price\n",
        "\n",
        "print(gross_margin)"
      ]
    },
    {
      "cell_type": "markdown",
      "id": "ecb4a248",
      "metadata": {
        "id": "ecb4a248"
      },
      "source": [
        "### 3. Calculate the price needed to obtain a gross margin of 70%\n",
        "\n",
        "Formula:  cost divided by (1 minus the desired margin)."
      ]
    },
    {
      "cell_type": "code",
      "execution_count": 4,
      "id": "ef85028e",
      "metadata": {
        "colab": {
          "base_uri": "https://localhost:8080/"
        },
        "id": "ef85028e",
        "outputId": "a3461124-e38a-47be-acdb-a3bc23e1beb3"
      },
      "outputs": [
        {
          "output_type": "stream",
          "name": "stdout",
          "text": [
            "666.6333333333332\n"
          ]
        }
      ],
      "source": [
        "desired_margin = 0.7\n",
        "\n",
        "price_needed = snowboard_cost / (1 - desired_margin)\n",
        "\n",
        "print(price_needed)"
      ]
    },
    {
      "cell_type": "markdown",
      "id": "bdf79354",
      "metadata": {
        "id": "bdf79354"
      },
      "source": [
        "### 4. Calculate the sales tax on a sale of our snowboard\n",
        "\n",
        "Tax rate: 8%\n",
        "\n",
        "Formula: Price times tax rate"
      ]
    },
    {
      "cell_type": "code",
      "execution_count": 5,
      "id": "9a00eb4d",
      "metadata": {
        "colab": {
          "base_uri": "https://localhost:8080/"
        },
        "id": "9a00eb4d",
        "outputId": "a4a67ad7-58a9-47d1-f9fe-82107e4ea862"
      },
      "outputs": [
        {
          "output_type": "stream",
          "name": "stdout",
          "text": [
            "39.9992\n"
          ]
        }
      ],
      "source": [
        "tax_rate = .08\n",
        "\n",
        "sales_tax = snowboard_price * tax_rate\n",
        "\n",
        "print(sales_tax)"
      ]
    },
    {
      "cell_type": "markdown",
      "id": "948e0099",
      "metadata": {
        "id": "948e0099"
      },
      "source": [
        "### 5. Return on Profits\n",
        "\n",
        "Calculate the amount of money we'd have if we invested the profit from selling 5 snowboards for one year.\n",
        "\n",
        "Assume an interest rate of 5%.\n",
        "\n",
        "The formula is the amount_invested plus  (amount_invested times interest_rate)"
      ]
    },
    {
      "cell_type": "code",
      "execution_count": 6,
      "id": "770afcbd",
      "metadata": {
        "colab": {
          "base_uri": "https://localhost:8080/"
        },
        "id": "770afcbd",
        "outputId": "7d87dfaf-5704-4ddd-a4fb-10a1a37538c2"
      },
      "outputs": [
        {
          "output_type": "stream",
          "name": "stdout",
          "text": [
            "1575.0\n"
          ]
        }
      ],
      "source": [
        "amount_invested = gross_profit * 5\n",
        "interest_rate = 0.05\n",
        "\n",
        "amount_after_one_year = amount_invested + (amount_invested * interest_rate)\n",
        "\n",
        "print(amount_after_one_year)"
      ]
    }
  ],
  "metadata": {
    "kernelspec": {
      "display_name": "Python 3 (ipykernel)",
      "language": "python",
      "name": "python3"
    },
    "language_info": {
      "codemirror_mode": {
        "name": "ipython",
        "version": 3
      },
      "file_extension": ".py",
      "mimetype": "text/x-python",
      "name": "python",
      "nbconvert_exporter": "python",
      "pygments_lexer": "ipython3",
      "version": "3.9.7"
    },
    "colab": {
      "provenance": [],
      "include_colab_link": true
    }
  },
  "nbformat": 4,
  "nbformat_minor": 5
}