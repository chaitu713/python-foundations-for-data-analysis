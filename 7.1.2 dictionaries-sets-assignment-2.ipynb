{
  "cells": [
    {
      "cell_type": "markdown",
      "metadata": {
        "id": "view-in-github",
        "colab_type": "text"
      },
      "source": [
        "<a href=\"https://colab.research.google.com/github/chaitu713/python-foundations-for-data-analysis/blob/master/7.1.2%20dictionaries-sets-assignment-2.ipynb\" target=\"_parent\"><img src=\"https://colab.research.google.com/assets/colab-badge.svg\" alt=\"Open In Colab\"/></a>"
      ]
    },
    {
      "cell_type": "markdown",
      "id": "4bd4c63b",
      "metadata": {
        "id": "4bd4c63b"
      },
      "source": [
        "### Inventory Status\n",
        "\n",
        "Our products and inventory levels are in the lists below.\n",
        "\n",
        "Run the cell below to create the lists."
      ]
    },
    {
      "cell_type": "code",
      "execution_count": 1,
      "id": "f792cd46",
      "metadata": {
        "id": "f792cd46"
      },
      "outputs": [],
      "source": [
        "items = ['skis', 'snowboard', 'goggles', 'boots']\n",
        "inventory = [10, 0, 0, 7] "
      ]
    },
    {
      "cell_type": "markdown",
      "id": "00324274",
      "metadata": {
        "id": "00324274"
      },
      "source": [
        "### Inventory Status Dictionary\n",
        "\n",
        "Can you create a dictionary that:\n",
        "\n",
        "* Stores item name as keys\n",
        "* Values are 'sold out' if inventory is 0, and 'in stock' if not?\n",
        "\n",
        "Don't create this by writing out all the key value pairs!\n",
        "\n",
        "Thanks!"
      ]
    },
    {
      "cell_type": "code",
      "execution_count": 2,
      "id": "d3ba4f32",
      "metadata": {
        "id": "d3ba4f32"
      },
      "outputs": [],
      "source": [
        "inventory_status = {}\n",
        "\n",
        "for i, item in enumerate(items):\n",
        "  if inventory[i] == 0:\n",
        "    inventory_status[item] = 'sold out'\n",
        "  else:\n",
        "    inventory_status[item] = 'in stock' "
      ]
    },
    {
      "cell_type": "code",
      "execution_count": 3,
      "id": "70e0112c",
      "metadata": {
        "colab": {
          "base_uri": "https://localhost:8080/"
        },
        "id": "70e0112c",
        "outputId": "47c0aa75-6275-4b00-8b7b-31ee72ff709a"
      },
      "outputs": [
        {
          "output_type": "execute_result",
          "data": {
            "text/plain": [
              "{'skis': 'in stock',\n",
              " 'snowboard': 'sold out',\n",
              " 'goggles': 'sold out',\n",
              " 'boots': 'in stock'}"
            ]
          },
          "metadata": {},
          "execution_count": 3
        }
      ],
      "source": [
        "inventory_status"
      ]
    }
  ],
  "metadata": {
    "kernelspec": {
      "display_name": "Python 3 (ipykernel)",
      "language": "python",
      "name": "python3"
    },
    "language_info": {
      "codemirror_mode": {
        "name": "ipython",
        "version": 3
      },
      "file_extension": ".py",
      "mimetype": "text/x-python",
      "name": "python",
      "nbconvert_exporter": "python",
      "pygments_lexer": "ipython3",
      "version": "3.9.7"
    },
    "colab": {
      "provenance": [],
      "include_colab_link": true
    }
  },
  "nbformat": 4,
  "nbformat_minor": 5
}