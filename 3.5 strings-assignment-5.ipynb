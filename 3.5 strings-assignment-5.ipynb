{
  "cells": [
    {
      "cell_type": "markdown",
      "metadata": {
        "id": "view-in-github",
        "colab_type": "text"
      },
      "source": [
        "<a href=\"https://colab.research.google.com/github/chaitu713/python-foundations-for-data-analysis/blob/master/3.5%20strings-assignment-5.ipynb\" target=\"_parent\"><img src=\"https://colab.research.google.com/assets/colab-badge.svg\" alt=\"Open In Colab\"/></a>"
      ]
    },
    {
      "cell_type": "markdown",
      "id": "2ade6431",
      "metadata": {
        "id": "2ade6431"
      },
      "source": [
        "### Price Display Message\n",
        "\n",
        "Using f-strings, print 'The *product* costs $*price*.' for each of the price/product combinations below.\n",
        "\n",
        "Your print statement should be identical for both."
      ]
    },
    {
      "cell_type": "code",
      "execution_count": 2,
      "id": "c40b200f",
      "metadata": {
        "colab": {
          "base_uri": "https://localhost:8080/"
        },
        "id": "c40b200f",
        "outputId": "525b5c44-cec2-4f91-c6c1-59d30b14394e"
      },
      "outputs": [
        {
          "output_type": "stream",
          "name": "stdout",
          "text": [
            "The snowboard costs $499.99.\n"
          ]
        }
      ],
      "source": [
        "price = 499.99\n",
        "product = 'snowboard'\n",
        "\n",
        "# your print statement here\n",
        "print(f\"The {product} costs ${price}.\")"
      ]
    },
    {
      "cell_type": "code",
      "execution_count": 3,
      "id": "fff5ca9b",
      "metadata": {
        "colab": {
          "base_uri": "https://localhost:8080/"
        },
        "id": "fff5ca9b",
        "outputId": "69a3b484-28b3-4874-aee8-ba69b6f058e6"
      },
      "outputs": [
        {
          "output_type": "stream",
          "name": "stdout",
          "text": [
            "The scarf costs $19.99.\n"
          ]
        }
      ],
      "source": [
        "price = 19.99\n",
        "product = 'scarf'\n",
        "\n",
        "# exact copy of print statement in first cell \n",
        "print(f\"The {product} costs ${price}.\")"
      ]
    }
  ],
  "metadata": {
    "kernelspec": {
      "display_name": "Python 3 (ipykernel)",
      "language": "python",
      "name": "python3"
    },
    "language_info": {
      "codemirror_mode": {
        "name": "ipython",
        "version": 3
      },
      "file_extension": ".py",
      "mimetype": "text/x-python",
      "name": "python",
      "nbconvert_exporter": "python",
      "pygments_lexer": "ipython3",
      "version": "3.9.7"
    },
    "colab": {
      "provenance": [],
      "include_colab_link": true
    }
  },
  "nbformat": 4,
  "nbformat_minor": 5
}