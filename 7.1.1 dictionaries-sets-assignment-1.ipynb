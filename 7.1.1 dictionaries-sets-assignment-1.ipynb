{
  "cells": [
    {
      "cell_type": "markdown",
      "metadata": {
        "id": "view-in-github",
        "colab_type": "text"
      },
      "source": [
        "<a href=\"https://colab.research.google.com/github/chaitu713/python-foundations-for-data-analysis/blob/master/7.1.1%20dictionaries-sets-assignment-1.ipynb\" target=\"_parent\"><img src=\"https://colab.research.google.com/assets/colab-badge.svg\" alt=\"Open In Colab\"/></a>"
      ]
    },
    {
      "cell_type": "markdown",
      "id": "6d74af00",
      "metadata": {
        "id": "6d74af00"
      },
      "source": [
        "### Snack Dictionary\n",
        "\n",
        "Hey, the current snack dictionary is below - thanks for your help with this!\n",
        "\n",
        "Run this first cell to create the `snacks` dictionary."
      ]
    },
    {
      "cell_type": "code",
      "execution_count": 1,
      "id": "5a5784f0",
      "metadata": {
        "id": "5a5784f0"
      },
      "outputs": [],
      "source": [
        "snacks = {\n",
        "    'Sally': 'Popcorn',\n",
        "    'Ricard': 'Chocolate Ice Cream',\n",
        "    'Stuart': 'Apple Pie',\n",
        "    'Jerry': 'Raisins',\n",
        "    'Sierra': 'Peanut Butter Cookies'\n",
        "}"
      ]
    },
    {
      "cell_type": "markdown",
      "id": "4a543a30",
      "metadata": {
        "id": "4a543a30"
      },
      "source": [
        "Can you lookup Stuart's favorite snack?"
      ]
    },
    {
      "cell_type": "code",
      "execution_count": 2,
      "id": "36f6342a",
      "metadata": {
        "colab": {
          "base_uri": "https://localhost:8080/",
          "height": 35
        },
        "id": "36f6342a",
        "outputId": "53b71afd-c456-4057-d469-0582af66c6dd"
      },
      "outputs": [
        {
          "output_type": "execute_result",
          "data": {
            "text/plain": [
              "'Apple Pie'"
            ],
            "application/vnd.google.colaboratory.intrinsic+json": {
              "type": "string"
            }
          },
          "metadata": {},
          "execution_count": 2
        }
      ],
      "source": [
        "snacks['Stuart']"
      ]
    },
    {
      "cell_type": "markdown",
      "id": "e984e2be",
      "metadata": {
        "id": "e984e2be"
      },
      "source": [
        "Cool, that's one of my favorites too!\n",
        "\n",
        "Can you make the following changes do the dictionary?\n",
        "\n",
        "* Add me - 'Alfie', and my favorite snack, 'Cheese and Crackers'.\n",
        "* Change Jerry's favorite snack to 'Fig Bars'\n",
        "* Finally, remove Sierra, she never worked here, not sure how she got on the list."
      ]
    },
    {
      "cell_type": "code",
      "execution_count": 4,
      "id": "cad0e213",
      "metadata": {
        "id": "cad0e213"
      },
      "outputs": [],
      "source": [
        "snacks['Alfie'] = 'Cheese and Crackers'\n",
        "snacks['Jerry'] = 'Fig Bars'\n",
        "del snacks['Sierra']"
      ]
    },
    {
      "cell_type": "code",
      "execution_count": 5,
      "id": "5dae2f25",
      "metadata": {
        "colab": {
          "base_uri": "https://localhost:8080/"
        },
        "id": "5dae2f25",
        "outputId": "902d0e7d-c3b8-4182-98a4-6934458fa29a"
      },
      "outputs": [
        {
          "output_type": "execute_result",
          "data": {
            "text/plain": [
              "{'Sally': 'Popcorn',\n",
              " 'Ricard': 'Chocolate Ice Cream',\n",
              " 'Stuart': 'Apple Pie',\n",
              " 'Jerry': 'Fig Bars',\n",
              " 'Alfie': 'Cheese and Crackers'}"
            ]
          },
          "metadata": {},
          "execution_count": 5
        }
      ],
      "source": [
        "snacks"
      ]
    }
  ],
  "metadata": {
    "kernelspec": {
      "display_name": "Python 3 (ipykernel)",
      "language": "python",
      "name": "python3"
    },
    "language_info": {
      "codemirror_mode": {
        "name": "ipython",
        "version": 3
      },
      "file_extension": ".py",
      "mimetype": "text/x-python",
      "name": "python",
      "nbconvert_exporter": "python",
      "pygments_lexer": "ipython3",
      "version": "3.9.7"
    },
    "colab": {
      "provenance": [],
      "include_colab_link": true
    }
  },
  "nbformat": 4,
  "nbformat_minor": 5
}