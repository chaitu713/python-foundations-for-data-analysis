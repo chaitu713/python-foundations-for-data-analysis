{
  "cells": [
    {
      "cell_type": "markdown",
      "metadata": {
        "id": "view-in-github",
        "colab_type": "text"
      },
      "source": [
        "<a href=\"https://colab.research.google.com/github/chaitu713/python-foundations-for-data-analysis/blob/master/5.4%20sequence-datatypes-assignment-4.ipynb\" target=\"_parent\"><img src=\"https://colab.research.google.com/assets/colab-badge.svg\" alt=\"Open In Colab\"/></a>"
      ]
    },
    {
      "cell_type": "markdown",
      "id": "8b22e321",
      "metadata": {
        "id": "8b22e321"
      },
      "source": [
        "### Black Friday Data\n",
        "\n",
        "We've compiled lists of the black friday `customer_ids` and `subtotals`, the amount before tax, below"
      ]
    },
    {
      "cell_type": "code",
      "execution_count": 1,
      "id": "8db14e71",
      "metadata": {
        "colab": {
          "base_uri": "https://localhost:8080/"
        },
        "id": "8db14e71",
        "outputId": "f79f756d-34ec-49b1-e2b7-ecf31384883d"
      },
      "outputs": [
        {
          "output_type": "stream",
          "name": "stdout",
          "text": [
            "['C00004', 'C00007', 'C00015', 'C00016', 'C00020', 'C00010', 'C00006', 'C00001', 'C00003', 'C00014', 'C00001', 'C00001', 'C00005', 'C00008', 'C00013', 'C00004', 'C00017', 'C00019', 'C00002', 'C00008', 'C00021', 'C00022', 'C00006', 'C00018', 'C00018', 'C00010', 'C00016']\n",
            "[15.98, 899.97, 799.97, 117.96, 5.99, 599.99, 24.99, 1799.94, 99.99, 254.95, 29.98, 99.99, 25.98, 649.98, 89.99, 119.99, 599.99, 649.98, 24.99, 99.99, 99.99, 5.99, 24.99, 999.96, 99.99, 399.97, 89.99]\n"
          ]
        }
      ],
      "source": [
        "customer_ids = [\n",
        "    'C00004', 'C00007', 'C00015', 'C00016', 'C00020',\n",
        "    'C00010', 'C00006', 'C00001', 'C00003', 'C00014',\n",
        "    'C00001', 'C00001', 'C00005', 'C00008', 'C00013',\n",
        "    'C00004', 'C00017', 'C00019', 'C00002', 'C00008',\n",
        "    'C00021', 'C00022', 'C00006', 'C00018', 'C00018',\n",
        "    'C00010', 'C00016'\n",
        "]\n",
        "\n",
        "subtotals = [\n",
        "    15.98, 899.97, 799.97, 117.96, 5.99,\n",
        "    599.99, 24.99, 1799.94, 99.99, 254.95,\n",
        "    29.98, 99.99, 25.98, 649.98, 89.99,\n",
        "    119.99, 599.99, 649.98, 24.99, 99.99,\n",
        "    99.99, 5.99, 24.99, 999.96, 99.99,\n",
        "    399.97, 89.99\n",
        "]\n",
        "\n",
        "print(customer_ids)\n",
        "\n",
        "print(subtotals)"
      ]
    },
    {
      "cell_type": "markdown",
      "id": "79568666",
      "metadata": {
        "id": "79568666"
      },
      "source": [
        "### Calculate the Average Transaction\n",
        "\n",
        "Calculate the average value of the transactions in the list  `subtotals`.\n",
        "\n",
        "We don't have an average function, so we might need to use sum() and len() to do so. "
      ]
    },
    {
      "cell_type": "code",
      "execution_count": 2,
      "id": "503c3721",
      "metadata": {
        "colab": {
          "base_uri": "https://localhost:8080/"
        },
        "id": "503c3721",
        "outputId": "927c5798-e206-463f-f3d4-4e8daddf5dd7"
      },
      "outputs": [
        {
          "output_type": "stream",
          "name": "stdout",
          "text": [
            "323.3877777777776\n"
          ]
        }
      ],
      "source": [
        "average_transaction = sum(subtotals) / len(subtotals)\n",
        "\n",
        "print(average_transaction)"
      ]
    },
    {
      "cell_type": "markdown",
      "id": "571b0526",
      "metadata": {
        "id": "571b0526"
      },
      "source": [
        "### Customer Deep Dive\n",
        "\n",
        "How many transactions did customer C00010 make?"
      ]
    },
    {
      "cell_type": "code",
      "execution_count": 3,
      "id": "fdf4f742",
      "metadata": {
        "colab": {
          "base_uri": "https://localhost:8080/"
        },
        "id": "fdf4f742",
        "outputId": "5c25e38d-4e9d-4de2-8cbd-95c8df13c2e5"
      },
      "outputs": [
        {
          "output_type": "execute_result",
          "data": {
            "text/plain": [
              "2"
            ]
          },
          "metadata": {},
          "execution_count": 3
        }
      ],
      "source": [
        "customer_ids.count('C00010')"
      ]
    },
    {
      "cell_type": "markdown",
      "id": "8b59bc03",
      "metadata": {
        "id": "8b59bc03"
      },
      "source": [
        "What is the index of customer C00010's first transaction?"
      ]
    },
    {
      "cell_type": "code",
      "execution_count": 6,
      "id": "638cd448",
      "metadata": {
        "colab": {
          "base_uri": "https://localhost:8080/"
        },
        "id": "638cd448",
        "outputId": "aa9b1649-6b06-4fba-b311-ac9b36cdd736"
      },
      "outputs": [
        {
          "output_type": "execute_result",
          "data": {
            "text/plain": [
              "5"
            ]
          },
          "metadata": {},
          "execution_count": 6
        }
      ],
      "source": [
        "customer_ids.index('C00010')"
      ]
    },
    {
      "cell_type": "markdown",
      "id": "54edca61",
      "metadata": {
        "id": "54edca61"
      },
      "source": [
        "What is the revenue of C00010's first transaction? \n",
        "\n",
        "We will need to index `subtotals` using the index returned in the last question."
      ]
    },
    {
      "cell_type": "code",
      "execution_count": 7,
      "id": "a21f8f8f",
      "metadata": {
        "colab": {
          "base_uri": "https://localhost:8080/"
        },
        "id": "a21f8f8f",
        "outputId": "dabf0143-54dc-4f21-aaba-e233663b4dc2"
      },
      "outputs": [
        {
          "output_type": "execute_result",
          "data": {
            "text/plain": [
              "599.99"
            ]
          },
          "metadata": {},
          "execution_count": 7
        }
      ],
      "source": [
        "subtotals[customer_ids.index('C00010')]"
      ]
    },
    {
      "cell_type": "markdown",
      "id": "1112ab2b",
      "metadata": {
        "id": "1112ab2b"
      },
      "source": [
        "### Print a sorted list of customer ID's.\n",
        "\n",
        "We want to scan this to see if any of our loyal customers didn't make a purchase.\n",
        "\n",
        "Don't change `customer_ids` when you sort!"
      ]
    },
    {
      "cell_type": "code",
      "execution_count": 8,
      "id": "01ef8eb7",
      "metadata": {
        "id": "01ef8eb7"
      },
      "outputs": [],
      "source": [
        "customer_ids_sorted = sorted(customer_ids)"
      ]
    },
    {
      "cell_type": "code",
      "execution_count": 9,
      "id": "1dc67585",
      "metadata": {
        "colab": {
          "base_uri": "https://localhost:8080/"
        },
        "id": "1dc67585",
        "outputId": "e5185fb8-f32b-4611-8ee5-cd3de1aed8c3"
      },
      "outputs": [
        {
          "output_type": "execute_result",
          "data": {
            "text/plain": [
              "['C00001',\n",
              " 'C00001',\n",
              " 'C00001',\n",
              " 'C00002',\n",
              " 'C00003',\n",
              " 'C00004',\n",
              " 'C00004',\n",
              " 'C00005',\n",
              " 'C00006',\n",
              " 'C00006',\n",
              " 'C00007',\n",
              " 'C00008',\n",
              " 'C00008',\n",
              " 'C00010',\n",
              " 'C00010',\n",
              " 'C00013',\n",
              " 'C00014',\n",
              " 'C00015',\n",
              " 'C00016',\n",
              " 'C00016',\n",
              " 'C00017',\n",
              " 'C00018',\n",
              " 'C00018',\n",
              " 'C00019',\n",
              " 'C00020',\n",
              " 'C00021',\n",
              " 'C00022']"
            ]
          },
          "metadata": {},
          "execution_count": 9
        }
      ],
      "source": [
        "customer_ids_sorted"
      ]
    }
  ],
  "metadata": {
    "kernelspec": {
      "display_name": "Python 3 (ipykernel)",
      "language": "python",
      "name": "python3"
    },
    "language_info": {
      "codemirror_mode": {
        "name": "ipython",
        "version": 3
      },
      "file_extension": ".py",
      "mimetype": "text/x-python",
      "name": "python",
      "nbconvert_exporter": "python",
      "pygments_lexer": "ipython3",
      "version": "3.9.7"
    },
    "colab": {
      "provenance": [],
      "include_colab_link": true
    }
  },
  "nbformat": 4,
  "nbformat_minor": 5
}